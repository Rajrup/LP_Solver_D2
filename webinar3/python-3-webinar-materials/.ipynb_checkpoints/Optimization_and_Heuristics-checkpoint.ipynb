{
 "cells": [
  {
   "cell_type": "markdown",
   "metadata": {
    "slideshow": {
     "slide_type": "slide"
    }
   },
   "source": [
    "<html>\n",
    "<body style=\"background-image:url(bkg2.png)\">\n",
    "<h1> Python III: Optimization and Heuristics</h1>\n",
    "\n",
    "<h3> Thank you for joining us. We will be starting shortly.</h3>\n",
    "</body>\n",
    "</html>"
   ]
  },
  {
   "cell_type": "markdown",
   "metadata": {
    "slideshow": {
     "slide_type": "subslide"
    }
   },
   "source": [
    "# Welcome to the webinar\n",
    "\n",
    "## Python III: Optimization and Heuristics"
   ]
  },
  {
   "cell_type": "markdown",
   "metadata": {
    "slideshow": {
     "slide_type": "subslide"
    }
   },
   "source": [
    "<html>\n",
    "\n",
    "<h1>Speaker Introduction</h1>\n",
    "<div id=\"container\" style=\"width:100%; float:left;\">\n",
    "<div id=\"left\" style=\"float:left; width:70%;\">\n",
    "<h3>Dr. Daniel Espinoza</h3>\n",
    "<ul>\n",
    "    <li>Senior Developer at Gurobi Optimization<ul>\n",
    "    <li>Expert in Integer Programming, Cutting planes, Modeling and Software Development</li></ul></li>\n",
    "    <li>Ph.D. in Operations Research, Georgia Institute of Technology</li>\n",
    "    <li>Has published several papers on cutting planes, and applications such as Mining, Routing, and Unit Commitment</li>\n",
    "</ul>\n",
    "</div><div id=\"right\" style=\"float:right; width 25%;\">\n",
    "<img src=\"DE2.jpg\" width=160>\n",
    "</div></div>\n",
    "</html>"
   ]
  },
  {
   "cell_type": "markdown",
   "metadata": {
    "slideshow": {
     "slide_type": "subslide"
    }
   },
   "source": [
    "# Thank you for joining us\n",
    "\n",
    "<ul>\n",
    "<li>If you haven’t already done so, please register at http://www.gurobi.com, and then visit http://www.gurobi.com/get-anaconda to try Gurobi and Python for yourself.</li>\n",
    "\n",
    "<li>Look for information on our next Python webinar, Machine Learning and Optimization.</li>\n",
    "\n",
    "<li>For questions about pricing, please contact <span class=\"blue bold\">sales@gurobi.com</span> or <span class=\"blue bold\">sales@gurobi.de</span>.</li>\n",
    "\n",
    "<li>A recording of the webinar, including the slides, will be available in roughly one week.</li>\n",
    "</ul>"
   ]
  },
  {
   "cell_type": "markdown",
   "metadata": {
    "slideshow": {
     "slide_type": "slide"
    }
   },
   "source": [
    "# Python III: Optimization and Heuristics\n",
    "\n",
    "## Getting and Improving Solutions Quickly!"
   ]
  },
  {
   "cell_type": "markdown",
   "metadata": {
    "slideshow": {
     "slide_type": "slide"
    }
   },
   "source": [
    "<html>\n",
    "<body style=\"background-image:url(bkg2.png)\">\n",
    "<h1>Summary</h1>\n",
    "</body>\n",
    "</html>"
   ]
  },
  {
   "cell_type": "markdown",
   "metadata": {
    "slideshow": {
     "slide_type": "fragment"
    }
   },
   "source": [
    "<ul>\n",
    "    <li>The first step</li>\n",
    "    <li>Controlling termination criteria</li>\n",
    "    <li>Using greedy heuristics and MIP Starts</li>\n",
    "    <li>Two simple problems</li>\n",
    "    <li>Thinning out the set of variables</li>\n",
    "    <li>Divide and conquer strategies</li>\n",
    "    <li>Using LP as a guide</li>\n",
    "</ul>"
   ]
  },
  {
   "cell_type": "markdown",
   "metadata": {
    "slideshow": {
     "slide_type": "slide"
    }
   },
   "source": [
    "# The first step\n",
    "\n",
    "### Get a Tight Model\n"
   ]
  },
  {
   "cell_type": "markdown",
   "metadata": {
    "slideshow": {
     "slide_type": "fragment"
    }
   },
   "source": [
    "<ul>\n",
    "    <li>Root LP value as close as possible to optimal MIP</li>\n",
    "    <li>Surprisingly, the best model might not be the smallest one</li>\n",
    "    <li>Consider Cut Callbacks for your problem</li>\n",
    "    <li>If you can not further improve...</li>\n",
    "</ul>"
   ]
  },
  {
   "cell_type": "markdown",
   "metadata": {
    "slideshow": {
     "slide_type": "slide"
    }
   },
   "source": [
    "# Controlling Termination Criteria and MIP Focus"
   ]
  },
  {
   "cell_type": "code",
   "execution_count": 1,
   "metadata": {
    "collapsed": true,
    "slideshow": {
     "slide_type": "fragment"
    }
   },
   "outputs": [],
   "source": [
    "from gurobipy import *\n",
    "m = Model()"
   ]
  },
  {
   "cell_type": "markdown",
   "metadata": {
    "slideshow": {
     "slide_type": "fragment"
    }
   },
   "source": [
    "<ul>\n",
    "    <li>Controlling MIP focus:\n",
    "    <ul>\n",
    "        <li><code>m.setParam('MIPFocus',1)</code>: Focus on finding good solutions</li> \n",
    "        <li><code>m.setParam('MIPFocus',2)</code>: Focus on proving optimality</li>\n",
    "        <li><code>m.setParam('MIPFocus',3)</code>: Focus on improving lower bound</li>\n",
    "        <li><code>m.setParam('Heuristics',0.5)</code> Ask Gurobi to spend about 50% of the time looking for improving solutions</li>\n",
    "    </ul></li>\n",
    " </ul>"
   ]
  },
  {
   "cell_type": "markdown",
   "metadata": {
    "slideshow": {
     "slide_type": "fragment"
    }
   },
   "source": [
    "<ul>\n",
    "    <li>Setting an acceptable proven gap: We can set both a maximum relative or absolute <span class=\"blue bold\">gap</span>\n",
    "    <ul>\n",
    "        <li><code>m.setParam('MIPGap',0.1)</code>: Stop if <span class=\"blue bold\">proven</span> gap is under 10% </li>\n",
    "        <li><code>m.setParam('MIPGapAbs',1.0)</code>: Stop if <span class=\"blue bold\">proven</span> gap is under 1.0</li>\n",
    "        <li><code>m.setParam('Cutoff',maxval)</code>: Don't explore nodes whose LP value is above <code>maxval</code></li>\n",
    "        <li><code>m.setParam('BestObjStop',targetval)</code>: Stop whenever we find a solution with value under <code>targetval</code></li>\n",
    "        <li><code>m.setParam('BestBdStop',relaxval)</code>: Stop whenever the current bound value is above <code>relaxval</code></li>\n",
    "    </ul></li>\n",
    "</ul>"
   ]
  },
  {
   "cell_type": "markdown",
   "metadata": {
    "slideshow": {
     "slide_type": "fragment"
    }
   },
   "source": [
    "<ul>\n",
    "    <li>Limiting how much work to perform during a MIP solve:\n",
    "    <ul>\n",
    "        <li><code>m.setParam('SolutionLimit',5)</code>: Stop after finding <code>5</code> solutions. The larger the number, the better the quality... but longer to find</li>\n",
    "        <li><code>m.setParam('NodeLimit',500)</code>: Stop after exploring <code>500</code> nodes in Branch and Bound</li>\n",
    "        <li><code>m.setParam('IterationLimit',1000000)</code>: Stop after performing <code>1000000</code> simplex iterations</li>\n",
    "        <li><code>m.setParam('TimeLimit',3600)</code>: Stop after an hour of running time</li>\n",
    "    </ul></li>\n",
    "    \n",
    "</ul>"
   ]
  },
  {
   "cell_type": "markdown",
   "metadata": {
    "slideshow": {
     "slide_type": "slide"
    }
   },
   "source": [
    "# Loading Initial Solutions\n",
    "\n",
    "## A Simple Knapsack Example"
   ]
  },
  {
   "cell_type": "code",
   "execution_count": 2,
   "metadata": {
    "collapsed": false,
    "slideshow": {
     "slide_type": "fragment"
    }
   },
   "outputs": [
    {
     "name": "stdout",
     "output_type": "stream",
     "text": [
      "Changed value of parameter mipgap to 0.01\n",
      "   Prev: 0.0001  Min: 0.0  Max: 1e+100  Default: 0.0001\n",
      "Optimize a model with 1 rows, 50 columns and 50 nonzeros\n",
      "Variable types: 0 continuous, 50 integer (50 binary)\n",
      "Coefficient statistics:\n",
      "  Matrix range     [2e+00, 1e+02]\n",
      "  Objective range  [1e+00, 1e+02]\n",
      "  Bounds range     [1e+00, 1e+00]\n",
      "  RHS range        [6e+02, 6e+02]\n",
      "\n",
      "Loaded MIP start with objective 913.1\n",
      "\n",
      "Presolve time: 0.00s\n",
      "Presolved: 1 rows, 50 columns, 50 nonzeros\n",
      "Variable types: 0 continuous, 50 integer (50 binary)\n",
      "\n",
      "Root relaxation: objective 1.538286e+03, 1 iterations, 0.00 seconds\n",
      "\n",
      "    Nodes    |    Current Node    |     Objective Bounds      |     Work\n",
      " Expl Unexpl |  Obj  Depth IntInf | Incumbent    BestBd   Gap | It/Node Time\n",
      "\n",
      "     0     0 1538.28630    0    1  913.10010 1538.28630  68.5%     -    0s\n",
      "H    0     0                    1530.9411829 1538.28630  0.48%     -    0s\n",
      "\n",
      "Explored 1 nodes (1 simplex iterations) in 0.04 seconds\n",
      "Thread count was 4 (of 4 available processors)\n",
      "\n",
      "Solution count 2: 1530.94 913.1 \n",
      "Pool objective bound 1538.29\n",
      "\n",
      "Optimal solution found (tolerance 1.00e-02)\n",
      "Best objective 1.530941182932e+03, best bound 1.538286303123e+03, gap 0.4798%\n"
     ]
    }
   ],
   "source": [
    "from gurobipy import *\n",
    "import numpy as np\n",
    "\n",
    "# Build Data\n",
    "n = 50\n",
    "c = {}\n",
    "w = {}\n",
    "for i in range(n):\n",
    "    c[i] = np.random.uniform(low = 1, high = 100)\n",
    "    w[i] = np.random.uniform(low = 1, high = 100)\n",
    "b = sum(w)/2\n",
    "\n",
    "# Build Model\n",
    "m = Model()\n",
    "x = m.addVars(n, vtype=GRB.BINARY, name='x')\n",
    "m.setObjective(x.prod(c), GRB.MAXIMIZE)\n",
    "m.addConstr(x.prod(w) <= b)\n",
    "m.params.mipgap = 0.01\n",
    "\n",
    "# Build Dumb Initial Solution\n",
    "usedb = 0\n",
    "for i in x:\n",
    "    if usedb + w[i] <= b: #ensure feasibility\n",
    "        x[i].setAttr('Start',1)\n",
    "        usedb += w[i]\n",
    "    else:\n",
    "        x[i].setAttr('Start',0)\n",
    "\n",
    "#optimize\n",
    "m.optimize()"
   ]
  },
  {
   "cell_type": "markdown",
   "metadata": {
    "slideshow": {
     "slide_type": "subslide"
    }
   },
   "source": [
    "## When does it help?"
   ]
  },
  {
   "cell_type": "markdown",
   "metadata": {
    "slideshow": {
     "slide_type": "fragment"
    }
   },
   "source": [
    "<ul>\n",
    "    <li>When initial solution is hard to come by</li>\n",
    "    <li>Relaxation is hard to solve</li>\n",
    "    <li>A quick solution is needed\n",
    "    <ul>\n",
    "        <li>Gurobi (given some time) can improve on starting solution</li>\n",
    "        <li>Helps in pruning search tree</li>\n",
    "    </ul></li>\n",
    "</ul>"
   ]
  },
  {
   "cell_type": "markdown",
   "metadata": {
    "slideshow": {
     "slide_type": "slide"
    }
   },
   "source": [
    "# Two Example Problems"
   ]
  },
  {
   "cell_type": "markdown",
   "metadata": {
    "slideshow": {
     "slide_type": "subslide"
    }
   },
   "source": [
    "# The Traveling Salesman Problem:\n",
    "\n",
    "### George Dantzig 1954 42-city problem Optimal solution\n",
    "\n",
    "<img src=\"dantzig42.png\" width=\"640\">"
   ]
  },
  {
   "cell_type": "markdown",
   "metadata": {
    "slideshow": {
     "slide_type": "fragment"
    }
   },
   "source": [
    "Given a set of <span class=\"blue bold\">cities</span> $N$ to visit, and distances $d_{ij}$ among them, we want to visit them all exactly once, but traveling the smallest distance possible\n",
    "\n",
    "$$\n",
    "\\begin{array}{lll}\n",
    "\\min & \\sum\\limits_{i,j in N} d_{ij} x_{ij}\\\\\n",
    "s.t. & \\sum\\limits_{i in N\\setminus\\{j\\}}x_{ij} = 2 &\\forall j \\in N\\\\\n",
    "     & \\sum\\limits_{i \\in S, j\\notin S} x_{ij} \\geq 2 & \\forall \\emptyset\\neq S\\subsetneq N\n",
    "\\end{array}\n",
    "$$"
   ]
  },
  {
   "cell_type": "markdown",
   "metadata": {
    "slideshow": {
     "slide_type": "subslide"
    }
   },
   "source": [
    "# Open Pit Mining\n",
    "\n",
    "<img src=\"reko2.gif\">"
   ]
  },
  {
   "cell_type": "markdown",
   "metadata": {
    "slideshow": {
     "slide_type": "fragment"
    }
   },
   "source": [
    "## Problem Description and a Mathematical Model\n",
    "\n",
    "We are given a time-span $T_{max}$ for the mine, and a set of <span class=\"blue bold\">Blocks</span> $\\mathcal{B}$ (i.e. pieces) that we could mine.\n",
    "\n",
    "Our objective is to maximize NPV by scheduling <span class=\"blue bold\">when</span> to extract a given block, while ensuring that the pit don't collapse, and using a maximum processing plant capacity, and available truck capacity."
   ]
  },
  {
   "cell_type": "markdown",
   "metadata": {
    "slideshow": {
     "slide_type": "fragment"
    }
   },
   "source": [
    "$$\n",
    "\\begin{array}{lll}\n",
    "\\max & \\sum\\limits_{b\\in \\mathcal{B}, t\\in\\mathcal{T}} c_{b,t} (x_{b,t} - x_{b,t-1})\\\\\n",
    "s.t. & \\sum\\limits_{b\\in \\mathcal{B}} wp_{b}(x_{b,t}-x_{b,t-1}) \\leq Cp_t & \\forall t\\in\\mathcal{T}\\\\\n",
    "     & \\sum\\limits_{b\\in \\mathcal{B}} wt_{b}(x_{b,t}-x_{b,t-1}) \\leq Ct_t & \\forall t\\in\\mathcal{T}\\\\\n",
    "     & x_{b,t} \\leq x_{b,t+1} & \\forall b\\in\\mathcal{B}, t\\in\\mathcal{T}\\\\\n",
    "     & x_{b,t} \\leq x_{b',t} & \\forall b\\in\\mathcal{B}, b'\\in\\mathrm{above}(b), t\\in\\mathcal{T}\\\\\n",
    "     & x_{b,t} \\in \\{0,1\\} & \\forall b\\in\\mathcal{B}, t\\in\\mathcal{T}\n",
    "\\end{array}\n",
    "$$\n",
    "\n",
    "In this formulation $x_{b,t} = 1$ if block $b$ is extracted in time $t$ or before.\n",
    "Also, $\\mathcal{T} = \\{1,\\ldots,T_{max}\\}$, and $\\mathrm{above}(b)$ is the set of <span class=\"blue bold\">precedences</span> of $b$, i.e. those blocks that must be extracted before $b$ can be <span class=\"blue bold\">safely</span> extracted."
   ]
  },
  {
   "cell_type": "markdown",
   "metadata": {
    "slideshow": {
     "slide_type": "subslide"
    }
   },
   "source": [
    "# MIP Starts"
   ]
  },
  {
   "cell_type": "code",
   "execution_count": 3,
   "metadata": {
    "collapsed": false,
    "slideshow": {
     "slide_type": "fragment"
    }
   },
   "outputs": [
    {
     "name": "stdout",
     "output_type": "stream",
     "text": [
      "\n",
      "Solution cost: 302.755 gap 0.00%\n",
      "\n"
     ]
    },
    {
     "data": {
      "image/png": "[encoded data removed]",
      "text/plain": [
       "<matplotlib.figure.Figure at 0x7f93e00e5710>"
      ]
     },
     "metadata": {},
     "output_type": "display_data"
    },
    {
     "name": "stdout",
     "output_type": "stream",
     "text": [
      "Total running time: 0.44\n"
     ]
    }
   ],
   "source": [
    "run tsp2.py 10 -D"
   ]
  },
  {
   "cell_type": "code",
   "execution_count": 4,
   "metadata": {
    "collapsed": false,
    "slideshow": {
     "slide_type": "fragment"
    }
   },
   "outputs": [
    {
     "name": "stdout",
     "output_type": "stream",
     "text": [
      "Changed value of parameter lazyConstraints to 1\n",
      "   Prev: 0  Min: 0  Max: 1  Default: 0\n",
      "Changed value of parameter timelimit to 9.732706308364868\n",
      "   Prev: 1e+100  Min: 0.0  Max: 1e+100  Default: 1e+100\n",
      "Optimize a model with 200 rows, 19900 columns and 39800 nonzeros\n",
      "Variable types: 0 continuous, 19900 integer (19900 binary)\n",
      "Coefficient statistics:\n",
      "  Matrix range     [1e+00, 1e+00]\n",
      "  Objective range  [1e+00, 1e+02]\n",
      "  Bounds range     [1e+00, 1e+00]\n",
      "  RHS range        [2e+00, 2e+00]\n",
      "Presolve time: 0.03s\n",
      "Presolved: 200 rows, 19900 columns, 39800 nonzeros\n",
      "Variable types: 0 continuous, 19900 integer (19900 binary)\n",
      "\n",
      "Root relaxation: objective 1.027079e+03, 281 iterations, 0.01 seconds\n",
      "\n",
      "    Nodes    |    Current Node    |     Objective Bounds      |     Work\n",
      " Expl Unexpl |  Obj  Depth IntInf | Incumbent    BestBd   Gap | It/Node Time\n",
      "\n",
      "     0     0 1027.07914    0   18          - 1027.07914      -     -    0s\n",
      "     0     0 1041.78309    0   20          - 1041.78309      -     -    0s\n",
      "     0     0 1045.11437    0   48          - 1045.11437      -     -    0s\n",
      "     0     0 1046.25747    0   25          - 1046.25747      -     -    0s\n",
      "     0     0 1047.19373    0   16          - 1047.19373      -     -    0s\n",
      "     0     0 1047.19373    0   16          - 1047.19373      -     -    0s\n",
      "     0     2 1051.22705    0   15          - 1051.22705      -     -    1s\n",
      "  1417  1400 1109.47402  335   16          - 1056.61734      -   2.9    5s\n",
      "\n",
      "Cutting planes:\n",
      "  Gomory: 11\n",
      "  Flow cover: 1\n",
      "  Zero half: 5\n",
      "  Lazy constraints: 9\n",
      "\n",
      "Explored 3059 nodes (11167 simplex iterations) in 9.80 seconds\n",
      "Thread count was 4 (of 4 available processors)\n",
      "\n",
      "Solution count 0\n",
      "Pool objective bound 1087.37\n",
      "\n",
      "Time limit reached\n",
      "Best objective -, best bound 1.087370537051e+03, gap -\n",
      "No solution found\n",
      "Total running time: 10.13\n"
     ]
    }
   ],
   "source": [
    "run tsp2.py 200 -v -T 10"
   ]
  },
  {
   "cell_type": "markdown",
   "metadata": {
    "slideshow": {
     "slide_type": "subslide"
    }
   },
   "source": [
    "# Mip Starts\n",
    "\n",
    "A classical <span class=\"blue bold\">construction</span> heuristic for TSP is:\n",
    "<ul>\n",
    "    <li>Label all nodes as <span class=\"blue bold\">unvisited</span></li>\n",
    "    <li>Start from a given node</li>\n",
    "    <li>Mark node as visited</li>\n",
    "    <li>Select next node as closest node to current node</li>\n",
    "    <li>Set current node as new node, <code>repeat</code></li>\n",
    "</ul>"
   ]
  },
  {
   "cell_type": "code",
   "execution_count": 5,
   "metadata": {
    "collapsed": false,
    "slideshow": {
     "slide_type": "fragment"
    }
   },
   "outputs": [
    {
     "name": "stdout",
     "output_type": "stream",
     "text": [
      "Changed value of parameter lazyConstraints to 1\n",
      "   Prev: 0  Min: 0  Max: 1  Default: 0\n",
      "\n",
      "----------------------------------------------------------------------\n",
      "Found feasible solution, value 1186.38 0.09 seconds\n",
      "----------------------------------------------------------------------\n",
      "\n",
      "Changed value of parameter timelimit to 9.75534963607788\n",
      "   Prev: 1e+100  Min: 0.0  Max: 1e+100  Default: 1e+100\n",
      "Optimize a model with 150 rows, 11175 columns and 22350 nonzeros\n",
      "Variable types: 0 continuous, 11175 integer (11175 binary)\n",
      "Coefficient statistics:\n",
      "  Matrix range     [1e+00, 1e+00]\n",
      "  Objective range  [1e+00, 1e+02]\n",
      "  Bounds range     [1e+00, 1e+00]\n",
      "  RHS range        [2e+00, 2e+00]\n",
      "\n",
      "Loaded MIP start with objective 1186.38\n",
      "\n",
      "Presolve time: 0.02s\n",
      "Presolved: 150 rows, 11175 columns, 22350 nonzeros\n",
      "Variable types: 0 continuous, 11175 integer (11175 binary)\n",
      "\n",
      "Root relaxation: objective 9.037753e+02, 222 iterations, 0.01 seconds\n",
      "\n",
      "    Nodes    |    Current Node    |     Objective Bounds      |     Work\n",
      " Expl Unexpl |  Obj  Depth IntInf | Incumbent    BestBd   Gap | It/Node Time\n",
      "\n",
      "     0     0  903.77528    0   24 1186.38228  903.77528  23.8%     -    0s\n",
      "     0     0  929.25829    0   24 1186.38228  929.25829  21.7%     -    0s\n",
      "     0     0  944.55674    0   28 1186.38228  944.55674  20.4%     -    1s\n",
      "     0     0  945.83896    0   29 1186.38228  945.83896  20.3%     -    1s\n",
      "     0     0  946.15475    0   28 1186.38228  946.15475  20.2%     -    1s\n",
      "     0     0  946.15475    0   26 1186.38228  946.15475  20.2%     -    1s\n",
      "     0     2  960.41511    0   10 1186.38228  960.41511  19.0%     -    1s\n",
      "H  669   101                     973.5438871  961.19872  1.27%   5.5    3s\n",
      "\n",
      "Cutting planes:\n",
      "  MIR: 3\n",
      "  Zero half: 15\n",
      "  Lazy constraints: 55\n",
      "\n",
      "Explored 862 nodes (5963 simplex iterations) in 3.34 seconds\n",
      "Thread count was 4 (of 4 available processors)\n",
      "\n",
      "Solution count 2: 973.544 1186.38 \n",
      "Pool objective bound 973.544\n",
      "\n",
      "Optimal solution found (tolerance 1.00e-04)\n",
      "Best objective 9.735438871142e+02, best bound 9.735438871142e+02, gap 0.0000%\n",
      "\n",
      "Solution cost: 973.544 gap 0.00%\n",
      "\n"
     ]
    },
    {
     "data": {
      "image/png": "[encoded data removed]",
      "text/plain": [
       "<matplotlib.figure.Figure at 0x7f93c42dfa58>"
      ]
     },
     "metadata": {},
     "output_type": "display_data"
    },
    {
     "name": "stdout",
     "output_type": "stream",
     "text": [
      "Total running time: 4.34\n"
     ]
    }
   ],
   "source": [
    "run tsp2.py 150 -G -v -T 10 -D"
   ]
  },
  {
   "cell_type": "markdown",
   "metadata": {
    "slideshow": {
     "slide_type": "fragment"
    }
   },
   "source": [
    "Note that we went from no solution in 10 seconds, to an optimal solution in five seconds!"
   ]
  },
  {
   "cell_type": "markdown",
   "metadata": {
    "slideshow": {
     "slide_type": "subslide"
    }
   },
   "source": [
    "# MIP Starts\n",
    "\n",
    "For the case of Open Pit Mining... we can also think of a greedy heuristic\n",
    "<ul>\n",
    "    <li>Starting from time zero</li>\n",
    "    <li>Choose the <span class=\"blue bold\">best</span> block that can be mined and processed in the current period</li>\n",
    "    <li>Update remaining capacities</li>\n",
    "    <li>Repeat until no block can be fit</li>\n",
    "    <li>Move to next time period, and reset remaining capacities</li>\n",
    "    <li>Repeat until last time period</li>\n",
    "</ul>"
   ]
  },
  {
   "cell_type": "code",
   "execution_count": 6,
   "metadata": {
    "collapsed": false,
    "slideshow": {
     "slide_type": "fragment"
    }
   },
   "outputs": [
    {
     "name": "stdout",
     "output_type": "stream",
     "text": [
      "----------------------------------------------------------------------\n",
      "Building grid blocks ... done (2475 added)\n",
      "Add variables and objective function ... done (added 27225 vars obj range [-2.04153,3.21264])\n",
      "Adding precedences ... done (added 141900 precedences)\n",
      "Adding knapsack capacities ... done (added 22 knapsack)\n",
      "Changed value of parameter timelimit to 5.047762632369995\n",
      "   Prev: 1e+100  Min: 0.0  Max: 1e+100  Default: 1e+100\n",
      "----------------------------------------------------------------------\n",
      "Model Stats:\n",
      "\n",
      "Statistics for model Unnamed :\n",
      "  Linear constraint matrix    : 141922 Constrs, 27225 Vars, 350370 NZs\n",
      "  Variable types              : 0 Continuous, 27225 Integer (27225 Binary)\n",
      "  Matrix coefficient range    : [ 0.900027, 1.09997 ]\n",
      "  Objective coefficient range : [ 5.46781e-05, 0.794114 ]\n",
      "  Variable bound range        : [ 1, 1 ]\n",
      "  RHS coefficient range       : [ 85.2273, 102.273 ]\n",
      "Model bound: 10000000000000000159028911097599180468360808563945281389781327557747838772170381060813469985856815104.000, Best Sol: 41.511 Gap 100.00%\n",
      "----------------------------------------------------------------------\n",
      "Solution Detail:\n",
      "            Obj       Obj%      Truck      Plant  Blocks\n",
      "Time                                                    \n",
      "0      0.000000   0.000000   0.000000   0.000000       0\n",
      "1      0.000000   0.000000   0.000000   0.000000       0\n",
      "2      0.000000   0.000000   0.000000   0.000000       0\n",
      "3      0.000000   0.000000   0.000000   0.000000       0\n",
      "4      0.000000   0.000000   0.000000   0.000000       0\n",
      "5      0.000000   0.000000   0.000000   0.000000       0\n",
      "6      3.502522   8.437493  14.742287  14.742287      15\n",
      "7     12.354400  29.761457  75.646953  75.646953      76\n",
      "8      9.977910  24.036548  67.662703  67.662703      67\n",
      "9      6.704437  16.150830  47.987010  47.987010      48\n",
      "10     8.972140  21.613673  74.882512  74.882512      74\n",
      "Capacities: 102.273 85.2273 Blocks: 2475 Time Periods: 11\n",
      "Total Running time: 8.15\n"
     ]
    }
   ],
   "source": [
    "run mining.py -Z15 -T8 -v"
   ]
  },
  {
   "cell_type": "markdown",
   "metadata": {
    "slideshow": {
     "slide_type": "subslide"
    }
   },
   "source": [
    "## Using Greedy\n",
    "\n",
    "What if we enable our greedy heuristic?"
   ]
  },
  {
   "cell_type": "code",
   "execution_count": 7,
   "metadata": {
    "collapsed": false,
    "slideshow": {
     "slide_type": "fragment"
    }
   },
   "outputs": [
    {
     "name": "stdout",
     "output_type": "stream",
     "text": [
      "----------------------------------------------------------------------\n",
      "Building grid blocks ... done (2475 added)\n",
      "Add variables and objective function ... done (added 27225 vars obj range [-2.04153,3.21264])\n",
      "Adding precedences ... done (added 141900 precedences)\n",
      "Adding knapsack capacities ... done (added 22 knapsack)\n",
      "Building solution ... \n",
      "----------------------------------------------------------------------\n",
      "Greedy Heuristic done, value 245.717\n",
      "----------------------------------------------------------------------\n",
      "\n",
      "Changed value of parameter timelimit to 4.916443824768066\n",
      "   Prev: 1e+100  Min: 0.0  Max: 1e+100  Default: 1e+100\n",
      "----------------------------------------------------------------------\n",
      "Model Stats:\n",
      "\n",
      "Statistics for model Unnamed :\n",
      "  Linear constraint matrix    : 141922 Constrs, 27225 Vars, 350370 NZs\n",
      "  Variable types              : 0 Continuous, 27225 Integer (27225 Binary)\n",
      "  Matrix coefficient range    : [ 0.900027, 1.09997 ]\n",
      "  Objective coefficient range : [ 5.46781e-05, 0.794114 ]\n",
      "  Variable bound range        : [ 1, 1 ]\n",
      "  RHS coefficient range       : [ 85.2273, 102.273 ]\n",
      "Model bound: 10000000000000000159028911097599180468360808563945281389781327557747838772170381060813469985856815104.000, Best Sol: 245.717 Gap 100.00%\n",
      "----------------------------------------------------------------------\n",
      "Solution Detail:\n",
      "            Obj       Obj%       Truck      Plant  Blocks\n",
      "Time                                                     \n",
      "0     84.019498  34.193634   85.133601  85.133601      85\n",
      "1     54.885808  22.337020   84.334367  84.334367      85\n",
      "2     39.948524  16.257955   84.571557  84.571557      84\n",
      "3     30.813484  12.540244   84.609572  84.609572      85\n",
      "4     16.952605   6.899246   85.206647  85.206647      84\n",
      "5     15.945150   6.489239   85.057926  85.057926      86\n",
      "6      4.944476   2.012266   94.946464  84.875545      95\n",
      "7      5.401804   2.198386  101.924931  35.313149     101\n",
      "8     -0.138887  -0.056523  102.108060  22.842999     103\n",
      "9     -1.915422  -0.779524  101.445258  20.179300     101\n",
      "10    -5.140251  -2.091941   94.116270   5.898146      94\n",
      "Capacities: 102.273 85.2273 Blocks: 2475 Time Periods: 11\n",
      "Total Running time: 8.17\n"
     ]
    }
   ],
   "source": [
    "run mining.py -Z15 -T8 -Gv"
   ]
  },
  {
   "cell_type": "markdown",
   "metadata": {
    "slideshow": {
     "slide_type": "subslide"
    }
   },
   "source": [
    "\n",
    "# What happened?\n",
    "\n",
    "<ul>\n",
    "    <li>The first Gurobi solution is very weak for this problem... it starts at the last time period</li>\n",
    "    <li>Our greedy heuristic seems to be using <span class=\"blue bold\">useless</span> blocks</li>\n",
    "</ul>"
   ]
  },
  {
   "cell_type": "markdown",
   "metadata": {
    "slideshow": {
     "slide_type": "fragment"
    }
   },
   "source": [
    "<ul>\n",
    "    <li>Shouldn't Gurobi somehow handle that?\n",
    "    <ul>\n",
    "        <li>Pre-processing helps on that</li>\n",
    "        <li>Having an good LP-relaxation also helps</li>\n",
    "        <li>...But it's not magic</li>\n",
    "        <li>If you know something about your variables (and the problem is getting hard)... you should use it</li>\n",
    "    </ul></li>\n",
    "</ul>"
   ]
  },
  {
   "cell_type": "markdown",
   "metadata": {
    "slideshow": {
     "slide_type": "slide"
    }
   },
   "source": [
    "# Thinning out the set of variables"
   ]
  },
  {
   "cell_type": "markdown",
   "metadata": {
    "slideshow": {
     "slide_type": "fragment"
    }
   },
   "source": [
    "<ul>\n",
    "    <li>In the case of TSP:\n",
    "    <ul>\n",
    "        <li><span class=\"blue bold\">Probably</span> edges that are too long will not be part of any optimal solution</li>\n",
    "        <li><code>for x in vars.keys() if vars[x].getAttr('Obj') > max_dist:\n",
    "  vars[x].setAttr('Ub',0)</code>\n",
    "        <li>Must guess a reasonable value... (but LP can help, use reduced costs)</li>\n",
    "    </ul></li>\n",
    "</ul>\n"
   ]
  },
  {
   "cell_type": "markdown",
   "metadata": {
    "slideshow": {
     "slide_type": "fragment"
    }
   },
   "source": [
    "<ul>\n",
    "    <li>In the case of Open Pit Mining:\n",
    "    <ul>\n",
    "        <li>By the nature of the problem, many blocks are just filling in</li>\n",
    "        <li>e.g. If a block is at the <span class=\"blue bold\">bottom</span> of the mine, and has a negative value, you will <span class=\"blue bold\">never</span> mine it</li>\n",
    "        <li>The previous procedure can be done recursively</li>\n",
    "        <li>Use other knowledge:\n",
    "        <ul>\n",
    "            <li>By integrality, to mine a block, blocks above it must also be mined</li>\n",
    "            <li>This induces a minimum extraction time</li>\n",
    "        </ul></li>\n",
    "    </ul></li>\n",
    "</ul>"
   ]
  },
  {
   "cell_type": "markdown",
   "metadata": {
    "slideshow": {
     "slide_type": "fragment"
    }
   },
   "source": [
    "<ul>\n",
    "    <li>Gurobi does a lot... but</li>\n",
    "</ul>"
   ]
  },
  {
   "cell_type": "code",
   "execution_count": 8,
   "metadata": {
    "collapsed": false,
    "slideshow": {
     "slide_type": "fragment"
    }
   },
   "outputs": [
    {
     "name": "stdout",
     "output_type": "stream",
     "text": [
      "----------------------------------------------------------------------\n",
      "Building grid blocks ... done (2475 added)\n",
      "Add variables and objective function ... done (added 27225 vars obj range [-2.04153,3.21264])\n",
      "Adding precedences ... done (added 141900 precedences)\n",
      "Adding knapsack capacities ... done (added 22 knapsack)\n",
      "Changed value of parameter timelimit to 5.114270925521851\n",
      "   Prev: 1e+100  Min: 0.0  Max: 1e+100  Default: 1e+100\n",
      "----------------------------------------------------------------------\n",
      "Model Stats:\n",
      "\n",
      "Statistics for model Unnamed :\n",
      "  Linear constraint matrix    : 141922 Constrs, 27225 Vars, 350370 NZs\n",
      "  Variable types              : 0 Continuous, 27225 Integer (27225 Binary)\n",
      "  Matrix coefficient range    : [ 0.900027, 1.09997 ]\n",
      "  Objective coefficient range : [ 5.46781e-05, 0.794114 ]\n",
      "  Variable bound range        : [ 1, 1 ]\n",
      "  RHS coefficient range       : [ 85.2273, 102.273 ]\n",
      "Problem not optimized\n",
      "Total Running time: 2.92\n"
     ]
    }
   ],
   "source": [
    "run mining.py -Z15 -T8 -O0"
   ]
  },
  {
   "cell_type": "code",
   "execution_count": 9,
   "metadata": {
    "collapsed": false,
    "slideshow": {
     "slide_type": "fragment"
    }
   },
   "outputs": [
    {
     "name": "stdout",
     "output_type": "stream",
     "text": [
      "----------------------------------------------------------------------\n",
      "Building grid blocks ... done (2475 added)\n",
      "Preprocessing removed 1551 blocks 17061 vars\n",
      "Remove 240 time-blocks\n",
      "Add variables and objective function ... done (added 9924 vars obj range [-0.493992,3.21264])\n",
      "Adding precedences ... done (added 46564 precedences)\n",
      "Adding knapsack capacities ... done (added 22 knapsack)\n",
      "Changed value of parameter timelimit to 6.642629861831665\n",
      "   Prev: 1e+100  Min: 0.0  Max: 1e+100  Default: 1e+100\n",
      "----------------------------------------------------------------------\n",
      "Model Stats:\n",
      "\n",
      "Statistics for model Unnamed :\n",
      "  Linear constraint matrix    : 46586 Constrs, 9924 Vars, 126275 NZs\n",
      "  Variable types              : 0 Continuous, 9924 Integer (9924 Binary)\n",
      "  Matrix coefficient range    : [ 0.900027, 1.09997 ]\n",
      "  Objective coefficient range : [ 5.46781e-05, 0.794114 ]\n",
      "  Variable bound range        : [ 1, 1 ]\n",
      "  RHS coefficient range       : [ 85.2273, 102.273 ]\n",
      "Problem not optimized\n",
      "Total Running time: 1.39\n"
     ]
    }
   ],
   "source": [
    "run mining.py -Z15 -T8 -O0 -P"
   ]
  },
  {
   "cell_type": "markdown",
   "metadata": {
    "slideshow": {
     "slide_type": "fragment"
    }
   },
   "source": [
    "We went from <span class=\"red\">141,922</span> constraints and <span class=\"red\">27,225</span> variables to <span class=\"blue\">46,586</span> constraints and <span class=\"blue\">9,924</span> variables!"
   ]
  },
  {
   "cell_type": "markdown",
   "metadata": {
    "slideshow": {
     "slide_type": "fragment"
    }
   },
   "source": [
    "And what happen now with our greedy heuristic?"
   ]
  },
  {
   "cell_type": "code",
   "execution_count": 10,
   "metadata": {
    "collapsed": false,
    "slideshow": {
     "slide_type": "fragment"
    }
   },
   "outputs": [
    {
     "name": "stdout",
     "output_type": "stream",
     "text": [
      "----------------------------------------------------------------------\n",
      "Building grid blocks ... done (2475 added)\n",
      "Preprocessing removed 1551 blocks 17061 vars\n",
      "Remove 240 time-blocks\n",
      "Add variables and objective function ... done (added 9924 vars obj range [-0.493992,3.21264])\n",
      "Adding precedences ... done (added 46564 precedences)\n",
      "Adding knapsack capacities ... done (added 22 knapsack)\n",
      "Building solution ... \n",
      "----------------------------------------------------------------------\n",
      "Greedy Heuristic done, value 248.865\n",
      "----------------------------------------------------------------------\n",
      "\n",
      "Changed value of parameter timelimit to 6.6434080600738525\n",
      "   Prev: 1e+100  Min: 0.0  Max: 1e+100  Default: 1e+100\n",
      "----------------------------------------------------------------------\n",
      "Model Stats:\n",
      "\n",
      "Statistics for model Unnamed :\n",
      "  Linear constraint matrix    : 46586 Constrs, 9924 Vars, 126275 NZs\n",
      "  Variable types              : 0 Continuous, 9924 Integer (9924 Binary)\n",
      "  Matrix coefficient range    : [ 0.900027, 1.09997 ]\n",
      "  Objective coefficient range : [ 5.46781e-05, 0.794114 ]\n",
      "  Variable bound range        : [ 1, 1 ]\n",
      "  RHS coefficient range       : [ 85.2273, 102.273 ]\n",
      "Model bound: 263.485, Best Sol: 262.889 Gap 0.23%\n",
      "----------------------------------------------------------------------\n",
      "Solution Detail:\n",
      "            Obj       Obj%       Truck      Plant  Blocks\n",
      "Time                                                     \n",
      "0     86.005656  32.715586   85.214306  85.214306      85\n",
      "1     58.852569  22.386857   85.215490  85.215490      85\n",
      "2     42.195165  16.050567   85.192444  85.192444      85\n",
      "3     30.619364  11.647263   85.155109  85.155109      85\n",
      "4     20.548666   7.816482   85.179523  85.179523      85\n",
      "5     13.890516   5.283796   98.926689  84.950912      99\n",
      "6      7.184707   2.732982   91.093502  85.137416      91\n",
      "7      2.948951   1.121748  101.404924  52.423606     101\n",
      "8      0.643342   0.244720   39.291417  21.516107      39\n",
      "9      0.000000   0.000000    0.000000   0.000000       0\n",
      "10     0.000000   0.000000    0.000000   0.000000       0\n",
      "Capacities: 102.273 85.2273 Blocks: 924 Time Periods: 11\n",
      "Total Running time: 7.35\n"
     ]
    }
   ],
   "source": [
    "run mining.py -Z15 -T8 -PGv"
   ]
  },
  {
   "cell_type": "markdown",
   "metadata": {
    "slideshow": {
     "slide_type": "slide"
    }
   },
   "source": [
    "# Divide and Conquer Strategies\n",
    "\n",
    "## AKA MIP in Local Search"
   ]
  },
  {
   "cell_type": "markdown",
   "metadata": {
    "slideshow": {
     "slide_type": "fragment"
    }
   },
   "source": [
    "Why would it make sense?\n",
    "<ul>\n",
    "    <li>Problems get harder as they grow, the reverse is also true</li>\n",
    "    <li>If problem has natural <span class=\"blue bold\">pieces</span> we can search in parallel!</li>\n",
    "</ul>"
   ]
  },
  {
   "cell_type": "markdown",
   "metadata": {
    "slideshow": {
     "slide_type": "fragment"
    }
   },
   "source": [
    "<ul>\n",
    "    <li>In the case of the TSP:<ul>\n",
    "        <li>Each tour segment, of any length, can be used as a partition</li>\n",
    "        <li>Can work on <span class=\"blue bold\">geometric</span> partitions of the points too</li>\n",
    "    </ul></li>\n",
    "</ul>"
   ]
  },
  {
   "cell_type": "markdown",
   "metadata": {
    "slideshow": {
     "slide_type": "fragment"
    }
   },
   "source": [
    "<ul>\n",
    "    <li>In the case of the Open Pit:<ul>\n",
    "        <li>Each time period is a natural partition</li>\n",
    "        <li>Can use groups of consecutive time periods</li>\n",
    "    </ul></li>\n",
    "</ul>"
   ]
  },
  {
   "cell_type": "markdown",
   "metadata": {
    "slideshow": {
     "slide_type": "fragment"
    }
   },
   "source": [
    "<ul>\n",
    "    <li>In unit commitment/machine scheduling you can partition by machine and/or time</li>\n",
    "    <li>We only need a feasible solution <code>Xo</code> and a <code>subset</code> of the variables:\n",
    "    <code>\n",
    "for x in vars.keys() if not in subset:\n",
    "    vars[x].setAttr('LB',Xo[x])\n",
    "    vars[x].setAttr('UB',Xo[x])\n",
    "    </code>\n",
    "    </li>\n",
    "    <li>And then, optimize resulting problem</li>\n",
    "</ul>"
   ]
  },
  {
   "cell_type": "markdown",
   "metadata": {
    "slideshow": {
     "slide_type": "subslide"
    }
   },
   "source": [
    "# Divide and Conquer Strategies\n",
    "\n",
    "## AKA MIP in Local Search"
   ]
  },
  {
   "cell_type": "code",
   "execution_count": 11,
   "metadata": {
    "collapsed": false,
    "slideshow": {
     "slide_type": "fragment"
    }
   },
   "outputs": [
    {
     "name": "stdout",
     "output_type": "stream",
     "text": [
      "\n",
      "----------------------------------------------------------------------\n",
      "Found feasible solution, value 1035.03 0.04 seconds\n",
      "----------------------------------------------------------------------\n",
      "\n",
      "Improve solution 1029.41 0.26 seconds\n",
      "Improve solution 1028.32 0.85 seconds\n",
      "Improve solution 1028.14 3.53 seconds\n",
      "Improve solution 1027.59 4.76 seconds\n",
      "Improve solution 1025.29 5.92 seconds\n",
      "Improve solution 1016.4 7.72 seconds\n",
      "Improve solution 1010.87 8.00 seconds\n",
      "\n",
      "----------------------------------------------------------------------\n",
      "Final solution 1010.87 subproblems 100 optimal 100 timelimit 0 8.30 seconds\n",
      "----------------------------------------------------------------------\n",
      "\n",
      "No solution found\n",
      "Total running time: 8.48\n"
     ]
    }
   ],
   "source": [
    "run tsp2.py 100 -GI -S5 -D -O0"
   ]
  },
  {
   "cell_type": "code",
   "execution_count": 12,
   "metadata": {
    "collapsed": false,
    "slideshow": {
     "slide_type": "fragment"
    }
   },
   "outputs": [
    {
     "name": "stdout",
     "output_type": "stream",
     "text": [
      "----------------------------------------------------------------------\n",
      "Building grid blocks ... done (2475 added)\n",
      "Preprocessing removed 1551 blocks 17061 vars\n",
      "Remove 240 time-blocks\n",
      "Add variables and objective function ... done (added 9924 vars obj range [-0.493992,3.21264])\n",
      "Adding precedences ... done (added 46564 precedences)\n",
      "Adding knapsack capacities ... done (added 22 knapsack)\n",
      "Building solution ... \n",
      "Moving to time 1 obj 83.3105 capacity 82.85% 99.41% \n",
      "Moving to time 2 obj 137.653 capacity 82.45% 98.93% \n",
      "Moving to time 3 obj 178.359 capacity 83.22% 99.86% \n",
      "Moving to time 4 obj 208.876 capacity 82.38% 98.85% \n",
      "Moving to time 5 obj 226.194 capacity 82.80% 99.36% \n",
      "Moving to time 6 obj 242.129 capacity 83.12% 99.74% \n",
      "Moving to time 7 obj 246.936 capacity 86.69% 99.29% \n",
      "Moving to time 8 obj 253.703 capacity 99.18% 53.45% \n",
      "Moving to time 9 obj 254.575 capacity 99.63% 33.55% \n",
      "Moving to time 10 obj 250.483 capacity 99.68% 30.34% \n",
      "\n",
      "----------------------------------------------------------------------\n",
      "Greedy Heuristic done, value 248.865\n",
      "----------------------------------------------------------------------\n",
      "\n",
      "Parameter Method unchanged\n",
      "   Value: -1  Min: -1  Max: 4  Default: -1\n",
      "Changed value of parameter BestBdStop to -1e+30\n",
      "   Prev: 1e+100  Min: -1e+100  Max: 1e+100  Default: 1e+100\n",
      "Changed value of parameter NodeLimit to 100.0\n",
      "   Prev: 1e+100  Min: 0.0  Max: 1e+100  Default: 1e+100\n",
      "Changed value of parameter MIPGap to 0.005\n",
      "   Prev: 0.0001  Min: 0.0  Max: 1e+100  Default: 0.0001\n",
      "----------------------------------------------------------------------\n",
      "Start Local Search Heuristic:\n",
      "Improved solution value 251.709, Period 1, 1.90 seconds\n",
      "Improved solution value 252.725, Period 2, 2.20 seconds\n",
      "Improved solution value 254.463, Period 4, 2.67 seconds\n",
      "Improved solution value 255.632, Period 7, 3.45 seconds\n",
      "Improved solution value 262.587, Period 8, 3.63 seconds\n",
      "\n",
      "----------------------------------------------------------------------\n",
      "Local Search Heuristic ended with value 262.587\n",
      "----------------------------------------------------------------------\n",
      "\n",
      "Parameter timelimit unchanged\n",
      "   Value: 1e+100  Min: 0.0  Max: 1e+100  Default: 1e+100\n",
      "----------------------------------------------------------------------\n",
      "Model Stats:\n",
      "\n",
      "Statistics for model Unnamed :\n",
      "  Linear constraint matrix    : 46586 Constrs, 9924 Vars, 126275 NZs\n",
      "  Variable types              : 0 Continuous, 9924 Integer (9924 Binary)\n",
      "  Matrix coefficient range    : [ 0.900027, 1.09997 ]\n",
      "  Objective coefficient range : [ 5.46781e-05, 0.794114 ]\n",
      "  Variable bound range        : [ 1, 1 ]\n",
      "  RHS coefficient range       : [ 85.2273, 102.273 ]\n",
      "Problem not optimized\n",
      "Total Running time: 5.83\n"
     ]
    }
   ],
   "source": [
    "run mining.py -Z15 -PGIvv -O0"
   ]
  },
  {
   "cell_type": "markdown",
   "metadata": {
    "collapsed": true,
    "slideshow": {
     "slide_type": "subslide"
    }
   },
   "source": [
    "# Divide and Conquer Strategies"
   ]
  },
  {
   "cell_type": "markdown",
   "metadata": {
    "slideshow": {
     "slide_type": "fragment"
    }
   },
   "source": [
    "Note that in any local search heuristic, we have a controlling parameter, which handles the size of the <span class=\"blue bold\">neighborhood</span> where we will loop for better solutions."
   ]
  },
  {
   "cell_type": "markdown",
   "metadata": {
    "slideshow": {
     "slide_type": "fragment"
    }
   },
   "source": [
    "<ul>\n",
    "    <li>In the case of the TSP: The length of the sub-segment to optimize</li>\n",
    "    <li>Or the number of cities in a region to consider</li>\n",
    "    <li>In the case of Open Pit Mining: The number of consecutive time periods to re-optimize</li>\n",
    "</ul>"
   ]
  },
  {
   "cell_type": "markdown",
   "metadata": {
    "slideshow": {
     "slide_type": "fragment"
    }
   },
   "source": [
    "### The Trade Off\n",
    "<ul>\n",
    "    <li>The larger the neighborhood, the better the final solution</li>\n",
    "    <li>The smaller the neighborhood, the faster the optimization process</li>\n",
    "</ul>"
   ]
  },
  {
   "cell_type": "markdown",
   "metadata": {
    "slideshow": {
     "slide_type": "subslide"
    }
   },
   "source": [
    "# Divide and Conquer Strategies"
   ]
  },
  {
   "cell_type": "markdown",
   "metadata": {
    "slideshow": {
     "slide_type": "fragment"
    }
   },
   "source": [
    "### In the TSP:"
   ]
  },
  {
   "cell_type": "code",
   "execution_count": 13,
   "metadata": {
    "collapsed": false,
    "slideshow": {
     "slide_type": "fragment"
    }
   },
   "outputs": [
    {
     "name": "stdout",
     "output_type": "stream",
     "text": [
      "\n",
      "----------------------------------------------------------------------\n",
      "Found feasible solution, value 1035.03 0.04 seconds\n",
      "----------------------------------------------------------------------\n",
      "\n",
      "Improve solution 1029.41 0.25 seconds\n",
      "Improve solution 1028.32 0.85 seconds\n",
      "Improve solution 1028.14 3.56 seconds\n",
      "Improve solution 1027.59 4.80 seconds\n",
      "Improve solution 1025.29 5.97 seconds\n",
      "Improve solution 1016.4 7.80 seconds\n",
      "Improve solution 1010.87 8.09 seconds\n",
      "\n",
      "----------------------------------------------------------------------\n",
      "Final solution 1010.87 subproblems 100 optimal 100 timelimit 0 8.39 seconds\n",
      "----------------------------------------------------------------------\n",
      "\n",
      "No solution found\n",
      "Total running time: 8.54\n"
     ]
    }
   ],
   "source": [
    "run tsp2.py 100 -GI -S5 -O0"
   ]
  },
  {
   "cell_type": "code",
   "execution_count": 14,
   "metadata": {
    "collapsed": false,
    "slideshow": {
     "slide_type": "fragment"
    }
   },
   "outputs": [
    {
     "name": "stdout",
     "output_type": "stream",
     "text": [
      "\n",
      "----------------------------------------------------------------------\n",
      "Found feasible solution, value 1035.03 0.04 seconds\n",
      "----------------------------------------------------------------------\n",
      "\n",
      "Improve solution 1033.94 0.08 seconds\n",
      "Improve solution 1028.32 0.28 seconds\n",
      "Improve solution 1021.15 0.99 seconds\n",
      "Improve solution 1020.97 3.65 seconds\n",
      "Improve solution 1020.42 4.87 seconds\n",
      "Improve solution 1012.15 6.01 seconds\n",
      "Improve solution 997.678 7.85 seconds\n",
      "Improve solution 992.142 8.16 seconds\n",
      "Improve solution 990.849 8.45 seconds\n",
      "\n",
      "----------------------------------------------------------------------\n",
      "Final solution 990.849 subproblems 100 optimal 100 timelimit 0 8.51 seconds\n",
      "----------------------------------------------------------------------\n",
      "\n",
      "No solution found\n",
      "Total running time: 8.67\n"
     ]
    }
   ],
   "source": [
    "run tsp2.py 100 -GI -S10 -O0"
   ]
  },
  {
   "cell_type": "markdown",
   "metadata": {
    "slideshow": {
     "slide_type": "subslide"
    }
   },
   "source": [
    "### Something similar in the Open Pit Problem"
   ]
  },
  {
   "cell_type": "code",
   "execution_count": 15,
   "metadata": {
    "collapsed": false,
    "slideshow": {
     "slide_type": "fragment"
    }
   },
   "outputs": [
    {
     "name": "stdout",
     "output_type": "stream",
     "text": [
      "----------------------------------------------------------------------\n",
      "Building grid blocks ... done (6000 added)\n",
      "Preprocessing removed 3647 blocks 54705 vars\n",
      "Remove 957 time-blocks\n",
      "Add variables and objective function ... done (added 34338 vars obj range [-0.540716,3.49352])\n",
      "Adding precedences ... done (added 172460 precedences)\n",
      "Adding knapsack capacities ... done (added 30 knapsack)\n",
      "Building solution ... \n",
      "Moving to time 1 obj 156.228 capacity 82.88% 99.46% \n",
      "Moving to time 2 obj 260.232 capacity 83.28% 99.93% \n",
      "Moving to time 3 obj 341.948 capacity 83.05% 99.66% \n",
      "Moving to time 4 obj 407.557 capacity 82.92% 99.50% \n",
      "Moving to time 5 obj 457.922 capacity 83.16% 99.79% \n",
      "Moving to time 6 obj 491.786 capacity 83.04% 99.65% \n",
      "Moving to time 7 obj 519.372 capacity 83.32% 99.99% \n",
      "Moving to time 8 obj 538.921 capacity 82.93% 99.51% \n",
      "Moving to time 9 obj 549.035 capacity 83.31% 99.97% \n",
      "Moving to time 10 obj 557.435 capacity 82.82% 99.38% \n",
      "Moving to time 11 obj 562.286 capacity 99.85% 50.46% \n",
      "Moving to time 12 obj 566.947 capacity 99.70% 47.83% \n",
      "Moving to time 13 obj 566.499 capacity 99.79% 32.09% \n",
      "Moving to time 14 obj 562.716 capacity 99.65% 29.52% \n",
      "\n",
      "----------------------------------------------------------------------\n",
      "Greedy Heuristic done, value 558.022\n",
      "----------------------------------------------------------------------\n",
      "\n",
      "Parameter Method unchanged\n",
      "   Value: -1  Min: -1  Max: 4  Default: -1\n",
      "Changed value of parameter BestBdStop to -1e+30\n",
      "   Prev: 1e+100  Min: -1e+100  Max: 1e+100  Default: 1e+100\n",
      "Changed value of parameter NodeLimit to 100.0\n",
      "   Prev: 1e+100  Min: 0.0  Max: 1e+100  Default: 1e+100\n",
      "Changed value of parameter MIPGap to 0.005\n",
      "   Prev: 0.0001  Min: 0.0  Max: 1e+100  Default: 0.0001\n",
      "----------------------------------------------------------------------\n",
      "Start Local Search Heuristic:\n",
      "Improved solution value 563.15, Period 1, 7.21 seconds\n",
      "Improved solution value 565.764, Period 3, 8.35 seconds\n",
      "Improved solution value 568.939, Period 5, 9.47 seconds\n",
      "Improved solution value 572.397, Period 8, 11.12 seconds\n",
      "Improved solution value 583.37, Period 13, 14.31 seconds\n",
      "\n",
      "----------------------------------------------------------------------\n",
      "Local Search Heuristic ended with value 583.37\n",
      "----------------------------------------------------------------------\n",
      "\n",
      "Parameter timelimit unchanged\n",
      "   Value: 1e+100  Min: 0.0  Max: 1e+100  Default: 1e+100\n",
      "----------------------------------------------------------------------\n",
      "Model Stats:\n",
      "\n",
      "Statistics for model Unnamed :\n",
      "  Linear constraint matrix    : 172490 Constrs, 34338 Vars, 461318 NZs\n",
      "  Variable types              : 0 Continuous, 34338 Integer (34338 Binary)\n",
      "  Matrix coefficient range    : [ 0.900033, 1.09984 ]\n",
      "  Objective coefficient range : [ 4.48386e-07, 0.493735 ]\n",
      "  Variable bound range        : [ 1, 1 ]\n",
      "  RHS coefficient range       : [ 151.515, 181.818 ]\n",
      "Problem not optimized\n",
      "Total Running time: 22.49\n"
     ]
    }
   ],
   "source": [
    "run mining.py -PGIvv -O0 -S2 -Z20"
   ]
  },
  {
   "cell_type": "code",
   "execution_count": 16,
   "metadata": {
    "collapsed": false,
    "slideshow": {
     "slide_type": "fragment"
    }
   },
   "outputs": [
    {
     "name": "stdout",
     "output_type": "stream",
     "text": [
      "----------------------------------------------------------------------\n",
      "Building grid blocks ... done (6000 added)\n",
      "Preprocessing removed 3647 blocks 54705 vars\n",
      "Remove 957 time-blocks\n",
      "Add variables and objective function ... done (added 34338 vars obj range [-0.540716,3.49352])\n",
      "Adding precedences ... done (added 172460 precedences)\n",
      "Adding knapsack capacities ... done (added 30 knapsack)\n",
      "Building solution ... \n",
      "Moving to time 1 obj 156.228 capacity 82.88% 99.46% \n",
      "Moving to time 2 obj 260.232 capacity 83.28% 99.93% \n",
      "Moving to time 3 obj 341.948 capacity 83.05% 99.66% \n",
      "Moving to time 4 obj 407.557 capacity 82.92% 99.50% \n",
      "Moving to time 5 obj 457.922 capacity 83.16% 99.79% \n",
      "Moving to time 6 obj 491.786 capacity 83.04% 99.65% \n",
      "Moving to time 7 obj 519.372 capacity 83.32% 99.99% \n",
      "Moving to time 8 obj 538.921 capacity 82.93% 99.51% \n",
      "Moving to time 9 obj 549.035 capacity 83.31% 99.97% \n",
      "Moving to time 10 obj 557.435 capacity 82.82% 99.38% \n",
      "Moving to time 11 obj 562.286 capacity 99.85% 50.46% \n",
      "Moving to time 12 obj 566.947 capacity 99.70% 47.83% \n",
      "Moving to time 13 obj 566.499 capacity 99.79% 32.09% \n",
      "Moving to time 14 obj 562.716 capacity 99.65% 29.52% \n",
      "\n",
      "----------------------------------------------------------------------\n",
      "Greedy Heuristic done, value 558.022\n",
      "----------------------------------------------------------------------\n",
      "\n",
      "Parameter Method unchanged\n",
      "   Value: -1  Min: -1  Max: 4  Default: -1\n",
      "Changed value of parameter BestBdStop to -1e+30\n",
      "   Prev: 1e+100  Min: -1e+100  Max: 1e+100  Default: 1e+100\n",
      "Changed value of parameter NodeLimit to 100.0\n",
      "   Prev: 1e+100  Min: 0.0  Max: 1e+100  Default: 1e+100\n",
      "Changed value of parameter MIPGap to 0.005\n",
      "   Prev: 0.0001  Min: 0.0  Max: 1e+100  Default: 0.0001\n",
      "----------------------------------------------------------------------\n",
      "Start Local Search Heuristic:\n",
      "Improved solution value 565.914, Period 1, 7.48 seconds\n",
      "Improved solution value 569.127, Period 3, 9.51 seconds\n",
      "Improved solution value 572.938, Period 6, 12.31 seconds\n",
      "Improved solution value 586.068, Period 11, 18.03 seconds\n",
      "\n",
      "----------------------------------------------------------------------\n",
      "Local Search Heuristic ended with value 586.068\n",
      "----------------------------------------------------------------------\n",
      "\n",
      "Parameter timelimit unchanged\n",
      "   Value: 1e+100  Min: 0.0  Max: 1e+100  Default: 1e+100\n",
      "----------------------------------------------------------------------\n",
      "Model Stats:\n",
      "\n",
      "Statistics for model Unnamed :\n",
      "  Linear constraint matrix    : 172490 Constrs, 34338 Vars, 461318 NZs\n",
      "  Variable types              : 0 Continuous, 34338 Integer (34338 Binary)\n",
      "  Matrix coefficient range    : [ 0.900033, 1.09984 ]\n",
      "  Objective coefficient range : [ 4.48386e-07, 0.493735 ]\n",
      "  Variable bound range        : [ 1, 1 ]\n",
      "  RHS coefficient range       : [ 151.515, 181.818 ]\n",
      "Problem not optimized\n",
      "Total Running time: 30.24\n"
     ]
    }
   ],
   "source": [
    "run mining.py -PGIvv -Z20 -S4 -O0"
   ]
  },
  {
   "cell_type": "markdown",
   "metadata": {
    "slideshow": {
     "slide_type": "slide"
    }
   },
   "source": [
    "# Using LP as a guide"
   ]
  },
  {
   "cell_type": "markdown",
   "metadata": {
    "slideshow": {
     "slide_type": "fragment"
    }
   },
   "source": [
    "Using LP to guide a MIP search:\n",
    "<ul>\n",
    "    <li>Complexity in solving MIP mainly comes from binary/integer variables</li>\n",
    "    <li>Before we tried <span class=\"blue bold\">fixing</span> part of the problem and optimizing the remainder</li>\n",
    "    <li>We can also <span class=\"blue bold\">relax</span> the integrality requirements for part of the problem</li>\n",
    "</ul>"
   ]
  },
  {
   "cell_type": "markdown",
   "metadata": {
    "slideshow": {
     "slide_type": "fragment"
    }
   },
   "source": [
    "<ul>\n",
    "    <li>The hope is that the continuous relaxation conveys some information when deciding integer variables</li>\n",
    "    <li>How to do it?\n",
    "<code>\n",
    "for x in vars.keys() if x in relaxset:\n",
    "    vars[x].setAttr('VType',GRB.CONTINUOUS)\n",
    "</code></li>\n",
    "</ul>"
   ]
  },
  {
   "cell_type": "markdown",
   "metadata": {
    "slideshow": {
     "slide_type": "fragment"
    }
   },
   "source": [
    "<ul>\n",
    "    <li>In the Open Pit Problem:<ul>\n",
    "        <li>We can relax integrality of variables with $T\\geq1$, and optimize</li>\n",
    "        <li>Fix solution for $T=0$, add integrality requirements for $T=1$, and optimize</li>\n",
    "        <li>... Repeat until $T_{max}$</li>\n",
    "        </ul></li>\n",
    "</ul>"
   ]
  },
  {
   "cell_type": "markdown",
   "metadata": {
    "slideshow": {
     "slide_type": "fragment"
    }
   },
   "source": [
    "<ul>\n",
    "    <li>We can use fractional solution to perform a <span class=\"blue bold\">guided</span> rounding</li>\n",
    "    <li>In this form, we can use the heuristic as a <span class=\"blue bold\">MIP-node callback</span></li>\n",
    "    <li>Gurobi will call your code in some nodes, and accept any user-provided solution</li>\n",
    "</ul>"
   ]
  },
  {
   "cell_type": "markdown",
   "metadata": {
    "slideshow": {
     "slide_type": "fragment"
    }
   },
   "source": [
    "<ul>\n",
    "     <li>The previous scheme is known as <span class=\"blue bold\">Rolling Horizon</span> heuristic</li>\n",
    "     <li>We can keep integrality requirements for $k_1$ periods, and fix only $k_2\\leq k_1$ periods</li>\n",
    "     <li>We can <span class=\"blue bold\">disregards</span> periods over $k_2$\n",
    "<code>\n",
    "for x in Vars.keys():\n",
    "    if time[x] > k_2:\n",
    "        Vars[x].lb = 0\n",
    "        Vars[x].ub = 0\n",
    "</code>\n",
    "     </li>\n",
    "     <li>It can bee seen as construction heuristic</li>\n",
    "     <li>It can also be used as a (expensive) callback heuristic</li>\n",
    "</ul>"
   ]
  },
  {
   "cell_type": "markdown",
   "metadata": {
    "slideshow": {
     "slide_type": "fragment"
    }
   },
   "source": [
    "<ul>\n",
    "    <li>When it helps?\n",
    "    <ul>\n",
    "        <li>When the LP relaxation bound is <span class=\"blue bold\">close</span> to the optimal integer solution</li>\n",
    "        <li>i.e. A tighter formulation will produce better results</li>\n",
    "        <li>The Open Pit Problem is one such example</li>\n",
    "        <li>TSP can be an example.... requires sub-tour as callback cut, not lazy cut</li>\n",
    "    </ul></li>\n",
    "</ul>"
   ]
  },
  {
   "cell_type": "markdown",
   "metadata": {
    "slideshow": {
     "slide_type": "subslide"
    }
   },
   "source": [
    "# Using LP as a guide\n",
    "\n",
    "### In the Open Pit problem:"
   ]
  },
  {
   "cell_type": "code",
   "execution_count": 17,
   "metadata": {
    "collapsed": false,
    "slideshow": {
     "slide_type": "fragment"
    }
   },
   "outputs": [
    {
     "name": "stdout",
     "output_type": "stream",
     "text": [
      "----------------------------------------------------------------------\n",
      "Building grid blocks ... done (6000 added)\n",
      "Preprocessing removed 3647 blocks 54705 vars\n",
      "Remove 957 time-blocks\n",
      "Add variables and objective function ... done (added 34338 vars obj range [-0.540716,3.49352])\n",
      "Adding precedences ... done (added 172460 precedences)\n",
      "Adding knapsack capacities ... done (added 30 knapsack)\n",
      "Changed value of parameter presolve to 1\n",
      "   Prev: -1  Min: -1  Max: 2  Default: -1\n",
      "Changed value of parameter method to 2\n",
      "   Prev: -1  Min: -1  Max: 4  Default: -1\n",
      "Changed value of parameter mipgap to 0.01\n",
      "   Prev: 0.0001  Min: 0.0  Max: 1e+100  Default: 0.0001\n",
      "Rolling Horizon Period 0/14 current value 277.152 bound 278.001 8.84 seconds\n",
      "Rolling Horizon Period 1/14 current value 360.961 bound 363.453 12.99 seconds\n",
      "Rolling Horizon Period 2/14 current value 426.519 bound 426.735 15.81 seconds\n",
      "Rolling Horizon Period 3/14 current value 474.345 bound 475.576 18.42 seconds\n",
      "Rolling Horizon Period 4/14 current value 511.619 bound 512.526 20.98 seconds\n",
      "Rolling Horizon Period 5/14 current value 539.139 bound 539.354 23.17 seconds\n",
      "Rolling Horizon Period 6/14 current value 559.862 bound 560.036 25.13 seconds\n",
      "Rolling Horizon Period 7/14 current value 573.501 bound 573.868 26.98 seconds\n",
      "Rolling Horizon Period 8/14 current value 582.085 bound 582.775 28.55 seconds\n",
      "Rolling Horizon Period 9/14 current value 585.018 bound 585.092 29.92 seconds\n",
      "Rolling Horizon Period 10/14 current value 582.104 bound 586.185 31.00 seconds\n",
      "Rolling Horizon Period 11/14 current value 582.104 bound 585.653 31.97 seconds\n",
      "Rolling Horizon Period 12/14 current value 582.104 bound 585.19 32.87 seconds\n",
      "Rolling Horizon Period 13/14 current value 582.97 bound 584.787 33.63 seconds\n",
      "Rolling Horizon Period 14/14 current value 582.888 bound 586.45 33.96 seconds\n",
      "\n",
      "----------------------------------------------------------------------\n",
      "Rolling Horizon Heuristic done, value 582.888, 34.00 seconds\n",
      "----------------------------------------------------------------------\n",
      "\n",
      "Changed value of parameter outputflag to 1\n",
      "   Prev: 0  Min: 0  Max: 1  Default: 1\n",
      "Changed value of parameter presolve to -1\n",
      "   Prev: 1  Min: -1  Max: 2  Default: -1\n",
      "Parameter timelimit unchanged\n",
      "   Value: 1e+100  Min: 0.0  Max: 1e+100  Default: 1e+100\n",
      "----------------------------------------------------------------------\n",
      "Model Stats:\n",
      "\n",
      "Statistics for model Unnamed :\n",
      "  Linear constraint matrix    : 172490 Constrs, 34338 Vars, 461318 NZs\n",
      "  Variable types              : 0 Continuous, 34338 Integer (34338 Binary)\n",
      "  Matrix coefficient range    : [ 0.900033, 1.09984 ]\n",
      "  Objective coefficient range : [ 4.48386e-07, 0.493735 ]\n",
      "  Variable bound range        : [ 1, 1 ]\n",
      "  RHS coefficient range       : [ 151.515, 181.818 ]\n",
      "Problem not optimized\n",
      "Total Running time: 34.36\n"
     ]
    }
   ],
   "source": [
    "run mining -PRvv -O0 -Z20 -S1"
   ]
  },
  {
   "cell_type": "markdown",
   "metadata": {
    "slideshow": {
     "slide_type": "subslide"
    }
   },
   "source": [
    "# More on the scripts:\n",
    "\n",
    "### Will be available for download soon"
   ]
  },
  {
   "cell_type": "code",
   "execution_count": 18,
   "metadata": {
    "collapsed": false,
    "slideshow": {
     "slide_type": "fragment"
    }
   },
   "outputs": [
    {
     "name": "stdout",
     "output_type": "stream",
     "text": [
      "usage: tsp2.py [-h] [-G] [-I] [-D] [-v] [-S SUBMIPSIZE] [-O OPTIMIZE]\n",
      "               [-T TIMELIMIT]\n",
      "               cities\n",
      "\n",
      "positional arguments:\n",
      "  cities                Number of cities in TSP\n",
      "\n",
      "optional arguments:\n",
      "  -h, --help            show this help message and exit\n",
      "  -G, --greedy          Enable initial greedy heuristic (default: 0)\n",
      "  -I, --improve         Improve initial greedy heuristic with sub-mips\n",
      "                        (default: 0)\n",
      "  -D, --drawsolution    Draw final mip solution (default: 0)\n",
      "  -v, --verbose         verbose output (default: 0)\n",
      "  -S SUBMIPSIZE, --submipsize SUBMIPSIZE\n",
      "                        Number of cities to consider in sub-mip (default: 10)\n",
      "  -O OPTIMIZE, --optimize OPTIMIZE\n",
      "                        Perform full problem optimization (default: 1)\n",
      "  -T TIMELIMIT, --timelimit TIMELIMIT\n",
      "                        Time limit for optimization (default: 1e+100)\n"
     ]
    }
   ],
   "source": [
    "run tsp2.py -h"
   ]
  },
  {
   "cell_type": "code",
   "execution_count": 19,
   "metadata": {
    "collapsed": false,
    "slideshow": {
     "slide_type": "fragment"
    }
   },
   "outputs": [
    {
     "name": "stdout",
     "output_type": "stream",
     "text": [
      "usage: mining.py [-h] [-C] [-G] [-I] [-O OPTIMIZE] [-P] [-R] [-S SUBMIPSIZE]\n",
      "                 [-T TIMELIMIT] [-v] [-Z MINESIZE]\n",
      "\n",
      "optional arguments:\n",
      "  -h, --help            show this help message and exit\n",
      "  -C, --callback        Use Heuristic as Callbacks (default: 0)\n",
      "  -G, --greedy          Enable initial greedy heuristic (default: 0)\n",
      "  -I, --improve         Improve initial greedy heuristic with sub-mips\n",
      "                        (default: 0)\n",
      "  -O OPTIMIZE, --optimize OPTIMIZE\n",
      "                        Perform full problem optimization (default: 1)\n",
      "  -P, --preprocess      Preprocess variables (default: 0)\n",
      "  -R, --rollinghorizon  Enable initial rolling horizon heuristic (default: 0)\n",
      "  -S SUBMIPSIZE, --submipsize SUBMIPSIZE\n",
      "                        Periods in Time-Window heuristic (default: 3)\n",
      "  -T TIMELIMIT, --timelimit TIMELIMIT\n",
      "                        Time limit for optimization (default: 1e+100)\n",
      "  -v, --verbose         verbose output (default: 0)\n",
      "  -Z MINESIZE, --minesize MINESIZE\n",
      "                        Periods in Time-Window heuristic (default: 10)\n"
     ]
    }
   ],
   "source": [
    "run mining.py -h"
   ]
  },
  {
   "cell_type": "markdown",
   "metadata": {
    "slideshow": {
     "slide_type": "slide"
    }
   },
   "source": [
    "# Questions?\n",
    "\n",
    "#### Please submit your questions using the questions area on the right of your screen"
   ]
  },
  {
   "cell_type": "markdown",
   "metadata": {
    "slideshow": {
     "slide_type": "subslide"
    }
   },
   "source": [
    "# Thank you for joining us\n",
    "\n",
    "<ul>\n",
    "<li>If you haven’t already done so, please register at http://www.gurobi.com, and then visit http://www.gurobi.com/get-anaconda to try Gurobi and Python for yourself.</li>\n",
    "\n",
    "<li>Look for information on our next Python webinar, Machine Learning and Optimization.</li>\n",
    "\n",
    "<li>For questions about pricing, please contact <span class=\"blue bold\">sales@gurobi.com</span> or <span class=\"blue bold\">sales@gurobi.de</span>.</li>\n",
    "\n",
    "<li>A recording of the webinar, including the slides, will be available in roughly one week.</li>\n",
    "</ul>"
   ]
  }
 ],
 "metadata": {
  "celltoolbar": "Slideshow",
  "kernelspec": {
   "display_name": "Python 2",
   "language": "python",
   "name": "python2"
  },
  "language_info": {
   "codemirror_mode": {
    "name": "ipython",
    "version": 2
   },
   "file_extension": ".py",
   "mimetype": "text/x-python",
   "name": "python",
   "nbconvert_exporter": "python",
   "pygments_lexer": "ipython2",
   "version": "2.7.11"
  }
 },
 "nbformat": 4,
 "nbformat_minor": 2
}
