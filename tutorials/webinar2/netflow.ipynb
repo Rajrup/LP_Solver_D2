{
 "cells": [
  {
   "cell_type": "markdown",
   "metadata": {
    "deletable": true,
    "editable": true,
    "nbpresent": {
     "id": "9871a869-6285-43e5-b93a-55d4906af818"
    },
    "slideshow": {
     "slide_type": "slide"
    }
   },
   "source": [
    "# netflow.py\n",
    "Solve a multicommodity flow model using Gurobi Optimizer.\n",
    "\n",
    "\n",
    "## List data\n",
    "  0. Commodities (products)\n",
    "  0. Nodes in the network\n",
    "  0. Arcs in the network"
   ]
  },
  {
   "cell_type": "code",
   "execution_count": 1,
   "metadata": {
    "collapsed": true,
    "deletable": true,
    "editable": true
   },
   "outputs": [],
   "source": [
    "from gurobipy import *\n",
    "\n",
    "commodities = ['Pencils', 'Pens']\n",
    "nodes = ['Detroit', 'Denver', 'Boston', 'New York', 'Seattle']\n",
    "arcs = [\n",
    "  ('Detroit', 'Boston'), ('Detroit', 'New York'), ('Detroit', 'Seattle'),\n",
    "  ('Denver',  'Boston'), ('Denver',  'New York'), ('Denver',  'Seattle')]"
   ]
  },
  {
   "cell_type": "markdown",
   "metadata": {
    "deletable": true,
    "editable": true
   },
   "source": [
    "## Indexed data\n",
    "  0. Capacity: indexed by arcs\n",
    "  0. Cost: indexed by commodities and arcs\n",
    "  0. Inflow: indexed by commodities and nodes"
   ]
  },
  {
   "cell_type": "code",
   "execution_count": 2,
   "metadata": {
    "collapsed": false,
    "deletable": true,
    "editable": true
   },
   "outputs": [],
   "source": [
    "capacity = {\n",
    "  ('Detroit', 'Boston'):   100,\n",
    "  ('Detroit', 'New York'):  80,\n",
    "  ('Detroit', 'Seattle'):  120,\n",
    "  ('Denver',  'Boston'):   120,\n",
    "  ('Denver',  'New York'): 120,\n",
    "  ('Denver',  'Seattle'):  120 }\n",
    "\n",
    "cost = {\n",
    "  ('Pencils', 'Detroit', 'Boston'):   10,  ('Pens', 'Detroit', 'Boston'):   20,\n",
    "  ('Pencils', 'Detroit', 'New York'): 20,  ('Pens', 'Detroit', 'New York'): 20,\n",
    "  ('Pencils', 'Detroit', 'Seattle'):  60,  ('Pens', 'Detroit', 'Seattle'):  80,\n",
    "  ('Pencils', 'Denver',  'Boston'):   40,  ('Pens', 'Denver',  'Boston'):   60,\n",
    "  ('Pencils', 'Denver',  'New York'): 40,  ('Pens', 'Denver',  'New York'): 70,\n",
    "  ('Pencils', 'Denver',  'Seattle'):  30,  ('Pens', 'Denver',  'Seattle'):  30 }\n",
    "\n",
    "inflow = {\n",
    "  ('Pencils', 'Detroit'):   50,  ('Pens', 'Detroit'):   60,\n",
    "  ('Pencils', 'Denver'):    60,  ('Pens', 'Denver'):    40,\n",
    "  ('Pencils', 'Boston'):   -50,  ('Pens', 'Boston'):   -40,\n",
    "  ('Pencils', 'New York'): -50,  ('Pens', 'New York'): -30,\n",
    "  ('Pencils', 'Seattle'):  -10,  ('Pens', 'Seattle'):  -30 }"
   ]
  },
  {
   "cell_type": "code",
   "execution_count": 3,
   "metadata": {
    "collapsed": false,
    "deletable": true,
    "editable": true
   },
   "outputs": [
    {
     "name": "stdout",
     "output_type": "stream",
     "text": [
      "Inflow Pencils Detroit: 50\n",
      "Inflow Pencils Denver: 60\n",
      "Inflow Pencils Boston: -50\n",
      "Inflow Pencils New York: -50\n",
      "Inflow Pencils Seattle: -10\n",
      "Inflow Pens Detroit: 60\n",
      "Inflow Pens Denver: 40\n",
      "Inflow Pens Boston: -40\n",
      "Inflow Pens New York: -30\n",
      "Inflow Pens Seattle: -30\n"
     ]
    }
   ],
   "source": [
    "for h in commodities:\n",
    "    for c in nodes:\n",
    "        print(\"Inflow \" + h + \" \" + c + \": \" + str(inflow[h,c]))"
   ]
  },
  {
   "cell_type": "markdown",
   "metadata": {
    "deletable": true,
    "editable": true,
    "nbpresent": {
     "id": "fb882cb5-31d9-4459-8d41-7e588c002d7a"
    }
   },
   "source": [
    "## Create model, decision variables and objective\n",
    "\n",
    "- Use `Model.addVars()` to add the decision variables\n",
    "- With two arguments, it takes the cross product of the commodities and the arcs"
   ]
  },
  {
   "cell_type": "code",
   "execution_count": 4,
   "metadata": {
    "collapsed": true,
    "deletable": true,
    "editable": true,
    "nbpresent": {
     "id": "316b1245-d440-4399-9067-ed369e9f43d7"
    }
   },
   "outputs": [],
   "source": [
    "m = Model('netflow')\n",
    "\n",
    "flow = m.addVars(commodities, arcs, obj=cost, name=\"flow\")"
   ]
  },
  {
   "cell_type": "markdown",
   "metadata": {
    "deletable": true,
    "editable": true,
    "nbpresent": {
     "id": "38ecdc9b-5475-4dc9-b629-cf7ae63de1a5"
    }
   },
   "source": [
    "## Create constraints\n",
    "\n",
    "- Use `Model.addConstrs()` to add the constraints\n",
    "- Uses two **Python Generator expressions**\n",
    "    - To generate an arc capacity constraint for every arc _i,j_\n",
    "    - To generate a flow conservation constraint for every commodity _h_ and every node _j_\n",
    "- Inside each constraint, uses the aggregate operator `tupledict.sum()` to compute the sum over only the matching elements"
   ]
  },
  {
   "cell_type": "code",
   "execution_count": 5,
   "metadata": {
    "collapsed": false,
    "deletable": true,
    "editable": true,
    "nbpresent": {
     "id": "7885be96-851c-47d4-a4ca-b89af6fb29fd"
    }
   },
   "outputs": [],
   "source": [
    "# Arc capacities\n",
    "cap = m.addConstrs(\n",
    "    (flow.sum('*',i,j) <= capacity[i,j] for i,j in arcs), \"cap\")\n",
    "\n",
    "# Flow conservation\n",
    "node = m.addConstrs(\n",
    "    (flow.sum(h,'*',j) + inflow[h,j] == flow.sum(h,j,'*')\n",
    "     for h in commodities for j in nodes), \"node\")"
   ]
  },
  {
   "cell_type": "markdown",
   "metadata": {
    "deletable": true,
    "editable": true,
    "nbpresent": {
     "id": "0521bba9-d638-4842-ae9c-a3cf5c54dc98"
    }
   },
   "source": [
    "## Solve and print the flows"
   ]
  },
  {
   "cell_type": "code",
   "execution_count": 6,
   "metadata": {
    "collapsed": false,
    "deletable": true,
    "editable": true,
    "nbpresent": {
     "id": "344eed33-6224-4ba8-9c15-a7914dcc1e1c"
    }
   },
   "outputs": [
    {
     "name": "stdout",
     "output_type": "stream",
     "text": [
      "Optimize a model with 16 rows, 12 columns and 36 nonzeros\n",
      "Coefficient statistics:\n",
      "  Matrix range     [1e+00, 1e+00]\n",
      "  Objective range  [1e+01, 8e+01]\n",
      "  Bounds range     [0e+00, 0e+00]\n",
      "  RHS range        [1e+01, 1e+02]\n",
      "Presolve removed 16 rows and 12 columns\n",
      "Presolve time: 0.01s\n",
      "Presolve: All rows and columns removed\n",
      "Iteration    Objective       Primal Inf.    Dual Inf.      Time\n",
      "       0    5.5000000e+03   0.000000e+00   0.000000e+00      0s\n",
      "\n",
      "Solved in 0 iterations and 0.01 seconds\n",
      "Optimal objective  5.500000000e+03\n",
      "\n",
      "    Variable            X \n",
      "-------------------------\n",
      "flow[Pencils,Detroit,Boston]           50 \n",
      "flow[Pencils,Denver,New York]           50 \n",
      "flow[Pencils,Denver,Seattle]           10 \n",
      "flow[Pens,Detroit,Boston]           30 \n",
      "flow[Pens,Detroit,New York]           30 \n",
      "flow[Pens,Denver,Boston]           10 \n",
      "flow[Pens,Denver,Seattle]           30 \n"
     ]
    }
   ],
   "source": [
    "m.optimize()\n",
    "m.printAttr('X')"
   ]
  },
  {
   "cell_type": "markdown",
   "metadata": {
    "deletable": true,
    "editable": true
   },
   "source": [
    "## Output\n",
    "Display the solution as a chart and as a table"
   ]
  },
  {
   "cell_type": "code",
   "execution_count": 7,
   "metadata": {
    "collapsed": false,
    "deletable": true,
    "editable": true
   },
   "outputs": [
    {
     "data": {
      "text/html": [
       "\n",
       "    <div class=\"bk-root\">\n",
       "        <a href=\"http://bokeh.pydata.org\" target=\"_blank\" class=\"bk-logo bk-logo-small bk-logo-notebook\"></a>\n",
       "        <span id=\"3988d751-573a-4195-a30d-c36378d289b5\">Loading BokehJS ...</span>\n",
       "    </div>"
      ]
     },
     "metadata": {},
     "output_type": "display_data"
    },
    {
     "data": {
      "application/javascript": [
       "\n",
       "(function(global) {\n",
       "  function now() {\n",
       "    return new Date();\n",
       "  }\n",
       "\n",
       "  var force = \"1\";\n",
       "\n",
       "  if (typeof (window._bokeh_onload_callbacks) === \"undefined\" || force !== \"\") {\n",
       "    window._bokeh_onload_callbacks = [];\n",
       "    window._bokeh_is_loading = undefined;\n",
       "  }\n",
       "\n",
       "\n",
       "  \n",
       "  if (typeof (window._bokeh_timeout) === \"undefined\" || force !== \"\") {\n",
       "    window._bokeh_timeout = Date.now() + 5000;\n",
       "    window._bokeh_failed_load = false;\n",
       "  }\n",
       "\n",
       "  var NB_LOAD_WARNING = {'data': {'text/html':\n",
       "     \"<div style='background-color: #fdd'>\\n\"+\n",
       "     \"<p>\\n\"+\n",
       "     \"BokehJS does not appear to have successfully loaded. If loading BokehJS from CDN, this \\n\"+\n",
       "     \"may be due to a slow or bad network connection. Possible fixes:\\n\"+\n",
       "     \"</p>\\n\"+\n",
       "     \"<ul>\\n\"+\n",
       "     \"<li>re-rerun `output_notebook()` to attempt to load from CDN again, or</li>\\n\"+\n",
       "     \"<li>use INLINE resources instead, as so:</li>\\n\"+\n",
       "     \"</ul>\\n\"+\n",
       "     \"<code>\\n\"+\n",
       "     \"from bokeh.resources import INLINE\\n\"+\n",
       "     \"output_notebook(resources=INLINE)\\n\"+\n",
       "     \"</code>\\n\"+\n",
       "     \"</div>\"}};\n",
       "\n",
       "  function display_loaded() {\n",
       "    if (window.Bokeh !== undefined) {\n",
       "      Bokeh.$(\"#3988d751-573a-4195-a30d-c36378d289b5\").text(\"BokehJS successfully loaded.\");\n",
       "    } else if (Date.now() < window._bokeh_timeout) {\n",
       "      setTimeout(display_loaded, 100)\n",
       "    }\n",
       "  }\n",
       "\n",
       "  function run_callbacks() {\n",
       "    window._bokeh_onload_callbacks.forEach(function(callback) { callback() });\n",
       "    delete window._bokeh_onload_callbacks\n",
       "    console.info(\"Bokeh: all callbacks have finished\");\n",
       "  }\n",
       "\n",
       "  function load_libs(js_urls, callback) {\n",
       "    window._bokeh_onload_callbacks.push(callback);\n",
       "    if (window._bokeh_is_loading > 0) {\n",
       "      console.log(\"Bokeh: BokehJS is being loaded, scheduling callback at\", now());\n",
       "      return null;\n",
       "    }\n",
       "    if (js_urls == null || js_urls.length === 0) {\n",
       "      run_callbacks();\n",
       "      return null;\n",
       "    }\n",
       "    console.log(\"Bokeh: BokehJS not loaded, scheduling load and callback at\", now());\n",
       "    window._bokeh_is_loading = js_urls.length;\n",
       "    for (var i = 0; i < js_urls.length; i++) {\n",
       "      var url = js_urls[i];\n",
       "      var s = document.createElement('script');\n",
       "      s.src = url;\n",
       "      s.async = false;\n",
       "      s.onreadystatechange = s.onload = function() {\n",
       "        window._bokeh_is_loading--;\n",
       "        if (window._bokeh_is_loading === 0) {\n",
       "          console.log(\"Bokeh: all BokehJS libraries loaded\");\n",
       "          run_callbacks()\n",
       "        }\n",
       "      };\n",
       "      s.onerror = function() {\n",
       "        console.warn(\"failed to load library \" + url);\n",
       "      };\n",
       "      console.log(\"Bokeh: injecting script tag for BokehJS library: \", url);\n",
       "      document.getElementsByTagName(\"head\")[0].appendChild(s);\n",
       "    }\n",
       "  };var element = document.getElementById(\"3988d751-573a-4195-a30d-c36378d289b5\");\n",
       "  if (element == null) {\n",
       "    console.log(\"Bokeh: ERROR: autoload.js configured with elementid '3988d751-573a-4195-a30d-c36378d289b5' but no matching script tag was found. \")\n",
       "    return false;\n",
       "  }\n",
       "\n",
       "  var js_urls = ['https://cdn.pydata.org/bokeh/release/bokeh-0.12.2.min.js', 'https://cdn.pydata.org/bokeh/release/bokeh-widgets-0.12.2.min.js', 'https://cdn.pydata.org/bokeh/release/bokeh-compiler-0.12.2.min.js'];\n",
       "\n",
       "  var inline_js = [\n",
       "    function(Bokeh) {\n",
       "      Bokeh.set_log_level(\"info\");\n",
       "    },\n",
       "    \n",
       "    function(Bokeh) {\n",
       "      \n",
       "      Bokeh.$(\"#3988d751-573a-4195-a30d-c36378d289b5\").text(\"BokehJS is loading...\");\n",
       "    },\n",
       "    function(Bokeh) {\n",
       "      console.log(\"Bokeh: injecting CSS: https://cdn.pydata.org/bokeh/release/bokeh-0.12.2.min.css\");\n",
       "      Bokeh.embed.inject_css(\"https://cdn.pydata.org/bokeh/release/bokeh-0.12.2.min.css\");\n",
       "      console.log(\"Bokeh: injecting CSS: https://cdn.pydata.org/bokeh/release/bokeh-widgets-0.12.2.min.css\");\n",
       "      Bokeh.embed.inject_css(\"https://cdn.pydata.org/bokeh/release/bokeh-widgets-0.12.2.min.css\");\n",
       "    }\n",
       "  ];\n",
       "\n",
       "  function run_inline_js() {\n",
       "    \n",
       "    if ((window.Bokeh !== undefined) || (force === \"1\")) {\n",
       "      for (var i = 0; i < inline_js.length; i++) {\n",
       "        inline_js[i](window.Bokeh);\n",
       "      }if (force === \"1\") {\n",
       "        display_loaded();\n",
       "      }} else if (Date.now() < window._bokeh_timeout) {\n",
       "      setTimeout(run_inline_js, 100);\n",
       "    } else if (!window._bokeh_failed_load) {\n",
       "      console.log(\"Bokeh: BokehJS failed to load within specified timeout.\");\n",
       "      window._bokeh_failed_load = true;\n",
       "    } else if (!force) {\n",
       "      var cell = $(\"#3988d751-573a-4195-a30d-c36378d289b5\").parents('.cell').data().cell;\n",
       "      cell.output_area.append_execute_result(NB_LOAD_WARNING)\n",
       "    }\n",
       "\n",
       "  }\n",
       "\n",
       "  if (window._bokeh_is_loading === 0) {\n",
       "    console.log(\"Bokeh: BokehJS loaded, going straight to plotting\");\n",
       "    run_inline_js();\n",
       "  } else {\n",
       "    load_libs(js_urls, function() {\n",
       "      console.log(\"Bokeh: BokehJS plotting callback run at\", now());\n",
       "      run_inline_js();\n",
       "    });\n",
       "  }\n",
       "}(this));"
      ]
     },
     "metadata": {},
     "output_type": "display_data"
    },
    {
     "data": {
      "text/html": [
       "\n",
       "\n",
       "    <div class=\"bk-root\">\n",
       "        <div class=\"plotdiv\" id=\"390eebee-b314-456b-b10a-7f2bc9e0b3ee\"></div>\n",
       "    </div>\n",
       "<script type=\"text/javascript\">\n",
       "  \n",
       "  (function(global) {\n",
       "    function now() {\n",
       "      return new Date();\n",
       "    }\n",
       "  \n",
       "    var force = \"\";\n",
       "  \n",
       "    if (typeof (window._bokeh_onload_callbacks) === \"undefined\" || force !== \"\") {\n",
       "      window._bokeh_onload_callbacks = [];\n",
       "      window._bokeh_is_loading = undefined;\n",
       "    }\n",
       "  \n",
       "  \n",
       "    \n",
       "    if (typeof (window._bokeh_timeout) === \"undefined\" || force !== \"\") {\n",
       "      window._bokeh_timeout = Date.now() + 0;\n",
       "      window._bokeh_failed_load = false;\n",
       "    }\n",
       "  \n",
       "    var NB_LOAD_WARNING = {'data': {'text/html':\n",
       "       \"<div style='background-color: #fdd'>\\n\"+\n",
       "       \"<p>\\n\"+\n",
       "       \"BokehJS does not appear to have successfully loaded. If loading BokehJS from CDN, this \\n\"+\n",
       "       \"may be due to a slow or bad network connection. Possible fixes:\\n\"+\n",
       "       \"</p>\\n\"+\n",
       "       \"<ul>\\n\"+\n",
       "       \"<li>re-rerun `output_notebook()` to attempt to load from CDN again, or</li>\\n\"+\n",
       "       \"<li>use INLINE resources instead, as so:</li>\\n\"+\n",
       "       \"</ul>\\n\"+\n",
       "       \"<code>\\n\"+\n",
       "       \"from bokeh.resources import INLINE\\n\"+\n",
       "       \"output_notebook(resources=INLINE)\\n\"+\n",
       "       \"</code>\\n\"+\n",
       "       \"</div>\"}};\n",
       "  \n",
       "    function display_loaded() {\n",
       "      if (window.Bokeh !== undefined) {\n",
       "        Bokeh.$(\"#390eebee-b314-456b-b10a-7f2bc9e0b3ee\").text(\"BokehJS successfully loaded.\");\n",
       "      } else if (Date.now() < window._bokeh_timeout) {\n",
       "        setTimeout(display_loaded, 100)\n",
       "      }\n",
       "    }\n",
       "  \n",
       "    function run_callbacks() {\n",
       "      window._bokeh_onload_callbacks.forEach(function(callback) { callback() });\n",
       "      delete window._bokeh_onload_callbacks\n",
       "      console.info(\"Bokeh: all callbacks have finished\");\n",
       "    }\n",
       "  \n",
       "    function load_libs(js_urls, callback) {\n",
       "      window._bokeh_onload_callbacks.push(callback);\n",
       "      if (window._bokeh_is_loading > 0) {\n",
       "        console.log(\"Bokeh: BokehJS is being loaded, scheduling callback at\", now());\n",
       "        return null;\n",
       "      }\n",
       "      if (js_urls == null || js_urls.length === 0) {\n",
       "        run_callbacks();\n",
       "        return null;\n",
       "      }\n",
       "      console.log(\"Bokeh: BokehJS not loaded, scheduling load and callback at\", now());\n",
       "      window._bokeh_is_loading = js_urls.length;\n",
       "      for (var i = 0; i < js_urls.length; i++) {\n",
       "        var url = js_urls[i];\n",
       "        var s = document.createElement('script');\n",
       "        s.src = url;\n",
       "        s.async = false;\n",
       "        s.onreadystatechange = s.onload = function() {\n",
       "          window._bokeh_is_loading--;\n",
       "          if (window._bokeh_is_loading === 0) {\n",
       "            console.log(\"Bokeh: all BokehJS libraries loaded\");\n",
       "            run_callbacks()\n",
       "          }\n",
       "        };\n",
       "        s.onerror = function() {\n",
       "          console.warn(\"failed to load library \" + url);\n",
       "        };\n",
       "        console.log(\"Bokeh: injecting script tag for BokehJS library: \", url);\n",
       "        document.getElementsByTagName(\"head\")[0].appendChild(s);\n",
       "      }\n",
       "    };var element = document.getElementById(\"390eebee-b314-456b-b10a-7f2bc9e0b3ee\");\n",
       "    if (element == null) {\n",
       "      console.log(\"Bokeh: ERROR: autoload.js configured with elementid '390eebee-b314-456b-b10a-7f2bc9e0b3ee' but no matching script tag was found. \")\n",
       "      return false;\n",
       "    }\n",
       "  \n",
       "    var js_urls = [];\n",
       "  \n",
       "    var inline_js = [\n",
       "      function(Bokeh) {\n",
       "        Bokeh.$(function() {\n",
       "            var docs_json = {\"5306b35c-f185-4546-8354-5468e2a87876\":{\"roots\":{\"references\":[{\"attributes\":{\"bottom_units\":\"screen\",\"fill_alpha\":{\"value\":0.5},\"fill_color\":{\"value\":\"lightgrey\"},\"left_units\":\"screen\",\"level\":\"overlay\",\"line_alpha\":{\"value\":1.0},\"line_color\":{\"value\":\"black\"},\"line_dash\":[4,4],\"line_width\":{\"value\":2},\"plot\":null,\"render_mode\":\"css\",\"right_units\":\"screen\",\"top_units\":\"screen\"},\"id\":\"bf31b4fc-6a13-4244-9b05-319ff24fc0c3\",\"type\":\"BoxAnnotation\"},{\"attributes\":{\"fill_alpha\":{\"field\":\"fill_alpha\"},\"fill_color\":{\"field\":\"color\"},\"height\":{\"field\":\"height\",\"units\":\"data\"},\"line_color\":{\"field\":\"line_color\"},\"width\":{\"field\":\"width\",\"units\":\"data\"},\"x\":{\"field\":\"x\"},\"y\":{\"field\":\"y\"}},\"id\":\"7c60142e-3e39-425d-9ad5-b75550e9dad9\",\"type\":\"Rect\"},{\"attributes\":{\"plot\":null,\"text\":\"Network flow\"},\"id\":\"7566964d-c506-4e08-9207-c98c8c095ff1\",\"type\":\"Title\"},{\"attributes\":{\"dimension\":1,\"plot\":{\"id\":\"2dd65013-ed74-4a47-9818-cab4be80fcbf\",\"subtype\":\"Chart\",\"type\":\"Plot\"},\"ticker\":{\"id\":\"3ecae356-9d37-4f92-a6c0-c4c3d504c322\",\"type\":\"BasicTicker\"}},\"id\":\"1098beba-3df0-4e3f-833c-e3b158ac1989\",\"type\":\"Grid\"},{\"attributes\":{\"callback\":null,\"end\":84.0},\"id\":\"8272c397-aacc-42e3-ac66-8f35c0de574c\",\"type\":\"Range1d\"},{\"attributes\":{},\"id\":\"3ecae356-9d37-4f92-a6c0-c4c3d504c322\",\"type\":\"BasicTicker\"},{\"attributes\":{\"plot\":{\"id\":\"2dd65013-ed74-4a47-9818-cab4be80fcbf\",\"subtype\":\"Chart\",\"type\":\"Plot\"}},\"id\":\"9fbcae7c-7fa8-44c1-a751-0b7d220f82f5\",\"type\":\"HelpTool\"},{\"attributes\":{\"data_source\":{\"id\":\"31ff6979-4eec-45f9-8b05-a81b664a350b\",\"type\":\"ColumnDataSource\"},\"glyph\":{\"id\":\"209d389c-ce36-480d-91ca-d219c68b7025\",\"type\":\"Rect\"},\"hover_glyph\":null,\"nonselection_glyph\":null,\"selection_glyph\":null},\"id\":\"af21bd99-5c2a-4c0f-8700-bdca6cc316de\",\"type\":\"GlyphRenderer\"},{\"attributes\":{\"plot\":{\"id\":\"2dd65013-ed74-4a47-9818-cab4be80fcbf\",\"subtype\":\"Chart\",\"type\":\"Plot\"}},\"id\":\"bac4b4b2-eed5-40c8-a92d-d1c909f8f8e4\",\"type\":\"PanTool\"},{\"attributes\":{\"data_source\":{\"id\":\"5cc9df79-33c6-41fc-9a0b-c10687cf1e29\",\"type\":\"ColumnDataSource\"},\"glyph\":{\"id\":\"61cd87d9-3ab7-4b4f-a37a-b638177573bc\",\"type\":\"Rect\"},\"hover_glyph\":null,\"nonselection_glyph\":null,\"selection_glyph\":null},\"id\":\"f0f61c19-cdce-4ac6-8805-981420e813bd\",\"type\":\"GlyphRenderer\"},{\"attributes\":{\"callback\":null,\"column_names\":[\"line_color\",\"line_alpha\",\"color\",\"fill_alpha\",\"height\",\"width\",\"y\",\"x\",\"label\"],\"data\":{\"arcs\":[\"Denver-Boston\"],\"chart_index\":[{\"arcs\":\"Denver-Boston\",\"commodities\":\"Pencils\"}],\"color\":[\"#f22c40\"],\"commodities\":[\"Pencils\"],\"fill_alpha\":[0.8],\"height\":[0.0],\"label\":[{\"arcs\":\"Denver-Boston\",\"commodities\":\"Pencils\"}],\"line_alpha\":[1.0],\"line_color\":[\"white\"],\"width\":[0.8],\"x\":[\"Denver-Boston\"],\"y\":[0.0]}},\"id\":\"14b2b1e6-a5d3-4a1f-8592-53f2293243f4\",\"type\":\"ColumnDataSource\"},{\"attributes\":{\"overlay\":{\"id\":\"bf31b4fc-6a13-4244-9b05-319ff24fc0c3\",\"type\":\"BoxAnnotation\"},\"plot\":{\"id\":\"2dd65013-ed74-4a47-9818-cab4be80fcbf\",\"subtype\":\"Chart\",\"type\":\"Plot\"}},\"id\":\"0af2bd41-c4c8-483b-8be7-bf70f3ec3a6e\",\"type\":\"BoxZoomTool\"},{\"attributes\":{\"data_source\":{\"id\":\"ca6e30b8-a49f-433b-b64f-dcc507aa149f\",\"type\":\"ColumnDataSource\"},\"glyph\":{\"id\":\"2e6ff17e-0f8d-476d-ad67-68b992f3662b\",\"type\":\"Rect\"},\"hover_glyph\":null,\"nonselection_glyph\":null,\"selection_glyph\":null},\"id\":\"ee3f0b8b-29c6-449c-80cc-76f88b4bbae7\",\"type\":\"GlyphRenderer\"},{\"attributes\":{\"data_source\":{\"id\":\"59b36c13-71ae-4cf1-a178-659f95c53631\",\"type\":\"ColumnDataSource\"},\"glyph\":{\"id\":\"b77ddaf8-d3bb-4a6e-be8b-5184a8de37d7\",\"type\":\"Rect\"},\"hover_glyph\":null,\"nonselection_glyph\":null,\"selection_glyph\":null},\"id\":\"6155a810-64d7-454f-b06c-5bb1ba1011c7\",\"type\":\"GlyphRenderer\"},{\"attributes\":{\"data_source\":{\"id\":\"39198be6-2ccd-4c0d-aaf1-46c13f5a8319\",\"type\":\"ColumnDataSource\"},\"glyph\":{\"id\":\"158d09c9-249a-43c8-adbe-ba0f67d73d2a\",\"type\":\"Rect\"},\"hover_glyph\":null,\"nonselection_glyph\":null,\"selection_glyph\":null},\"id\":\"ba56e197-b893-4c0c-b2b9-aacde2c0de6c\",\"type\":\"GlyphRenderer\"},{\"attributes\":{\"fill_alpha\":{\"field\":\"fill_alpha\"},\"fill_color\":{\"field\":\"color\"},\"height\":{\"field\":\"height\",\"units\":\"data\"},\"line_color\":{\"field\":\"line_color\"},\"width\":{\"field\":\"width\",\"units\":\"data\"},\"x\":{\"field\":\"x\"},\"y\":{\"field\":\"y\"}},\"id\":\"b8838b3f-39a5-4e24-832b-896d395bcf35\",\"type\":\"Rect\"},{\"attributes\":{\"data_source\":{\"id\":\"b570c64f-e9e4-41ac-9d53-0b2397c67c12\",\"type\":\"ColumnDataSource\"},\"glyph\":{\"id\":\"8471a0b1-2a6e-4330-8078-671e1799273e\",\"type\":\"Rect\"},\"hover_glyph\":null,\"nonselection_glyph\":null,\"selection_glyph\":null},\"id\":\"6579cd72-2af2-4e86-b30c-d7ea2ba7fd1c\",\"type\":\"GlyphRenderer\"},{\"attributes\":{\"plot\":{\"id\":\"2dd65013-ed74-4a47-9818-cab4be80fcbf\",\"subtype\":\"Chart\",\"type\":\"Plot\"}},\"id\":\"affe1d45-f219-400d-a508-d0205f0e73f9\",\"type\":\"SaveTool\"},{\"attributes\":{\"fill_alpha\":{\"field\":\"fill_alpha\"},\"fill_color\":{\"field\":\"color\"},\"height\":{\"field\":\"height\",\"units\":\"data\"},\"line_color\":{\"field\":\"line_color\"},\"width\":{\"field\":\"width\",\"units\":\"data\"},\"x\":{\"field\":\"x\"},\"y\":{\"field\":\"y\"}},\"id\":\"5caff5ad-36de-428f-b997-0b787c29ae61\",\"type\":\"Rect\"},{\"attributes\":{\"callback\":null,\"column_names\":[\"line_color\",\"line_alpha\",\"color\",\"fill_alpha\",\"height\",\"width\",\"y\",\"x\",\"label\"],\"data\":{\"arcs\":[\"Detroit-Boston\"],\"chart_index\":[{\"arcs\":\"Detroit-Boston\",\"commodities\":\"Pens\"}],\"color\":[\"#5ab738\"],\"commodities\":[\"Pens\"],\"fill_alpha\":[0.8],\"height\":[30.0],\"label\":[{\"arcs\":\"Detroit-Boston\",\"commodities\":\"Pens\"}],\"line_alpha\":[1.0],\"line_color\":[\"white\"],\"width\":[0.8],\"x\":[\"Detroit-Boston\"],\"y\":[65.0]}},\"id\":\"39198be6-2ccd-4c0d-aaf1-46c13f5a8319\",\"type\":\"ColumnDataSource\"},{\"attributes\":{\"callback\":null,\"column_names\":[\"line_color\",\"line_alpha\",\"color\",\"fill_alpha\",\"height\",\"width\",\"y\",\"x\",\"label\"],\"data\":{\"arcs\":[\"Denver-Boston\"],\"chart_index\":[{\"arcs\":\"Denver-Boston\",\"commodities\":\"Pens\"}],\"color\":[\"#5ab738\"],\"commodities\":[\"Pens\"],\"fill_alpha\":[0.8],\"height\":[10.0],\"label\":[{\"arcs\":\"Denver-Boston\",\"commodities\":\"Pens\"}],\"line_alpha\":[1.0],\"line_color\":[\"white\"],\"width\":[0.8],\"x\":[\"Denver-Boston\"],\"y\":[5.0]}},\"id\":\"5cc9df79-33c6-41fc-9a0b-c10687cf1e29\",\"type\":\"ColumnDataSource\"},{\"attributes\":{\"fill_alpha\":{\"field\":\"fill_alpha\"},\"fill_color\":{\"field\":\"color\"},\"height\":{\"field\":\"height\",\"units\":\"data\"},\"line_color\":{\"field\":\"line_color\"},\"width\":{\"field\":\"width\",\"units\":\"data\"},\"x\":{\"field\":\"x\"},\"y\":{\"field\":\"y\"}},\"id\":\"61cd87d9-3ab7-4b4f-a37a-b638177573bc\",\"type\":\"Rect\"},{\"attributes\":{\"axis_label\":\"Arcs\",\"formatter\":{\"id\":\"6a53b715-9602-42b2-a83c-dfe324427eab\",\"type\":\"CategoricalTickFormatter\"},\"major_label_orientation\":0.7853981633974483,\"plot\":{\"id\":\"2dd65013-ed74-4a47-9818-cab4be80fcbf\",\"subtype\":\"Chart\",\"type\":\"Plot\"},\"ticker\":{\"id\":\"57f3b2e9-feb1-49b1-b9ed-5493f4808b1f\",\"type\":\"CategoricalTicker\"}},\"id\":\"4073f024-4e91-434b-aca1-585e96be63f4\",\"type\":\"CategoricalAxis\"},{\"attributes\":{\"fill_alpha\":{\"field\":\"fill_alpha\"},\"fill_color\":{\"field\":\"color\"},\"height\":{\"field\":\"height\",\"units\":\"data\"},\"line_color\":{\"field\":\"line_color\"},\"width\":{\"field\":\"width\",\"units\":\"data\"},\"x\":{\"field\":\"x\"},\"y\":{\"field\":\"y\"}},\"id\":\"0de2ec1e-6a2c-4d4a-b965-19d7b7530bc9\",\"type\":\"Rect\"},{\"attributes\":{\"callback\":null,\"column_names\":[\"line_color\",\"line_alpha\",\"color\",\"fill_alpha\",\"height\",\"width\",\"y\",\"x\",\"label\"],\"data\":{\"arcs\":[\"Detroit-Boston\"],\"chart_index\":[{\"arcs\":\"Detroit-Boston\",\"commodities\":\"Pencils\"}],\"color\":[\"#f22c40\"],\"commodities\":[\"Pencils\"],\"fill_alpha\":[0.8],\"height\":[50.0],\"label\":[{\"arcs\":\"Detroit-Boston\",\"commodities\":\"Pencils\"}],\"line_alpha\":[1.0],\"line_color\":[\"white\"],\"width\":[0.8],\"x\":[\"Detroit-Boston\"],\"y\":[25.0]}},\"id\":\"31ff6979-4eec-45f9-8b05-a81b664a350b\",\"type\":\"ColumnDataSource\"},{\"attributes\":{\"data_source\":{\"id\":\"a2521066-d144-4d77-b5fe-d3c6e243e163\",\"type\":\"ColumnDataSource\"},\"glyph\":{\"id\":\"7c60142e-3e39-425d-9ad5-b75550e9dad9\",\"type\":\"Rect\"},\"hover_glyph\":null,\"nonselection_glyph\":null,\"selection_glyph\":null},\"id\":\"e82f52be-494c-47e8-ae98-1bdb266c3477\",\"type\":\"GlyphRenderer\"},{\"attributes\":{\"callback\":null,\"column_names\":[\"line_color\",\"line_alpha\",\"color\",\"fill_alpha\",\"height\",\"width\",\"y\",\"x\",\"label\"],\"data\":{\"arcs\":[\"Detroit-Seattle\"],\"chart_index\":[{\"arcs\":\"Detroit-Seattle\",\"commodities\":\"Pens\"}],\"color\":[\"#5ab738\"],\"commodities\":[\"Pens\"],\"fill_alpha\":[0.8],\"height\":[0.0],\"label\":[{\"arcs\":\"Detroit-Seattle\",\"commodities\":\"Pens\"}],\"line_alpha\":[1.0],\"line_color\":[\"white\"],\"width\":[0.8],\"x\":[\"Detroit-Seattle\"],\"y\":[0.0]}},\"id\":\"59b36c13-71ae-4cf1-a178-659f95c53631\",\"type\":\"ColumnDataSource\"},{\"attributes\":{\"fill_alpha\":{\"field\":\"fill_alpha\"},\"fill_color\":{\"field\":\"color\"},\"height\":{\"field\":\"height\",\"units\":\"data\"},\"line_color\":{\"field\":\"line_color\"},\"width\":{\"field\":\"width\",\"units\":\"data\"},\"x\":{\"field\":\"x\"},\"y\":{\"field\":\"y\"}},\"id\":\"1e7e7a8d-c3b8-4a86-9641-5e3eebb591e6\",\"type\":\"Rect\"},{\"attributes\":{\"callback\":null,\"column_names\":[\"line_color\",\"line_alpha\",\"color\",\"fill_alpha\",\"height\",\"width\",\"y\",\"x\",\"label\"],\"data\":{\"arcs\":[\"Detroit-Seattle\"],\"chart_index\":[{\"arcs\":\"Detroit-Seattle\",\"commodities\":\"Pencils\"}],\"color\":[\"#f22c40\"],\"commodities\":[\"Pencils\"],\"fill_alpha\":[0.8],\"height\":[0.0],\"label\":[{\"arcs\":\"Detroit-Seattle\",\"commodities\":\"Pencils\"}],\"line_alpha\":[1.0],\"line_color\":[\"white\"],\"width\":[0.8],\"x\":[\"Detroit-Seattle\"],\"y\":[0.0]}},\"id\":\"af296b1d-8ec9-444a-967f-cee948fd1e33\",\"type\":\"ColumnDataSource\"},{\"attributes\":{\"fill_alpha\":{\"field\":\"fill_alpha\"},\"fill_color\":{\"field\":\"color\"},\"height\":{\"field\":\"height\",\"units\":\"data\"},\"line_color\":{\"field\":\"line_color\"},\"width\":{\"field\":\"width\",\"units\":\"data\"},\"x\":{\"field\":\"x\"},\"y\":{\"field\":\"y\"}},\"id\":\"b77ddaf8-d3bb-4a6e-be8b-5184a8de37d7\",\"type\":\"Rect\"},{\"attributes\":{\"callback\":null,\"column_names\":[\"line_color\",\"line_alpha\",\"color\",\"fill_alpha\",\"height\",\"width\",\"y\",\"x\",\"label\"],\"data\":{\"arcs\":[\"Denver-Seattle\"],\"chart_index\":[{\"arcs\":\"Denver-Seattle\",\"commodities\":\"Pencils\"}],\"color\":[\"#f22c40\"],\"commodities\":[\"Pencils\"],\"fill_alpha\":[0.8],\"height\":[10.0],\"label\":[{\"arcs\":\"Denver-Seattle\",\"commodities\":\"Pencils\"}],\"line_alpha\":[1.0],\"line_color\":[\"white\"],\"width\":[0.8],\"x\":[\"Denver-Seattle\"],\"y\":[5.0]}},\"id\":\"a2521066-d144-4d77-b5fe-d3c6e243e163\",\"type\":\"ColumnDataSource\"},{\"attributes\":{\"legends\":[[\"Pencils\",[{\"id\":\"1a8183a1-053f-459c-8562-e37723a7d55e\",\"type\":\"GlyphRenderer\"}]],[\"Pens\",[{\"id\":\"f0f61c19-cdce-4ac6-8805-981420e813bd\",\"type\":\"GlyphRenderer\"}]]],\"location\":\"top_left\",\"plot\":{\"id\":\"2dd65013-ed74-4a47-9818-cab4be80fcbf\",\"subtype\":\"Chart\",\"type\":\"Plot\"}},\"id\":\"26a0d033-ca61-42e8-8160-e3d151594416\",\"type\":\"Legend\"},{\"attributes\":{\"plot\":{\"id\":\"2dd65013-ed74-4a47-9818-cab4be80fcbf\",\"subtype\":\"Chart\",\"type\":\"Plot\"}},\"id\":\"d2a3d389-29bf-4b84-8bea-92eb1cd16060\",\"type\":\"WheelZoomTool\"},{\"attributes\":{\"callback\":null,\"column_names\":[\"line_color\",\"line_alpha\",\"color\",\"fill_alpha\",\"height\",\"width\",\"y\",\"x\",\"label\"],\"data\":{\"arcs\":[\"Detroit-New York\"],\"chart_index\":[{\"arcs\":\"Detroit-New York\",\"commodities\":\"Pencils\"}],\"color\":[\"#f22c40\"],\"commodities\":[\"Pencils\"],\"fill_alpha\":[0.8],\"height\":[0.0],\"label\":[{\"arcs\":\"Detroit-New York\",\"commodities\":\"Pencils\"}],\"line_alpha\":[1.0],\"line_color\":[\"white\"],\"width\":[0.8],\"x\":[\"Detroit-New York\"],\"y\":[0.0]}},\"id\":\"b570c64f-e9e4-41ac-9d53-0b2397c67c12\",\"type\":\"ColumnDataSource\"},{\"attributes\":{},\"id\":\"14510d8f-82c5-470b-95d1-6d2561ee01c5\",\"type\":\"ToolEvents\"},{\"attributes\":{\"callback\":null,\"column_names\":[\"line_color\",\"line_alpha\",\"color\",\"fill_alpha\",\"height\",\"width\",\"y\",\"x\",\"label\"],\"data\":{\"arcs\":[\"Detroit-New York\"],\"chart_index\":[{\"arcs\":\"Detroit-New York\",\"commodities\":\"Pens\"}],\"color\":[\"#5ab738\"],\"commodities\":[\"Pens\"],\"fill_alpha\":[0.8],\"height\":[30.0],\"label\":[{\"arcs\":\"Detroit-New York\",\"commodities\":\"Pens\"}],\"line_alpha\":[1.0],\"line_color\":[\"white\"],\"width\":[0.8],\"x\":[\"Detroit-New York\"],\"y\":[15.0]}},\"id\":\"c075a25a-9eb1-48ea-9662-6bd11efe399e\",\"type\":\"ColumnDataSource\"},{\"attributes\":{\"callback\":null,\"factors\":[\"Denver-Boston\",\"Denver-New York\",\"Denver-Seattle\",\"Detroit-Boston\",\"Detroit-New York\",\"Detroit-Seattle\"]},\"id\":\"1245f9c6-7a39-4534-bb12-d8fe13fd024c\",\"type\":\"FactorRange\"},{\"attributes\":{\"fill_alpha\":{\"field\":\"fill_alpha\"},\"fill_color\":{\"field\":\"color\"},\"height\":{\"field\":\"height\",\"units\":\"data\"},\"line_color\":{\"field\":\"line_color\"},\"width\":{\"field\":\"width\",\"units\":\"data\"},\"x\":{\"field\":\"x\"},\"y\":{\"field\":\"y\"}},\"id\":\"2e6ff17e-0f8d-476d-ad67-68b992f3662b\",\"type\":\"Rect\"},{\"attributes\":{\"below\":[{\"id\":\"4073f024-4e91-434b-aca1-585e96be63f4\",\"type\":\"CategoricalAxis\"}],\"left\":[{\"id\":\"35aab615-e82b-4f6f-878e-0d311642b3b4\",\"type\":\"LinearAxis\"}],\"renderers\":[{\"id\":\"bf31b4fc-6a13-4244-9b05-319ff24fc0c3\",\"type\":\"BoxAnnotation\"},{\"id\":\"1a8183a1-053f-459c-8562-e37723a7d55e\",\"type\":\"GlyphRenderer\"},{\"id\":\"ee3f0b8b-29c6-449c-80cc-76f88b4bbae7\",\"type\":\"GlyphRenderer\"},{\"id\":\"e82f52be-494c-47e8-ae98-1bdb266c3477\",\"type\":\"GlyphRenderer\"},{\"id\":\"af21bd99-5c2a-4c0f-8700-bdca6cc316de\",\"type\":\"GlyphRenderer\"},{\"id\":\"6579cd72-2af2-4e86-b30c-d7ea2ba7fd1c\",\"type\":\"GlyphRenderer\"},{\"id\":\"c7568c8a-32f8-44a5-b634-f387486a6908\",\"type\":\"GlyphRenderer\"},{\"id\":\"f0f61c19-cdce-4ac6-8805-981420e813bd\",\"type\":\"GlyphRenderer\"},{\"id\":\"b568b338-5a0c-448f-9561-36e8aabacd2e\",\"type\":\"GlyphRenderer\"},{\"id\":\"d6756cd1-3ccb-4301-bd08-469d088593cf\",\"type\":\"GlyphRenderer\"},{\"id\":\"ba56e197-b893-4c0c-b2b9-aacde2c0de6c\",\"type\":\"GlyphRenderer\"},{\"id\":\"4b545b1b-1c30-4c46-bea9-f38fa2d7a1c8\",\"type\":\"GlyphRenderer\"},{\"id\":\"6155a810-64d7-454f-b06c-5bb1ba1011c7\",\"type\":\"GlyphRenderer\"},{\"id\":\"26a0d033-ca61-42e8-8160-e3d151594416\",\"type\":\"Legend\"},{\"id\":\"4073f024-4e91-434b-aca1-585e96be63f4\",\"type\":\"CategoricalAxis\"},{\"id\":\"35aab615-e82b-4f6f-878e-0d311642b3b4\",\"type\":\"LinearAxis\"},{\"id\":\"1098beba-3df0-4e3f-833c-e3b158ac1989\",\"type\":\"Grid\"}],\"title\":{\"id\":\"7566964d-c506-4e08-9207-c98c8c095ff1\",\"type\":\"Title\"},\"tool_events\":{\"id\":\"14510d8f-82c5-470b-95d1-6d2561ee01c5\",\"type\":\"ToolEvents\"},\"toolbar\":{\"id\":\"961f78e0-a473-4b95-a0ac-764d662b9528\",\"type\":\"Toolbar\"},\"x_mapper_type\":\"auto\",\"x_range\":{\"id\":\"1245f9c6-7a39-4534-bb12-d8fe13fd024c\",\"type\":\"FactorRange\"},\"y_mapper_type\":\"auto\",\"y_range\":{\"id\":\"8272c397-aacc-42e3-ac66-8f35c0de574c\",\"type\":\"Range1d\"}},\"id\":\"2dd65013-ed74-4a47-9818-cab4be80fcbf\",\"subtype\":\"Chart\",\"type\":\"Plot\"},{\"attributes\":{\"fill_alpha\":{\"field\":\"fill_alpha\"},\"fill_color\":{\"field\":\"color\"},\"height\":{\"field\":\"height\",\"units\":\"data\"},\"line_color\":{\"field\":\"line_color\"},\"width\":{\"field\":\"width\",\"units\":\"data\"},\"x\":{\"field\":\"x\"},\"y\":{\"field\":\"y\"}},\"id\":\"158d09c9-249a-43c8-adbe-ba0f67d73d2a\",\"type\":\"Rect\"},{\"attributes\":{\"fill_alpha\":{\"field\":\"fill_alpha\"},\"fill_color\":{\"field\":\"color\"},\"height\":{\"field\":\"height\",\"units\":\"data\"},\"line_color\":{\"field\":\"line_color\"},\"width\":{\"field\":\"width\",\"units\":\"data\"},\"x\":{\"field\":\"x\"},\"y\":{\"field\":\"y\"}},\"id\":\"8471a0b1-2a6e-4330-8078-671e1799273e\",\"type\":\"Rect\"},{\"attributes\":{},\"id\":\"9d87e27d-f5b6-44d2-8859-5c0ae4ef83c9\",\"type\":\"BasicTickFormatter\"},{\"attributes\":{\"callback\":null,\"column_names\":[\"line_color\",\"line_alpha\",\"color\",\"fill_alpha\",\"height\",\"width\",\"y\",\"x\",\"label\"],\"data\":{\"arcs\":[\"Denver-New York\"],\"chart_index\":[{\"arcs\":\"Denver-New York\",\"commodities\":\"Pencils\"}],\"color\":[\"#f22c40\"],\"commodities\":[\"Pencils\"],\"fill_alpha\":[0.8],\"height\":[50.0],\"label\":[{\"arcs\":\"Denver-New York\",\"commodities\":\"Pencils\"}],\"line_alpha\":[1.0],\"line_color\":[\"white\"],\"width\":[0.8],\"x\":[\"Denver-New York\"],\"y\":[25.0]}},\"id\":\"ca6e30b8-a49f-433b-b64f-dcc507aa149f\",\"type\":\"ColumnDataSource\"},{\"attributes\":{\"fill_alpha\":{\"field\":\"fill_alpha\"},\"fill_color\":{\"field\":\"color\"},\"height\":{\"field\":\"height\",\"units\":\"data\"},\"line_color\":{\"field\":\"line_color\"},\"width\":{\"field\":\"width\",\"units\":\"data\"},\"x\":{\"field\":\"x\"},\"y\":{\"field\":\"y\"}},\"id\":\"2ce97382-533c-4f4f-a448-31a22b6835a9\",\"type\":\"Rect\"},{\"attributes\":{\"data_source\":{\"id\":\"14b2b1e6-a5d3-4a1f-8592-53f2293243f4\",\"type\":\"ColumnDataSource\"},\"glyph\":{\"id\":\"5caff5ad-36de-428f-b997-0b787c29ae61\",\"type\":\"Rect\"},\"hover_glyph\":null,\"nonselection_glyph\":null,\"selection_glyph\":null},\"id\":\"1a8183a1-053f-459c-8562-e37723a7d55e\",\"type\":\"GlyphRenderer\"},{\"attributes\":{},\"id\":\"6a53b715-9602-42b2-a83c-dfe324427eab\",\"type\":\"CategoricalTickFormatter\"},{\"attributes\":{\"callback\":null,\"column_names\":[\"line_color\",\"line_alpha\",\"color\",\"fill_alpha\",\"height\",\"width\",\"y\",\"x\",\"label\"],\"data\":{\"arcs\":[\"Denver-New York\"],\"chart_index\":[{\"arcs\":\"Denver-New York\",\"commodities\":\"Pens\"}],\"color\":[\"#5ab738\"],\"commodities\":[\"Pens\"],\"fill_alpha\":[0.8],\"height\":[0.0],\"label\":[{\"arcs\":\"Denver-New York\",\"commodities\":\"Pens\"}],\"line_alpha\":[1.0],\"line_color\":[\"white\"],\"width\":[0.8],\"x\":[\"Denver-New York\"],\"y\":[50.0]}},\"id\":\"e9fb3571-b55c-4dcc-bd48-6d003eeabe8e\",\"type\":\"ColumnDataSource\"},{\"attributes\":{\"data_source\":{\"id\":\"c075a25a-9eb1-48ea-9662-6bd11efe399e\",\"type\":\"ColumnDataSource\"},\"glyph\":{\"id\":\"0de2ec1e-6a2c-4d4a-b965-19d7b7530bc9\",\"type\":\"Rect\"},\"hover_glyph\":null,\"nonselection_glyph\":null,\"selection_glyph\":null},\"id\":\"4b545b1b-1c30-4c46-bea9-f38fa2d7a1c8\",\"type\":\"GlyphRenderer\"},{\"attributes\":{\"data_source\":{\"id\":\"af296b1d-8ec9-444a-967f-cee948fd1e33\",\"type\":\"ColumnDataSource\"},\"glyph\":{\"id\":\"b8838b3f-39a5-4e24-832b-896d395bcf35\",\"type\":\"Rect\"},\"hover_glyph\":null,\"nonselection_glyph\":null,\"selection_glyph\":null},\"id\":\"c7568c8a-32f8-44a5-b634-f387486a6908\",\"type\":\"GlyphRenderer\"},{\"attributes\":{\"axis_label\":\"Sum( Flow )\",\"formatter\":{\"id\":\"9d87e27d-f5b6-44d2-8859-5c0ae4ef83c9\",\"type\":\"BasicTickFormatter\"},\"plot\":{\"id\":\"2dd65013-ed74-4a47-9818-cab4be80fcbf\",\"subtype\":\"Chart\",\"type\":\"Plot\"},\"ticker\":{\"id\":\"3ecae356-9d37-4f92-a6c0-c4c3d504c322\",\"type\":\"BasicTicker\"}},\"id\":\"35aab615-e82b-4f6f-878e-0d311642b3b4\",\"type\":\"LinearAxis\"},{\"attributes\":{},\"id\":\"57f3b2e9-feb1-49b1-b9ed-5493f4808b1f\",\"type\":\"CategoricalTicker\"},{\"attributes\":{\"data_source\":{\"id\":\"2b613d05-26c0-423f-9c04-30f261f09481\",\"type\":\"ColumnDataSource\"},\"glyph\":{\"id\":\"2ce97382-533c-4f4f-a448-31a22b6835a9\",\"type\":\"Rect\"},\"hover_glyph\":null,\"nonselection_glyph\":null,\"selection_glyph\":null},\"id\":\"d6756cd1-3ccb-4301-bd08-469d088593cf\",\"type\":\"GlyphRenderer\"},{\"attributes\":{\"active_drag\":\"auto\",\"active_scroll\":\"auto\",\"active_tap\":\"auto\",\"tools\":[{\"id\":\"bac4b4b2-eed5-40c8-a92d-d1c909f8f8e4\",\"type\":\"PanTool\"},{\"id\":\"d2a3d389-29bf-4b84-8bea-92eb1cd16060\",\"type\":\"WheelZoomTool\"},{\"id\":\"0af2bd41-c4c8-483b-8be7-bf70f3ec3a6e\",\"type\":\"BoxZoomTool\"},{\"id\":\"affe1d45-f219-400d-a508-d0205f0e73f9\",\"type\":\"SaveTool\"},{\"id\":\"43a4645e-361c-4f2f-98d3-0e85da389853\",\"type\":\"ResetTool\"},{\"id\":\"9fbcae7c-7fa8-44c1-a751-0b7d220f82f5\",\"type\":\"HelpTool\"}]},\"id\":\"961f78e0-a473-4b95-a0ac-764d662b9528\",\"type\":\"Toolbar\"},{\"attributes\":{\"fill_alpha\":{\"field\":\"fill_alpha\"},\"fill_color\":{\"field\":\"color\"},\"height\":{\"field\":\"height\",\"units\":\"data\"},\"line_color\":{\"field\":\"line_color\"},\"width\":{\"field\":\"width\",\"units\":\"data\"},\"x\":{\"field\":\"x\"},\"y\":{\"field\":\"y\"}},\"id\":\"209d389c-ce36-480d-91ca-d219c68b7025\",\"type\":\"Rect\"},{\"attributes\":{\"data_source\":{\"id\":\"e9fb3571-b55c-4dcc-bd48-6d003eeabe8e\",\"type\":\"ColumnDataSource\"},\"glyph\":{\"id\":\"1e7e7a8d-c3b8-4a86-9641-5e3eebb591e6\",\"type\":\"Rect\"},\"hover_glyph\":null,\"nonselection_glyph\":null,\"selection_glyph\":null},\"id\":\"b568b338-5a0c-448f-9561-36e8aabacd2e\",\"type\":\"GlyphRenderer\"},{\"attributes\":{\"plot\":{\"id\":\"2dd65013-ed74-4a47-9818-cab4be80fcbf\",\"subtype\":\"Chart\",\"type\":\"Plot\"}},\"id\":\"43a4645e-361c-4f2f-98d3-0e85da389853\",\"type\":\"ResetTool\"},{\"attributes\":{\"callback\":null,\"column_names\":[\"line_color\",\"line_alpha\",\"color\",\"fill_alpha\",\"height\",\"width\",\"y\",\"x\",\"label\"],\"data\":{\"arcs\":[\"Denver-Seattle\"],\"chart_index\":[{\"arcs\":\"Denver-Seattle\",\"commodities\":\"Pens\"}],\"color\":[\"#5ab738\"],\"commodities\":[\"Pens\"],\"fill_alpha\":[0.8],\"height\":[30.0],\"label\":[{\"arcs\":\"Denver-Seattle\",\"commodities\":\"Pens\"}],\"line_alpha\":[1.0],\"line_color\":[\"white\"],\"width\":[0.8],\"x\":[\"Denver-Seattle\"],\"y\":[25.0]}},\"id\":\"2b613d05-26c0-423f-9c04-30f261f09481\",\"type\":\"ColumnDataSource\"}],\"root_ids\":[\"2dd65013-ed74-4a47-9818-cab4be80fcbf\"]},\"title\":\"Bokeh Application\",\"version\":\"0.12.2\"}};\n",
       "            var render_items = [{\"docid\":\"5306b35c-f185-4546-8354-5468e2a87876\",\"elementid\":\"390eebee-b314-456b-b10a-7f2bc9e0b3ee\",\"modelid\":\"2dd65013-ed74-4a47-9818-cab4be80fcbf\"}];\n",
       "            \n",
       "            Bokeh.embed.embed_items(docs_json, render_items);\n",
       "        });\n",
       "      },\n",
       "      function(Bokeh) {\n",
       "      }\n",
       "    ];\n",
       "  \n",
       "    function run_inline_js() {\n",
       "      \n",
       "      if ((window.Bokeh !== undefined) || (force === \"1\")) {\n",
       "        for (var i = 0; i < inline_js.length; i++) {\n",
       "          inline_js[i](window.Bokeh);\n",
       "        }if (force === \"1\") {\n",
       "          display_loaded();\n",
       "        }} else if (Date.now() < window._bokeh_timeout) {\n",
       "        setTimeout(run_inline_js, 100);\n",
       "      } else if (!window._bokeh_failed_load) {\n",
       "        console.log(\"Bokeh: BokehJS failed to load within specified timeout.\");\n",
       "        window._bokeh_failed_load = true;\n",
       "      } else if (!force) {\n",
       "        var cell = $(\"#390eebee-b314-456b-b10a-7f2bc9e0b3ee\").parents('.cell').data().cell;\n",
       "        cell.output_area.append_execute_result(NB_LOAD_WARNING)\n",
       "      }\n",
       "  \n",
       "    }\n",
       "  \n",
       "    if (window._bokeh_is_loading === 0) {\n",
       "      console.log(\"Bokeh: BokehJS loaded, going straight to plotting\");\n",
       "      run_inline_js();\n",
       "    } else {\n",
       "      load_libs(js_urls, function() {\n",
       "        console.log(\"Bokeh: BokehJS plotting callback run at\", now());\n",
       "        run_inline_js();\n",
       "      });\n",
       "    }\n",
       "  }(this));\n",
       "</script>"
      ]
     },
     "metadata": {},
     "output_type": "display_data"
    }
   ],
   "source": [
    "from bokeh.charts import *\n",
    "output_notebook()\n",
    "\n",
    "keys = sorted(flow.keys())\n",
    "data = {\n",
    "    'arcs': [\"%s-%s\"% (i,j) for h,i,j in keys],\n",
    "    'commodities': [h for h,i,j in keys],\n",
    "    'flow': [flow[h,i,j].X for h,i,j in keys],\n",
    "    'use': [flow[h,i,j].X/capacity[i,j] for h,i,j in keys],\n",
    "}\n",
    "bar = Bar(data, values='flow', label='arcs', stack='commodities', title=\"Network flow\")\n",
    "show(bar)"
   ]
  },
  {
   "cell_type": "code",
   "execution_count": 8,
   "metadata": {
    "collapsed": false,
    "deletable": true,
    "editable": true
   },
   "outputs": [
    {
     "data": {
      "text/html": [
       "<div>\n",
       "<table border=\"1\" class=\"dataframe\">\n",
       "  <thead>\n",
       "    <tr style=\"text-align: right;\">\n",
       "      <th></th>\n",
       "      <th></th>\n",
       "      <th>Pencils</th>\n",
       "      <th>Pens</th>\n",
       "    </tr>\n",
       "    <tr>\n",
       "      <th>origin</th>\n",
       "      <th>destination</th>\n",
       "      <th></th>\n",
       "      <th></th>\n",
       "    </tr>\n",
       "  </thead>\n",
       "  <tbody>\n",
       "    <tr>\n",
       "      <th rowspan=\"3\" valign=\"top\">Denver</th>\n",
       "      <th>Boston</th>\n",
       "      <td>0</td>\n",
       "      <td>10</td>\n",
       "    </tr>\n",
       "    <tr>\n",
       "      <th>New York</th>\n",
       "      <td>50</td>\n",
       "      <td>0</td>\n",
       "    </tr>\n",
       "    <tr>\n",
       "      <th>Seattle</th>\n",
       "      <td>10</td>\n",
       "      <td>30</td>\n",
       "    </tr>\n",
       "    <tr>\n",
       "      <th rowspan=\"3\" valign=\"top\">Detroit</th>\n",
       "      <th>Boston</th>\n",
       "      <td>50</td>\n",
       "      <td>30</td>\n",
       "    </tr>\n",
       "    <tr>\n",
       "      <th>New York</th>\n",
       "      <td>0</td>\n",
       "      <td>30</td>\n",
       "    </tr>\n",
       "    <tr>\n",
       "      <th>Seattle</th>\n",
       "      <td>0</td>\n",
       "      <td>0</td>\n",
       "    </tr>\n",
       "  </tbody>\n",
       "</table>\n",
       "</div>"
      ],
      "text/plain": [
       "                    Pencils Pens\n",
       "origin  destination             \n",
       "Denver  Boston            0   10\n",
       "        New York         50    0\n",
       "        Seattle          10   30\n",
       "Detroit Boston           50   30\n",
       "        New York          0   30\n",
       "        Seattle           0    0"
      ]
     },
     "execution_count": 8,
     "metadata": {},
     "output_type": "execute_result"
    }
   ],
   "source": [
    "import pandas as pd\n",
    "mi = pd.MultiIndex.from_tuples(sorted(list(arcs)), names=('origin','destination'))\n",
    "df = pd.DataFrame(index=mi, columns=commodities)\n",
    "for h in commodities:\n",
    "    for i,j in arcs:\n",
    "        df[h][i,j] = flow[h,i,j].X\n",
    "\n",
    "df"
   ]
  },
  {
   "cell_type": "markdown",
   "metadata": {
    "deletable": true,
    "editable": true
   },
   "source": [
    "## Debugging\n",
    "Write the model as an LP file"
   ]
  },
  {
   "cell_type": "code",
   "execution_count": 9,
   "metadata": {
    "collapsed": false,
    "deletable": true,
    "editable": true
   },
   "outputs": [
    {
     "name": "stdout",
     "output_type": "stream",
     "text": [
      "Warning: variable name \"flow[Pencils,Detroit,New York]\" has a space\n",
      "Warning: constraint name \"cap[Detroit,New York]\" has a space\n",
      "Warning: to let Gurobi read it back, use rlp format\n"
     ]
    }
   ],
   "source": [
    "m.write(\"netflow.lp\")"
   ]
  }
 ],
 "metadata": {
  "anaconda-cloud": {
   "attach-environment": false,
   "environment": null,
   "summary": "Sample network flow",
   "url": "https://anaconda.org/gglockner/netflow"
  },
  "kernelspec": {
   "display_name": "Python 2",
   "language": "python",
   "name": "python2"
  },
  "language_info": {
   "codemirror_mode": {
    "name": "ipython",
    "version": 2
   },
   "file_extension": ".py",
   "mimetype": "text/x-python",
   "name": "python",
   "nbconvert_exporter": "python",
   "pygments_lexer": "ipython2",
   "version": "2.7.12"
  },
  "nbpresent": {
   "slides": {
    "622c7359-7d19-4291-a322-1fbcaa288ef0": {
     "id": "622c7359-7d19-4291-a322-1fbcaa288ef0",
     "prev": "e607b445-87c8-42bd-8010-43f04345bcb5",
     "regions": {}
    },
    "814d0cc7-122d-49f6-967a-a4a8f57d383c": {
     "id": "814d0cc7-122d-49f6-967a-a4a8f57d383c",
     "prev": "622c7359-7d19-4291-a322-1fbcaa288ef0",
     "regions": {
      "f14faa71-c001-44c1-be63-0bb67b525a57": {
       "attrs": {
        "height": 1,
        "width": 1,
        "x": 0,
        "y": 0
       },
       "id": "f14faa71-c001-44c1-be63-0bb67b525a57"
      }
     }
    },
    "e607b445-87c8-42bd-8010-43f04345bcb5": {
     "id": "e607b445-87c8-42bd-8010-43f04345bcb5",
     "prev": null,
     "regions": {}
    }
   },
   "themes": {}
  }
 },
 "nbformat": 4,
 "nbformat_minor": 0
}
