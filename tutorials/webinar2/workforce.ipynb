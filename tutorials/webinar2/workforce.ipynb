{
 "cells": [
  {
   "cell_type": "markdown",
   "metadata": {
    "deletable": true,
    "editable": true
   },
   "source": [
    "# workforce.py\n",
    "- Solve a classic model to assign workers to shifts\n",
    "- This model is infeasible, so we do some tests to determine why\n",
    "\n",
    "## List data\n",
    "  0. Shifts\n",
    "  0. Workers"
   ]
  },
  {
   "cell_type": "code",
   "execution_count": 1,
   "metadata": {
    "collapsed": true,
    "deletable": true,
    "editable": true
   },
   "outputs": [],
   "source": [
    "from gurobipy import *\n",
    "\n",
    "m = Model(\"workforce\")\n",
    "\n",
    "# Number of workers required for each shift\n",
    "shifts = [ \"Mon1\",  \"Tue2\", \"Wed3\",  \"Thu4\",  \"Fri5\",  \"Sat6\",  \"Sun7\",\n",
    "           \"Mon8\",  \"Tue9\", \"Wed10\", \"Thu11\", \"Fri12\", \"Sat13\", \"Sun14\" ]\n",
    "\n",
    "workers = [ \"Amy\", \"Bob\", \"Cathy\", \"Dan\", \"Ed\", \"Fred\", \"Gu\" ]"
   ]
  },
  {
   "cell_type": "markdown",
   "metadata": {
    "deletable": true,
    "editable": true,
    "nbpresent": {
     "id": "9871a869-6285-43e5-b93a-55d4906af818"
    },
    "slideshow": {
     "slide_type": "slide"
    }
   },
   "source": [
    "## Indexed data\n",
    "  0. Shift requirements: indexed by shifts\n",
    "  0. Worker pay: indexed by workers"
   ]
  },
  {
   "cell_type": "code",
   "execution_count": 2,
   "metadata": {
    "collapsed": true,
    "deletable": true,
    "editable": true
   },
   "outputs": [],
   "source": [
    "shiftRequirements = {\n",
    "\"Mon1\":  3, \"Tue2\":  2, \"Wed3\":  4, \"Thu4\":  4, \"Fri5\":  5, \"Sat6\":  6, \"Sun7\":  5,\n",
    "\"Mon8\":  2, \"Tue9\":  2, \"Wed10\": 3, \"Thu11\": 4, \"Fri12\": 6, \"Sat13\": 7, \"Sun14\": 5 } \n",
    "\n",
    "# Amount each worker is paid to work one shift\n",
    "pay = {\n",
    "  \"Amy\":   10,\n",
    "  \"Bob\":   12,\n",
    "  \"Cathy\": 10,\n",
    "  \"Dan\":   8,\n",
    "  \"Ed\":    8,\n",
    "  \"Fred\":  9,\n",
    "  \"Gu\":    11 }"
   ]
  },
  {
   "cell_type": "markdown",
   "metadata": {
    "deletable": true,
    "editable": true
   },
   "source": [
    "## Worker availability\n",
    "We create a list of shifts when workers are available\n",
    "- Much more efficient to list only shifts that are possible\n",
    "- Don't optimize shifts for workers who are unavailable!"
   ]
  },
  {
   "cell_type": "code",
   "execution_count": 3,
   "metadata": {
    "collapsed": false,
    "deletable": true,
    "editable": true,
    "nbpresent": {
     "id": "65915f52-6516-40c3-b5dc-78cbb9946f1d"
    },
    "slideshow": {
     "slide_type": "subslide"
    }
   },
   "outputs": [],
   "source": [
    "# Worker availability\n",
    "availability = tuplelist([\n",
    "('Amy', 'Tue2'), ('Amy', 'Wed3'), ('Amy', 'Fri5'), ('Amy', 'Sun7'),\n",
    "('Amy', 'Tue9'), ('Amy', 'Wed10'), ('Amy', 'Thu11'), ('Amy', 'Fri12'),\n",
    "('Amy', 'Sat13'), ('Amy', 'Sun14'), ('Bob', 'Mon1'), ('Bob', 'Tue2'),\n",
    "('Bob', 'Fri5'), ('Bob', 'Sat6'), ('Bob', 'Mon8'), ('Bob', 'Thu11'),\n",
    "('Bob', 'Sat13'), ('Cathy', 'Wed3'), ('Cathy', 'Thu4'), ('Cathy', 'Fri5'),\n",
    "('Cathy', 'Sun7'), ('Cathy', 'Mon8'), ('Cathy', 'Tue9'), ('Cathy', 'Wed10'),\n",
    "('Cathy', 'Thu11'), ('Cathy', 'Fri12'), ('Cathy', 'Sat13'),\n",
    "('Cathy', 'Sun14'), ('Dan', 'Tue2'), ('Dan', 'Wed3'), ('Dan', 'Fri5'),\n",
    "('Dan', 'Sat6'), ('Dan', 'Mon8'), ('Dan', 'Tue9'), ('Dan', 'Wed10'),\n",
    "('Dan', 'Thu11'), ('Dan', 'Fri12'), ('Dan', 'Sat13'), ('Dan', 'Sun14'),\n",
    "('Ed', 'Mon1'), ('Ed', 'Tue2'), ('Ed', 'Wed3'), ('Ed', 'Thu4'),\n",
    "('Ed', 'Fri5'), ('Ed', 'Sun7'), ('Ed', 'Mon8'), ('Ed', 'Tue9'),\n",
    "('Ed', 'Thu11'), ('Ed', 'Sat13'), ('Ed', 'Sun14'), ('Fred', 'Mon1'),\n",
    "('Fred', 'Tue2'), ('Fred', 'Wed3'), ('Fred', 'Sat6'), ('Fred', 'Mon8'),\n",
    "('Fred', 'Tue9'), ('Fred', 'Fri12'), ('Fred', 'Sat13'), ('Fred', 'Sun14'),\n",
    "('Gu', 'Mon1'), ('Gu', 'Tue2'), ('Gu', 'Wed3'), ('Gu', 'Fri5'),\n",
    "('Gu', 'Sat6'), ('Gu', 'Sun7'), ('Gu', 'Mon8'), ('Gu', 'Tue9'),\n",
    "('Gu', 'Wed10'), ('Gu', 'Thu11'), ('Gu', 'Fri12'), ('Gu', 'Sat13'),\n",
    "('Gu', 'Sun14')\n",
    "])"
   ]
  },
  {
   "cell_type": "markdown",
   "metadata": {
    "deletable": true,
    "editable": true,
    "nbpresent": {
     "id": "fb882cb5-31d9-4459-8d41-7e588c002d7a"
    }
   },
   "source": [
    "## Decision variables\n",
    "The variable `x[w,s] = 1` if worker w is assigned to shift s\n",
    "- Only use variables for _possible_ combinations - not when workers are unavailable\n",
    "- Reduces model size and makes code efficient"
   ]
  },
  {
   "cell_type": "code",
   "execution_count": 4,
   "metadata": {
    "collapsed": false,
    "deletable": true,
    "editable": true,
    "nbpresent": {
     "id": "316b1245-d440-4399-9067-ed369e9f43d7"
    }
   },
   "outputs": [],
   "source": [
    "# Create variables indexed by availability list\n",
    "x = m.addVars(availability, ub=1, name=\"x\")"
   ]
  },
  {
   "cell_type": "markdown",
   "metadata": {
    "deletable": true,
    "editable": true
   },
   "source": [
    "## Objective\n",
    "Minimize total salary cost"
   ]
  },
  {
   "cell_type": "code",
   "execution_count": 5,
   "metadata": {
    "collapsed": true,
    "deletable": true,
    "editable": true
   },
   "outputs": [],
   "source": [
    "m.setObjective(sum(pay[w]*x[w,s] for w,s in availability), GRB.MINIMIZE)"
   ]
  },
  {
   "cell_type": "markdown",
   "metadata": {
    "deletable": true,
    "editable": true,
    "nbpresent": {
     "id": "38ecdc9b-5475-4dc9-b629-cf7ae63de1a5"
    }
   },
   "source": [
    "## Shift requirement constraints\n",
    "For every shift, the number of workers must equal the shift requirement"
   ]
  },
  {
   "cell_type": "code",
   "execution_count": 6,
   "metadata": {
    "collapsed": false,
    "deletable": true,
    "editable": true,
    "nbpresent": {
     "id": "7885be96-851c-47d4-a4ca-b89af6fb29fd"
    }
   },
   "outputs": [],
   "source": [
    "reqCts = m.addConstrs((x.sum('*', s) == shiftRequirements[s] for s in shifts), \"_\")"
   ]
  },
  {
   "cell_type": "markdown",
   "metadata": {
    "deletable": true,
    "editable": true
   },
   "source": [
    "To understand the syntax, here is a less efficient version:\n",
    "\n",
    "    for s in shifts:\n",
    "        m.addConstr(sum(x[w,s] for w in workers\n",
    "                               if (w,s) in availability)\n",
    "                    == shiftRequirements[s])\n",
    "\n",
    "The accompanying presentation explains the efficiency issues"
   ]
  },
  {
   "cell_type": "markdown",
   "metadata": {
    "deletable": true,
    "editable": true,
    "nbpresent": {
     "id": "0521bba9-d638-4842-ae9c-a3cf5c54dc98"
    }
   },
   "source": [
    "## Solve\n",
    "Remember that this model is designed to be infeasible"
   ]
  },
  {
   "cell_type": "code",
   "execution_count": 7,
   "metadata": {
    "collapsed": false,
    "deletable": true,
    "editable": true,
    "nbpresent": {
     "id": "344eed33-6224-4ba8-9c15-a7914dcc1e1c"
    }
   },
   "outputs": [
    {
     "name": "stdout",
     "output_type": "stream",
     "text": [
      "Optimize a model with 14 rows, 72 columns and 72 nonzeros\n",
      "Coefficient statistics:\n",
      "  Matrix range     [1e+00, 1e+00]\n",
      "  Objective range  [8e+00, 1e+01]\n",
      "  Bounds range     [1e+00, 1e+00]\n",
      "  RHS range        [2e+00, 7e+00]\n",
      "Presolve removed 1 rows and 34 columns\n",
      "Presolve time: 0.01s\n",
      "\n",
      "Solved in 0 iterations and 0.01 seconds\n",
      "Infeasible model\n"
     ]
    }
   ],
   "source": [
    "m.optimize()"
   ]
  },
  {
   "cell_type": "markdown",
   "metadata": {
    "deletable": true,
    "editable": true
   },
   "source": [
    "## Relax constraints\n",
    "Call feasRelax to relax constraints"
   ]
  },
  {
   "cell_type": "code",
   "execution_count": 8,
   "metadata": {
    "collapsed": false,
    "deletable": true,
    "editable": true
   },
   "outputs": [
    {
     "name": "stdout",
     "output_type": "stream",
     "text": [
      "Optimize a model with 14 rows, 100 columns and 100 nonzeros\n",
      "Coefficient statistics:\n",
      "  Matrix range     [1e+00, 1e+00]\n",
      "  Objective range  [1e+00, 1e+00]\n",
      "  Bounds range     [1e+00, 1e+00]\n",
      "  RHS range        [2e+00, 7e+00]\n",
      "Presolve removed 5 rows and 73 columns\n",
      "Presolve time: 0.01s\n",
      "Presolved: 9 rows, 27 columns, 27 nonzeros\n",
      "\n",
      "Iteration    Objective       Primal Inf.    Dual Inf.      Time\n",
      "       0    6.0000000e+00   0.000000e+00   0.000000e+00      0s\n",
      "       0    6.0000000e+00   0.000000e+00   0.000000e+00      0s\n",
      "\n",
      "Solved in 0 iterations and 0.01 seconds\n",
      "Optimal objective  6.000000000e+00\n",
      "\n",
      "    Variable            X \n",
      "-------------------------\n",
      "   ArtP_Thu4            2 \n",
      "   ArtP_Sat6            2 \n",
      "   ArtP_Sun7            1 \n",
      "  ArtP_Fri12            1 \n"
     ]
    }
   ],
   "source": [
    "orignumvars = m.NumVars\n",
    "m.feasRelaxS(0, False, False, True)\n",
    "m.optimize()\n",
    "\n",
    "m.printAttr('X', \"Art*\") # slack variables"
   ]
  },
  {
   "cell_type": "markdown",
   "metadata": {
    "deletable": true,
    "editable": true
   },
   "source": [
    "## Plot result\n",
    "Show a heatmap of the shifts that cannot be satisfied"
   ]
  },
  {
   "cell_type": "code",
   "execution_count": 9,
   "metadata": {
    "collapsed": false,
    "deletable": true,
    "editable": true
   },
   "outputs": [
    {
     "data": {
      "text/html": [
       "\n",
       "    <div class=\"bk-root\">\n",
       "        <a href=\"http://bokeh.pydata.org\" target=\"_blank\" class=\"bk-logo bk-logo-small bk-logo-notebook\"></a>\n",
       "        <span id=\"f4016922-4d2d-4940-bee7-e2ca4b56b803\">Loading BokehJS ...</span>\n",
       "    </div>"
      ]
     },
     "metadata": {},
     "output_type": "display_data"
    },
    {
     "data": {
      "application/javascript": [
       "\n",
       "(function(global) {\n",
       "  function now() {\n",
       "    return new Date();\n",
       "  }\n",
       "\n",
       "  var force = \"1\";\n",
       "\n",
       "  if (typeof (window._bokeh_onload_callbacks) === \"undefined\" || force !== \"\") {\n",
       "    window._bokeh_onload_callbacks = [];\n",
       "    window._bokeh_is_loading = undefined;\n",
       "  }\n",
       "\n",
       "\n",
       "  \n",
       "  if (typeof (window._bokeh_timeout) === \"undefined\" || force !== \"\") {\n",
       "    window._bokeh_timeout = Date.now() + 5000;\n",
       "    window._bokeh_failed_load = false;\n",
       "  }\n",
       "\n",
       "  var NB_LOAD_WARNING = {'data': {'text/html':\n",
       "     \"<div style='background-color: #fdd'>\\n\"+\n",
       "     \"<p>\\n\"+\n",
       "     \"BokehJS does not appear to have successfully loaded. If loading BokehJS from CDN, this \\n\"+\n",
       "     \"may be due to a slow or bad network connection. Possible fixes:\\n\"+\n",
       "     \"</p>\\n\"+\n",
       "     \"<ul>\\n\"+\n",
       "     \"<li>re-rerun `output_notebook()` to attempt to load from CDN again, or</li>\\n\"+\n",
       "     \"<li>use INLINE resources instead, as so:</li>\\n\"+\n",
       "     \"</ul>\\n\"+\n",
       "     \"<code>\\n\"+\n",
       "     \"from bokeh.resources import INLINE\\n\"+\n",
       "     \"output_notebook(resources=INLINE)\\n\"+\n",
       "     \"</code>\\n\"+\n",
       "     \"</div>\"}};\n",
       "\n",
       "  function display_loaded() {\n",
       "    if (window.Bokeh !== undefined) {\n",
       "      Bokeh.$(\"#f4016922-4d2d-4940-bee7-e2ca4b56b803\").text(\"BokehJS successfully loaded.\");\n",
       "    } else if (Date.now() < window._bokeh_timeout) {\n",
       "      setTimeout(display_loaded, 100)\n",
       "    }\n",
       "  }\n",
       "\n",
       "  function run_callbacks() {\n",
       "    window._bokeh_onload_callbacks.forEach(function(callback) { callback() });\n",
       "    delete window._bokeh_onload_callbacks\n",
       "    console.info(\"Bokeh: all callbacks have finished\");\n",
       "  }\n",
       "\n",
       "  function load_libs(js_urls, callback) {\n",
       "    window._bokeh_onload_callbacks.push(callback);\n",
       "    if (window._bokeh_is_loading > 0) {\n",
       "      console.log(\"Bokeh: BokehJS is being loaded, scheduling callback at\", now());\n",
       "      return null;\n",
       "    }\n",
       "    if (js_urls == null || js_urls.length === 0) {\n",
       "      run_callbacks();\n",
       "      return null;\n",
       "    }\n",
       "    console.log(\"Bokeh: BokehJS not loaded, scheduling load and callback at\", now());\n",
       "    window._bokeh_is_loading = js_urls.length;\n",
       "    for (var i = 0; i < js_urls.length; i++) {\n",
       "      var url = js_urls[i];\n",
       "      var s = document.createElement('script');\n",
       "      s.src = url;\n",
       "      s.async = false;\n",
       "      s.onreadystatechange = s.onload = function() {\n",
       "        window._bokeh_is_loading--;\n",
       "        if (window._bokeh_is_loading === 0) {\n",
       "          console.log(\"Bokeh: all BokehJS libraries loaded\");\n",
       "          run_callbacks()\n",
       "        }\n",
       "      };\n",
       "      s.onerror = function() {\n",
       "        console.warn(\"failed to load library \" + url);\n",
       "      };\n",
       "      console.log(\"Bokeh: injecting script tag for BokehJS library: \", url);\n",
       "      document.getElementsByTagName(\"head\")[0].appendChild(s);\n",
       "    }\n",
       "  };var element = document.getElementById(\"f4016922-4d2d-4940-bee7-e2ca4b56b803\");\n",
       "  if (element == null) {\n",
       "    console.log(\"Bokeh: ERROR: autoload.js configured with elementid 'f4016922-4d2d-4940-bee7-e2ca4b56b803' but no matching script tag was found. \")\n",
       "    return false;\n",
       "  }\n",
       "\n",
       "  var js_urls = ['https://cdn.pydata.org/bokeh/release/bokeh-0.12.2.min.js', 'https://cdn.pydata.org/bokeh/release/bokeh-widgets-0.12.2.min.js', 'https://cdn.pydata.org/bokeh/release/bokeh-compiler-0.12.2.min.js'];\n",
       "\n",
       "  var inline_js = [\n",
       "    function(Bokeh) {\n",
       "      Bokeh.set_log_level(\"info\");\n",
       "    },\n",
       "    \n",
       "    function(Bokeh) {\n",
       "      \n",
       "      Bokeh.$(\"#f4016922-4d2d-4940-bee7-e2ca4b56b803\").text(\"BokehJS is loading...\");\n",
       "    },\n",
       "    function(Bokeh) {\n",
       "      console.log(\"Bokeh: injecting CSS: https://cdn.pydata.org/bokeh/release/bokeh-0.12.2.min.css\");\n",
       "      Bokeh.embed.inject_css(\"https://cdn.pydata.org/bokeh/release/bokeh-0.12.2.min.css\");\n",
       "      console.log(\"Bokeh: injecting CSS: https://cdn.pydata.org/bokeh/release/bokeh-widgets-0.12.2.min.css\");\n",
       "      Bokeh.embed.inject_css(\"https://cdn.pydata.org/bokeh/release/bokeh-widgets-0.12.2.min.css\");\n",
       "    }\n",
       "  ];\n",
       "\n",
       "  function run_inline_js() {\n",
       "    \n",
       "    if ((window.Bokeh !== undefined) || (force === \"1\")) {\n",
       "      for (var i = 0; i < inline_js.length; i++) {\n",
       "        inline_js[i](window.Bokeh);\n",
       "      }if (force === \"1\") {\n",
       "        display_loaded();\n",
       "      }} else if (Date.now() < window._bokeh_timeout) {\n",
       "      setTimeout(run_inline_js, 100);\n",
       "    } else if (!window._bokeh_failed_load) {\n",
       "      console.log(\"Bokeh: BokehJS failed to load within specified timeout.\");\n",
       "      window._bokeh_failed_load = true;\n",
       "    } else if (!force) {\n",
       "      var cell = $(\"#f4016922-4d2d-4940-bee7-e2ca4b56b803\").parents('.cell').data().cell;\n",
       "      cell.output_area.append_execute_result(NB_LOAD_WARNING)\n",
       "    }\n",
       "\n",
       "  }\n",
       "\n",
       "  if (window._bokeh_is_loading === 0) {\n",
       "    console.log(\"Bokeh: BokehJS loaded, going straight to plotting\");\n",
       "    run_inline_js();\n",
       "  } else {\n",
       "    load_libs(js_urls, function() {\n",
       "      console.log(\"Bokeh: BokehJS plotting callback run at\", now());\n",
       "      run_inline_js();\n",
       "    });\n",
       "  }\n",
       "}(this));"
      ]
     },
     "metadata": {},
     "output_type": "display_data"
    },
    {
     "data": {
      "text/html": [
       "\n",
       "\n",
       "    <div class=\"bk-root\">\n",
       "        <div class=\"plotdiv\" id=\"51c1ff40-0090-4e79-88ea-8ffe5cfb3e0e\"></div>\n",
       "    </div>\n",
       "<script type=\"text/javascript\">\n",
       "  \n",
       "  (function(global) {\n",
       "    function now() {\n",
       "      return new Date();\n",
       "    }\n",
       "  \n",
       "    var force = \"\";\n",
       "  \n",
       "    if (typeof (window._bokeh_onload_callbacks) === \"undefined\" || force !== \"\") {\n",
       "      window._bokeh_onload_callbacks = [];\n",
       "      window._bokeh_is_loading = undefined;\n",
       "    }\n",
       "  \n",
       "  \n",
       "    \n",
       "    if (typeof (window._bokeh_timeout) === \"undefined\" || force !== \"\") {\n",
       "      window._bokeh_timeout = Date.now() + 0;\n",
       "      window._bokeh_failed_load = false;\n",
       "    }\n",
       "  \n",
       "    var NB_LOAD_WARNING = {'data': {'text/html':\n",
       "       \"<div style='background-color: #fdd'>\\n\"+\n",
       "       \"<p>\\n\"+\n",
       "       \"BokehJS does not appear to have successfully loaded. If loading BokehJS from CDN, this \\n\"+\n",
       "       \"may be due to a slow or bad network connection. Possible fixes:\\n\"+\n",
       "       \"</p>\\n\"+\n",
       "       \"<ul>\\n\"+\n",
       "       \"<li>re-rerun `output_notebook()` to attempt to load from CDN again, or</li>\\n\"+\n",
       "       \"<li>use INLINE resources instead, as so:</li>\\n\"+\n",
       "       \"</ul>\\n\"+\n",
       "       \"<code>\\n\"+\n",
       "       \"from bokeh.resources import INLINE\\n\"+\n",
       "       \"output_notebook(resources=INLINE)\\n\"+\n",
       "       \"</code>\\n\"+\n",
       "       \"</div>\"}};\n",
       "  \n",
       "    function display_loaded() {\n",
       "      if (window.Bokeh !== undefined) {\n",
       "        Bokeh.$(\"#51c1ff40-0090-4e79-88ea-8ffe5cfb3e0e\").text(\"BokehJS successfully loaded.\");\n",
       "      } else if (Date.now() < window._bokeh_timeout) {\n",
       "        setTimeout(display_loaded, 100)\n",
       "      }\n",
       "    }\n",
       "  \n",
       "    function run_callbacks() {\n",
       "      window._bokeh_onload_callbacks.forEach(function(callback) { callback() });\n",
       "      delete window._bokeh_onload_callbacks\n",
       "      console.info(\"Bokeh: all callbacks have finished\");\n",
       "    }\n",
       "  \n",
       "    function load_libs(js_urls, callback) {\n",
       "      window._bokeh_onload_callbacks.push(callback);\n",
       "      if (window._bokeh_is_loading > 0) {\n",
       "        console.log(\"Bokeh: BokehJS is being loaded, scheduling callback at\", now());\n",
       "        return null;\n",
       "      }\n",
       "      if (js_urls == null || js_urls.length === 0) {\n",
       "        run_callbacks();\n",
       "        return null;\n",
       "      }\n",
       "      console.log(\"Bokeh: BokehJS not loaded, scheduling load and callback at\", now());\n",
       "      window._bokeh_is_loading = js_urls.length;\n",
       "      for (var i = 0; i < js_urls.length; i++) {\n",
       "        var url = js_urls[i];\n",
       "        var s = document.createElement('script');\n",
       "        s.src = url;\n",
       "        s.async = false;\n",
       "        s.onreadystatechange = s.onload = function() {\n",
       "          window._bokeh_is_loading--;\n",
       "          if (window._bokeh_is_loading === 0) {\n",
       "            console.log(\"Bokeh: all BokehJS libraries loaded\");\n",
       "            run_callbacks()\n",
       "          }\n",
       "        };\n",
       "        s.onerror = function() {\n",
       "          console.warn(\"failed to load library \" + url);\n",
       "        };\n",
       "        console.log(\"Bokeh: injecting script tag for BokehJS library: \", url);\n",
       "        document.getElementsByTagName(\"head\")[0].appendChild(s);\n",
       "      }\n",
       "    };var element = document.getElementById(\"51c1ff40-0090-4e79-88ea-8ffe5cfb3e0e\");\n",
       "    if (element == null) {\n",
       "      console.log(\"Bokeh: ERROR: autoload.js configured with elementid '51c1ff40-0090-4e79-88ea-8ffe5cfb3e0e' but no matching script tag was found. \")\n",
       "      return false;\n",
       "    }\n",
       "  \n",
       "    var js_urls = [];\n",
       "  \n",
       "    var inline_js = [\n",
       "      function(Bokeh) {\n",
       "        Bokeh.$(function() {\n",
       "            var docs_json = {\"33036032-ef62-42c2-88e1-f2ecb3914704\":{\"roots\":{\"references\":[{\"attributes\":{\"axis_label\":\"weeks\",\"formatter\":{\"id\":\"a49993ac-debf-40e2-b8f4-c14242c952e3\",\"type\":\"BasicTickFormatter\"},\"plot\":{\"id\":\"6653b762-2e6d-417c-895f-2b63ac9ffd0e\",\"subtype\":\"Chart\",\"type\":\"Plot\"},\"ticker\":{\"id\":\"1459424a-6724-4b70-890d-fd6098f81c08\",\"type\":\"BasicTicker\"}},\"id\":\"1e2d2b26-6781-406d-a3a9-e2c2b1b7ec51\",\"type\":\"LinearAxis\"},{\"attributes\":{},\"id\":\"a49993ac-debf-40e2-b8f4-c14242c952e3\",\"type\":\"BasicTickFormatter\"},{\"attributes\":{\"plot\":{\"id\":\"6653b762-2e6d-417c-895f-2b63ac9ffd0e\",\"subtype\":\"Chart\",\"type\":\"Plot\"}},\"id\":\"e7975270-2508-41d8-b631-a00224a0a391\",\"type\":\"HelpTool\"},{\"attributes\":{\"axis_label\":\"days\",\"formatter\":{\"id\":\"bfba6cfe-a84f-4cde-818c-42e895fcbc58\",\"type\":\"CategoricalTickFormatter\"},\"major_label_orientation\":0.7853981633974483,\"plot\":{\"id\":\"6653b762-2e6d-417c-895f-2b63ac9ffd0e\",\"subtype\":\"Chart\",\"type\":\"Plot\"},\"ticker\":{\"id\":\"c6980cbc-56ff-44e4-a98d-a36c48f7ffae\",\"type\":\"CategoricalTicker\"}},\"id\":\"f0642c24-5ac9-4db2-94ca-c494b029db3e\",\"type\":\"CategoricalAxis\"},{\"attributes\":{\"plot\":{\"id\":\"6653b762-2e6d-417c-895f-2b63ac9ffd0e\",\"subtype\":\"Chart\",\"type\":\"Plot\"}},\"id\":\"9244d9c7-b6fd-40fa-a008-3da27fa63dd2\",\"type\":\"ResetTool\"},{\"attributes\":{\"active_drag\":\"auto\",\"active_scroll\":\"auto\",\"active_tap\":\"auto\",\"tools\":[{\"id\":\"8232304d-eeb7-4d47-bbf8-b85f56f99044\",\"type\":\"PanTool\"},{\"id\":\"3ae880d5-0012-4513-95c8-5771072a6dbd\",\"type\":\"WheelZoomTool\"},{\"id\":\"3baa15c2-fd9b-46dd-9793-1edc8d81e21f\",\"type\":\"BoxZoomTool\"},{\"id\":\"a2a1e683-8c30-46bd-a75a-143648e7a179\",\"type\":\"SaveTool\"},{\"id\":\"9244d9c7-b6fd-40fa-a008-3da27fa63dd2\",\"type\":\"ResetTool\"},{\"id\":\"e7975270-2508-41d8-b631-a00224a0a391\",\"type\":\"HelpTool\"}]},\"id\":\"682f2fe3-b180-4f6b-b4e4-8efb503a285e\",\"type\":\"Toolbar\"},{\"attributes\":{\"callback\":null,\"column_names\":[\"y\",\"x\",\"values\"],\"data\":{\"chart_index\":[{\"slacks\":\"[-0.002, 0.3]\"},{\"slacks\":\"[-0.002, 0.3]\"},{\"slacks\":\"[-0.002, 0.3]\"},{\"slacks\":\"[-0.002, 0.3]\"},{\"slacks\":\"[-0.002, 0.3]\"},{\"slacks\":\"[-0.002, 0.3]\"},{\"slacks\":\"[-0.002, 0.3]\"},{\"slacks\":\"[-0.002, 0.3]\"},{\"slacks\":\"[-0.002, 0.3]\"},{\"slacks\":\"[-0.002, 0.3]\"}],\"slacks\":[\"[-0.002, 0.3]\",\"[-0.002, 0.3]\",\"[-0.002, 0.3]\",\"[-0.002, 0.3]\",\"[-0.002, 0.3]\",\"[-0.002, 0.3]\",\"[-0.002, 0.3]\",\"[-0.002, 0.3]\",\"[-0.002, 0.3]\",\"[-0.002, 0.3]\"],\"values\":[0.0,0.0,0.0,0.0,0.0,0.0,0.0,0.0,0.0,0.0],\"x\":[\"Mon\",\"Tue\",\"Wed\",\"Fri\",\"Mon\",\"Tue\",\"Wed\",\"Thu\",\"Sat\",\"Sun\"],\"y\":[1,1,1,1,2,2,2,2,2,2]}},\"id\":\"e8ff163f-2122-4f77-a6a7-d88bc0f88a28\",\"type\":\"ColumnDataSource\"},{\"attributes\":{},\"id\":\"bfba6cfe-a84f-4cde-818c-42e895fcbc58\",\"type\":\"CategoricalTickFormatter\"},{\"attributes\":{\"dilate\":true,\"fill_color\":{\"value\":\"#3182bd\"},\"height\":{\"units\":\"data\",\"value\":0.95},\"line_color\":{\"value\":\"#3182bd\"},\"width\":{\"units\":\"data\",\"value\":0.95},\"x\":{\"field\":\"x\"},\"y\":{\"field\":\"y\"}},\"id\":\"8abc801f-ab2e-4cb7-bc89-bb25c5c0b4bd\",\"type\":\"Rect\"},{\"attributes\":{\"callback\":null,\"end\":2.67,\"start\":0.32999999999999996},\"id\":\"1e309fb3-dd30-4c4f-8101-8f53ce3528f3\",\"type\":\"Range1d\"},{\"attributes\":{\"plot\":{\"id\":\"6653b762-2e6d-417c-895f-2b63ac9ffd0e\",\"subtype\":\"Chart\",\"type\":\"Plot\"}},\"id\":\"8232304d-eeb7-4d47-bbf8-b85f56f99044\",\"type\":\"PanTool\"},{\"attributes\":{\"overlay\":{\"id\":\"729dedd8-0578-4dcb-b8aa-2bf47e08e8f5\",\"type\":\"BoxAnnotation\"},\"plot\":{\"id\":\"6653b762-2e6d-417c-895f-2b63ac9ffd0e\",\"subtype\":\"Chart\",\"type\":\"Plot\"}},\"id\":\"3baa15c2-fd9b-46dd-9793-1edc8d81e21f\",\"type\":\"BoxZoomTool\"},{\"attributes\":{\"dilate\":true,\"fill_color\":{\"value\":\"#6baed6\"},\"height\":{\"units\":\"data\",\"value\":0.95},\"line_color\":{\"value\":\"#6baed6\"},\"width\":{\"units\":\"data\",\"value\":0.95},\"x\":{\"field\":\"x\"},\"y\":{\"field\":\"y\"}},\"id\":\"9c575cb3-e083-408a-b4ef-e5a183c02fb6\",\"type\":\"Rect\"},{\"attributes\":{\"below\":[{\"id\":\"f0642c24-5ac9-4db2-94ca-c494b029db3e\",\"type\":\"CategoricalAxis\"}],\"left\":[{\"id\":\"1e2d2b26-6781-406d-a3a9-e2c2b1b7ec51\",\"type\":\"LinearAxis\"}],\"renderers\":[{\"id\":\"729dedd8-0578-4dcb-b8aa-2bf47e08e8f5\",\"type\":\"BoxAnnotation\"},{\"id\":\"2623d3b7-51ee-4212-9d7a-3f17e885e9d8\",\"type\":\"GlyphRenderer\"},{\"id\":\"d053c54d-9847-496c-841d-5d8435c12b65\",\"type\":\"GlyphRenderer\"},{\"id\":\"5a4f8666-40ae-468e-9b04-e98b562a2fae\",\"type\":\"GlyphRenderer\"},{\"id\":\"2452237b-9ed6-4e83-b8ff-af50c527dabf\",\"type\":\"Legend\"},{\"id\":\"f0642c24-5ac9-4db2-94ca-c494b029db3e\",\"type\":\"CategoricalAxis\"},{\"id\":\"1e2d2b26-6781-406d-a3a9-e2c2b1b7ec51\",\"type\":\"LinearAxis\"}],\"title\":{\"id\":\"853b4d57-905e-4748-bfb7-092e75a6f77e\",\"type\":\"Title\"},\"tool_events\":{\"id\":\"69a1e4ac-f1c5-41fb-b4f9-6ae6d08e3870\",\"type\":\"ToolEvents\"},\"toolbar\":{\"id\":\"682f2fe3-b180-4f6b-b4e4-8efb503a285e\",\"type\":\"Toolbar\"},\"x_mapper_type\":\"auto\",\"x_range\":{\"id\":\"b9814001-d252-47db-a5de-d203d6882654\",\"type\":\"FactorRange\"},\"y_mapper_type\":\"auto\",\"y_range\":{\"id\":\"1e309fb3-dd30-4c4f-8101-8f53ce3528f3\",\"type\":\"Range1d\"}},\"id\":\"6653b762-2e6d-417c-895f-2b63ac9ffd0e\",\"subtype\":\"Chart\",\"type\":\"Plot\"},{\"attributes\":{\"callback\":null,\"column_names\":[\"y\",\"x\",\"values\"],\"data\":{\"chart_index\":[{\"slacks\":\"(1.7, 2]\"},{\"slacks\":\"(1.7, 2]\"}],\"slacks\":[\"(1.7, 2]\",\"(1.7, 2]\"],\"values\":[2.0,2.0],\"x\":[\"Thu\",\"Sat\"],\"y\":[1,1]}},\"id\":\"3853e02b-2bfc-4cc7-bfb7-54bce7b1106d\",\"type\":\"ColumnDataSource\"},{\"attributes\":{\"callback\":null,\"column_names\":[\"y\",\"x\",\"values\"],\"data\":{\"chart_index\":[{\"slacks\":\"(0.7, 1]\"},{\"slacks\":\"(0.7, 1]\"}],\"slacks\":[\"(0.7, 1]\",\"(0.7, 1]\"],\"values\":[1.0,1.0],\"x\":[\"Sun\",\"Fri\"],\"y\":[1,2]}},\"id\":\"45470fa2-2d62-4a65-9af6-b93de9586e5d\",\"type\":\"ColumnDataSource\"},{\"attributes\":{\"data_source\":{\"id\":\"45470fa2-2d62-4a65-9af6-b93de9586e5d\",\"type\":\"ColumnDataSource\"},\"glyph\":{\"id\":\"8abc801f-ab2e-4cb7-bc89-bb25c5c0b4bd\",\"type\":\"Rect\"},\"hover_glyph\":null,\"nonselection_glyph\":null,\"selection_glyph\":null},\"id\":\"d053c54d-9847-496c-841d-5d8435c12b65\",\"type\":\"GlyphRenderer\"},{\"attributes\":{\"bottom_units\":\"screen\",\"fill_alpha\":{\"value\":0.5},\"fill_color\":{\"value\":\"lightgrey\"},\"left_units\":\"screen\",\"level\":\"overlay\",\"line_alpha\":{\"value\":1.0},\"line_color\":{\"value\":\"black\"},\"line_dash\":[4,4],\"line_width\":{\"value\":2},\"plot\":null,\"render_mode\":\"css\",\"right_units\":\"screen\",\"top_units\":\"screen\"},\"id\":\"729dedd8-0578-4dcb-b8aa-2bf47e08e8f5\",\"type\":\"BoxAnnotation\"},{\"attributes\":{},\"id\":\"c6980cbc-56ff-44e4-a98d-a36c48f7ffae\",\"type\":\"CategoricalTicker\"},{\"attributes\":{},\"id\":\"69a1e4ac-f1c5-41fb-b4f9-6ae6d08e3870\",\"type\":\"ToolEvents\"},{\"attributes\":{\"plot\":null,\"text\":\"Shortfall\"},\"id\":\"853b4d57-905e-4748-bfb7-092e75a6f77e\",\"type\":\"Title\"},{\"attributes\":{\"callback\":null,\"factors\":[\"Mon\",\"Tue\",\"Wed\",\"Thu\",\"Fri\",\"Sat\",\"Sun\"]},\"id\":\"b9814001-d252-47db-a5de-d203d6882654\",\"type\":\"FactorRange\"},{\"attributes\":{\"dilate\":true,\"fill_color\":{\"value\":\"#08519c\"},\"height\":{\"units\":\"data\",\"value\":0.95},\"line_color\":{\"value\":\"#08519c\"},\"width\":{\"units\":\"data\",\"value\":0.95},\"x\":{\"field\":\"x\"},\"y\":{\"field\":\"y\"}},\"id\":\"71046082-81e8-43a2-a5bd-cf6ab4969054\",\"type\":\"Rect\"},{\"attributes\":{\"data_source\":{\"id\":\"e8ff163f-2122-4f77-a6a7-d88bc0f88a28\",\"type\":\"ColumnDataSource\"},\"glyph\":{\"id\":\"9c575cb3-e083-408a-b4ef-e5a183c02fb6\",\"type\":\"Rect\"},\"hover_glyph\":null,\"nonselection_glyph\":null,\"selection_glyph\":null},\"id\":\"5a4f8666-40ae-468e-9b04-e98b562a2fae\",\"type\":\"GlyphRenderer\"},{\"attributes\":{\"data_source\":{\"id\":\"3853e02b-2bfc-4cc7-bfb7-54bce7b1106d\",\"type\":\"ColumnDataSource\"},\"glyph\":{\"id\":\"71046082-81e8-43a2-a5bd-cf6ab4969054\",\"type\":\"Rect\"},\"hover_glyph\":null,\"nonselection_glyph\":null,\"selection_glyph\":null},\"id\":\"2623d3b7-51ee-4212-9d7a-3f17e885e9d8\",\"type\":\"GlyphRenderer\"},{\"attributes\":{\"plot\":{\"id\":\"6653b762-2e6d-417c-895f-2b63ac9ffd0e\",\"subtype\":\"Chart\",\"type\":\"Plot\"}},\"id\":\"3ae880d5-0012-4513-95c8-5771072a6dbd\",\"type\":\"WheelZoomTool\"},{\"attributes\":{\"plot\":{\"id\":\"6653b762-2e6d-417c-895f-2b63ac9ffd0e\",\"subtype\":\"Chart\",\"type\":\"Plot\"}},\"id\":\"a2a1e683-8c30-46bd-a75a-143648e7a179\",\"type\":\"SaveTool\"},{\"attributes\":{},\"id\":\"1459424a-6724-4b70-890d-fd6098f81c08\",\"type\":\"BasicTicker\"},{\"attributes\":{\"legends\":[[\"(1.7, 2]\",[{\"id\":\"2623d3b7-51ee-4212-9d7a-3f17e885e9d8\",\"type\":\"GlyphRenderer\"}]],[\"(0.7, 1]\",[{\"id\":\"d053c54d-9847-496c-841d-5d8435c12b65\",\"type\":\"GlyphRenderer\"}]],[\"[-0.002, 0.3]\",[{\"id\":\"5a4f8666-40ae-468e-9b04-e98b562a2fae\",\"type\":\"GlyphRenderer\"}]]],\"location\":\"top_left\",\"plot\":{\"id\":\"6653b762-2e6d-417c-895f-2b63ac9ffd0e\",\"subtype\":\"Chart\",\"type\":\"Plot\"}},\"id\":\"2452237b-9ed6-4e83-b8ff-af50c527dabf\",\"type\":\"Legend\"}],\"root_ids\":[\"6653b762-2e6d-417c-895f-2b63ac9ffd0e\"]},\"title\":\"Bokeh Application\",\"version\":\"0.12.2\"}};\n",
       "            var render_items = [{\"docid\":\"33036032-ef62-42c2-88e1-f2ecb3914704\",\"elementid\":\"51c1ff40-0090-4e79-88ea-8ffe5cfb3e0e\",\"modelid\":\"6653b762-2e6d-417c-895f-2b63ac9ffd0e\"}];\n",
       "            \n",
       "            Bokeh.embed.embed_items(docs_json, render_items);\n",
       "        });\n",
       "      },\n",
       "      function(Bokeh) {\n",
       "      }\n",
       "    ];\n",
       "  \n",
       "    function run_inline_js() {\n",
       "      \n",
       "      if ((window.Bokeh !== undefined) || (force === \"1\")) {\n",
       "        for (var i = 0; i < inline_js.length; i++) {\n",
       "          inline_js[i](window.Bokeh);\n",
       "        }if (force === \"1\") {\n",
       "          display_loaded();\n",
       "        }} else if (Date.now() < window._bokeh_timeout) {\n",
       "        setTimeout(run_inline_js, 100);\n",
       "      } else if (!window._bokeh_failed_load) {\n",
       "        console.log(\"Bokeh: BokehJS failed to load within specified timeout.\");\n",
       "        window._bokeh_failed_load = true;\n",
       "      } else if (!force) {\n",
       "        var cell = $(\"#51c1ff40-0090-4e79-88ea-8ffe5cfb3e0e\").parents('.cell').data().cell;\n",
       "        cell.output_area.append_execute_result(NB_LOAD_WARNING)\n",
       "      }\n",
       "  \n",
       "    }\n",
       "  \n",
       "    if (window._bokeh_is_loading === 0) {\n",
       "      console.log(\"Bokeh: BokehJS loaded, going straight to plotting\");\n",
       "      run_inline_js();\n",
       "    } else {\n",
       "      load_libs(js_urls, function() {\n",
       "        console.log(\"Bokeh: BokehJS plotting callback run at\", now());\n",
       "        run_inline_js();\n",
       "      });\n",
       "    }\n",
       "  }(this));\n",
       "</script>"
      ]
     },
     "metadata": {},
     "output_type": "display_data"
    }
   ],
   "source": [
    "from bokeh.charts import *\n",
    "\n",
    "output_notebook()\n",
    "\n",
    "slackvars = m.getVars()[orignumvars:]\n",
    "data = {\n",
    "    'days': [s[:3] for s in shifts],\n",
    "    'weeks': [1+i/7 for i in range(len(shifts))],\n",
    "    'slacks': [v.X for v in slackvars if v.VarName.startswith(\"ArtP\")],\n",
    "}\n",
    "\n",
    "show(HeatMap(data, x='days', y='weeks', values='slacks', stat=None, title=\"Shortfall\"))"
   ]
  },
  {
   "cell_type": "code",
   "execution_count": null,
   "metadata": {
    "collapsed": true
   },
   "outputs": [],
   "source": []
  }
 ],
 "metadata": {
  "anaconda-cloud": {
   "attach-environment": false,
   "environment": null,
   "summary": "Sample network flow",
   "url": "https://anaconda.org/gglockner/netflow"
  },
  "kernelspec": {
   "display_name": "Python 2",
   "language": "python",
   "name": "python2"
  },
  "language_info": {
   "codemirror_mode": {
    "name": "ipython",
    "version": 2
   },
   "file_extension": ".py",
   "mimetype": "text/x-python",
   "name": "python",
   "nbconvert_exporter": "python",
   "pygments_lexer": "ipython2",
   "version": "2.7.12"
  },
  "nbpresent": {
   "slides": {
    "622c7359-7d19-4291-a322-1fbcaa288ef0": {
     "id": "622c7359-7d19-4291-a322-1fbcaa288ef0",
     "prev": "e607b445-87c8-42bd-8010-43f04345bcb5",
     "regions": {}
    },
    "814d0cc7-122d-49f6-967a-a4a8f57d383c": {
     "id": "814d0cc7-122d-49f6-967a-a4a8f57d383c",
     "prev": "622c7359-7d19-4291-a322-1fbcaa288ef0",
     "regions": {
      "f14faa71-c001-44c1-be63-0bb67b525a57": {
       "attrs": {
        "height": 1,
        "width": 1,
        "x": 0,
        "y": 0
       },
       "id": "f14faa71-c001-44c1-be63-0bb67b525a57"
      }
     }
    },
    "e607b445-87c8-42bd-8010-43f04345bcb5": {
     "id": "e607b445-87c8-42bd-8010-43f04345bcb5",
     "prev": null,
     "regions": {}
    }
   },
   "themes": {}
  }
 },
 "nbformat": 4,
 "nbformat_minor": 0
}
