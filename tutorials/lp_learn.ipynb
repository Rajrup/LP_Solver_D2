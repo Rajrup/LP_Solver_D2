{
 "metadata": {
  "language_info": {
   "codemirror_mode": {
    "name": "ipython",
    "version": 3
   },
   "file_extension": ".py",
   "mimetype": "text/x-python",
   "name": "python",
   "nbconvert_exporter": "python",
   "pygments_lexer": "ipython3",
   "version": "3.7.9-final"
  },
  "orig_nbformat": 2,
  "kernelspec": {
   "name": "python_defaultSpec_1600584787183",
   "display_name": "Python 3.7.9 64-bit ('lpsolver': conda)"
  }
 },
 "nbformat": 4,
 "nbformat_minor": 2,
 "cells": [
  {
   "cell_type": "code",
   "execution_count": 1,
   "metadata": {
    "tags": []
   },
   "outputs": [
    {
     "output_type": "stream",
     "name": "stdout",
     "text": "env: GRB_LICENSE_FILE=/home/rajrup/license/gurobi/gurobi.lic\n"
    }
   ],
   "source": [
    "import gurobi as gb\n",
    "%env GRB_LICENSE_FILE=/home/rajrup/license/gurobi/gurobi.lic"
   ]
  },
  {
   "cell_type": "code",
   "execution_count": 2,
   "metadata": {},
   "outputs": [],
   "source": [
    "sys.path.append(\"/home/rajrup/licence/gurobi/gurobi.lic\");"
   ]
  },
  {
   "cell_type": "code",
   "execution_count": 3,
   "metadata": {
    "tags": []
   },
   "outputs": [
    {
     "output_type": "stream",
     "name": "stdout",
     "text": "Using license file /home/rajrup/license/gurobi/gurobi.lic\nAcademic license - for non-commercial use only\n"
    }
   ],
   "source": [
    "m = gb.Model(\"mp1\");"
   ]
  },
  {
   "cell_type": "code",
   "execution_count": 4,
   "metadata": {},
   "outputs": [],
   "source": [
    "# Create decision variables\n",
    "x = m.addVar(vtype=gb.GRB.BINARY, name=\"x\")\n",
    "y = m.addVar(vtype=gb.GRB.BINARY, name=\"y\")\n",
    "z = m.addVar(vtype=gb.GRB.BINARY, name=\"z\");"
   ]
  },
  {
   "cell_type": "code",
   "execution_count": 5,
   "metadata": {},
   "outputs": [],
   "source": [
    "m.update() # Lazy update\n",
    "m.setObjective(x + y + 2 * z, gb.GRB.MAXIMIZE);"
   ]
  },
  {
   "cell_type": "code",
   "execution_count": 6,
   "metadata": {},
   "outputs": [],
   "source": [
    "# Add Constraints\n",
    "m.addConstr(x + 2 * y + 3 * z <= 4, \"c0\")\n",
    "m.addConstr(x + y >= 1, \"c1\");"
   ]
  },
  {
   "cell_type": "code",
   "execution_count": 7,
   "metadata": {
    "tags": []
   },
   "outputs": [
    {
     "output_type": "stream",
     "name": "stdout",
     "text": "Gurobi Optimizer version 9.0.3 build v9.0.3rc0 (linux64)\nOptimize a model with 2 rows, 3 columns and 5 nonzeros\nModel fingerprint: 0xf43f5bdf\nVariable types: 0 continuous, 3 integer (3 binary)\nCoefficient statistics:\n  Matrix range     [1e+00, 3e+00]\n  Objective range  [1e+00, 2e+00]\n  Bounds range     [1e+00, 1e+00]\n  RHS range        [1e+00, 4e+00]\nFound heuristic solution: objective 2.0000000\nPresolve removed 2 rows and 3 columns\nPresolve time: 0.00s\nPresolve: All rows and columns removed\n\nExplored 0 nodes (0 simplex iterations) in 0.01 seconds\nThread count was 1 (of 40 available processors)\n\nSolution count 2: 3 \n\nOptimal solution found (tolerance 1.00e-04)\nBest objective 3.000000000000e+00, best bound 3.000000000000e+00, gap 0.0000%\n"
    }
   ],
   "source": [
    "# Solve and print solution\n",
    "m.optimize()"
   ]
  },
  {
   "cell_type": "code",
   "execution_count": 8,
   "metadata": {
    "tags": []
   },
   "outputs": [
    {
     "output_type": "stream",
     "name": "stdout",
     "text": "\n    Variable            X \n-------------------------\n           x            1 \n           z            1 \n\nStatistics for model mp1 :\n  Linear constraint matrix    : 2 Constrs, 3 Vars, 5 NZs\n  Variable types              : 0 Continuous, 3 Integer (3 Binary)\n  Matrix coefficient range    : [ 1, 3 ]\n  Objective coefficient range : [ 1, 2 ]\n  Variable bound range        : [ 1, 1 ]\n  RHS coefficient range       : [ 1, 4 ]\n\nSolution quality statistics for model mp1 :\n  Maximum violation:\n    Bound       : 0.00000000e+00\n    Constraint  : 0.00000000e+00\n    Integrality : 0.00000000e+00\n"
    }
   ],
   "source": [
    "# Model Summary\n",
    "m.printAttr('X') # Optimization only prints non-zero decision variables, here y = 0\n",
    "m.printStats()\n",
    "m.printQuality()"
   ]
  },
  {
   "cell_type": "code",
   "execution_count": 9,
   "metadata": {
    "tags": []
   },
   "outputs": [
    {
     "output_type": "stream",
     "name": "stdout",
     "text": "[<gurobi.Var x (value 1.0)>, <gurobi.Var y (value 0.0)>, <gurobi.Var z (value 1.0)>]\n[<gurobi.Constr c0>, <gurobi.Constr c1>]\n1.0 <gurobi.Var x (value 1.0)>\n2.0 <gurobi.Var y (value 0.0)>\n3.0 <gurobi.Var z (value 1.0)>\n1.0 <gurobi.Constr c0>\n1.0 <gurobi.Constr c1>\n"
    }
   ],
   "source": [
    "# Some useful model introspection methods\n",
    "print(m.getVars()) # Get variable list\n",
    "print(m.getConstrs()) # Get constraints list\n",
    "\n",
    "expr = m.getRow(m.getConstrs()[0]) # LHS for a given constraint\n",
    "for i in range(expr.size()): \n",
    "    print(expr.getCoeff(i), expr.getVar(i))\n",
    "\n",
    "col = m.getCol(m.getVars()[0]) # Get list of constraints for a givem variable\n",
    "for i in range(col.size()): \n",
    "    print(col.getCoeff(i), col.getConstr(i))"
   ]
  },
  {
   "cell_type": "code",
   "execution_count": 10,
   "metadata": {
    "tags": [
     "outputPrepend"
    ]
   },
   "outputs": [
    {
     "output_type": "stream",
     "name": "stdout",
     "text": "       message(msg)\n |      \n |      PURPOSE:\n |        Write a message to the Gurobi log file.\n |      \n |      ARGUMENTS:\n |        msg (string): Message to append to log file.\n |      \n |      RETURN VALUE:\n |        None.\n |      \n |      EXAMPLE:\n |        model.message(\"Found a new solution with objective \" + str(obj))\n |  \n |  optimize(self, callback=None)\n |      ROUTINE:\n |        optimize()\n |      \n |      PURPOSE:\n |        Optimize the model.\n |      \n |      ARGUMENTS:\n |        None.\n |      \n |      RETURN VALUE:\n |        None.\n |      \n |      EXAMPLE:\n |        model.optimize()\n |      \n |      NOTES:\n |        The algorithm used to optimize the model depends on the model type and\n |        on the parameter settings.  A MIP model will always be optimized using\n |        the branch-and-cut algorithm.  A continuous model will be optimized\n |        using the dual simplex algorithm by default; the Method parameter\n |        can be used to choose a different algorithm.\n |  \n |  optimizeBatch(self)\n |      ROUTINE:\n |        optimizeBatch()\n |      \n |      PURPOSE:\n |        Submit a new batch optimization request.\n |      \n |      ARGUMENTS:\n |        None.\n |      \n |      RETURN VALUE:\n |        Batch ID of the new batch optimization request.\n |      \n |      EXAMPLE:\n |        model.optimizeBatch()\n |      \n |      NOTES:\n |        Submit a new optimization job to the offline job queue. The\n |        method returns a string, referred as BatchID, which uniquely\n |        identify the job in the Cluster Manager. With this ID you can\n |        query, from any other process, the status of this job, and\n |        once it has been solved, the associated solution. Note that\n |        in order to submit a batch request, you must define at least\n |        one tag for the model.\n |        Note that this routine will process all pending model modifications.\n |  \n |  presolve(self)\n |      ROUTINE:\n |        presolve()\n |      \n |      PURPOSE:\n |        Return the presolved version of the model.\n |      \n |      ARGUMENTS:\n |        None.\n |      \n |      RETURN VALUE:\n |        A new model, containing the presolved version of the original model.\n |      \n |      EXAMPLE:\n |        presolved = model.presolve()\n |        presolved.optimize()\n |  \n |  printAttr(self, attrname, filter='*')\n |      ROUTINE:\n |        printAttr(attrname, filter)\n |      \n |      PURPOSE:\n |        Print model attribute data.\n |      \n |      ARGUMENTS:\n |        attrname (string): The name of the attribute to print.  For attributes\n |                           with numerical values, only non-zero entries will\n |                           be printed.  Can be a list of attribute names,\n |                           in which case all listed attributes will be printed.\n |        filter (string): Regular expression for filtering results.   Only\n |                         variables/constraints whose names match the\n |                         (optional) filter are printed.\n |      \n |      RETURN VALUE:\n |        None.\n |      \n |      EXAMPLE:\n |        model.optimize()\n |        model.printAttr(\"x\", \"v*\")     # print 'x' when var name begins with 'v'\n |        model.printAttr([\"lb\", \"ub\"])  # print 'lb' and 'ub' attribute values\n |  \n |  printQuality(self)\n |      ROUTINE:\n |        printQuality()\n |      \n |      PURPOSE:\n |        Print solution quality statistics.\n |      \n |      ARGUMENTS:\n |        None.\n |      \n |      RETURN VALUE:\n |        None.\n |      \n |      EXAMPLE:\n |        model.optimize()\n |        model.printQuality()\n |  \n |  printStats(self)\n |      ROUTINE:\n |        printStats()\n |      \n |      PURPOSE:\n |        Print model statistics.\n |      \n |      ARGUMENTS:\n |        None.\n |      \n |      RETURN VALUE:\n |        None.\n |      \n |      EXAMPLE:\n |        model.printStats()\n |  \n |  read(self, filename)\n |      ROUTINE:\n |        read(filename)\n |      \n |      PURPOSE:\n |        Import model data from a file.  The type of data is determined by\n |        the file suffix: .mst for MIP start data, .bas for basis\n |        information, or .prm for parameter settings.\n |      \n |      ARGUMENTS:\n |        filename (string): The name of the file.\n |      \n |      RETURN VALUE:\n |        None.\n |      \n |      EXAMPLE:\n |        model.read(\"start.mst\")\n |      \n |      NOTES:\n |        The file name may contain the '*' and '?' wildcard characters.  If\n |        more than one file matches, this routine will read the first match.\n |  \n |  relax(self)\n |      ROUTINE:\n |        relax()\n |      \n |      PURPOSE:\n |        Return the relaxed version of the MIP model, in which all integrality\n |        restrictions, SOS conditions, semi-continuous and semi-integer\n |        requirements on variables have been relaxed and general constraints\n |        have been removed.\n |      \n |      ARGUMENTS:\n |        None.\n |      \n |      RETURN VALUE:\n |        A new, relaxed model.\n |      \n |      EXAMPLE:\n |        relaxed = model.relax()\n |        relaxed.optimize()\n |      \n |      NOTES:\n |        If the model is already continuous, then this method produces the\n |        same result as cloning the model.\n |  \n |  remove(self, items)\n |      ROUTINE:\n |        remove(items)\n |      \n |      PURPOSE:\n |        Remove variables, linear constraints, SOS constraints, quadratic\n |        constraints, or general constraints from the model.\n |      \n |      ARGUMENTS:\n |        items: Items to remove from model.  The argument can be\n |               a single Constr, Var, SOS, QConstr, or GenConstr,\n |               or it can be a list, tuple, or dict containing\n |               such items.  For a dict, the dict values will be\n |               removed, not the keys.\n |      \n |      RETURN VALUE:\n |        None.\n |      \n |      EXAMPLE:\n |        model.remove(model.getVars()[0])\n |        model.remove(model.getConstrs()[0:10])\n |  \n |  reset(self, clearall=0)\n |      ROUTINE:\n |        reset()\n |      \n |      PURPOSE:\n |        Discard any solution information.  The next optimize() call starts\n |        from scratch.\n |      \n |      ARGUMENTS:\n |        clearall (int, optional): Should additional information such as MIP\n |                 starts, variable hints, branching priorities, lazy flags,\n |                 and partition information be cleared?\n |      \n |      RETURN VALUE:\n |        None.\n |      \n |      EXAMPLE:\n |        model.reset()\n |  \n |  resetParams(self)\n |      ROUTINE:\n |        resetParams()\n |      \n |      PURPOSE:\n |        Reset all parameters to their default values.\n |      \n |      ARGUMENTS:\n |        None.\n |      \n |      RETURN VALUE:\n |        None.\n |      \n |      EXAMPLE:\n |        model.resetParams()\n |  \n |  setAttr(self, attrname, arg1, arg2=None)\n |      ROUTINE:\n |        setAttr(attrname, newvalue), or\n |        setAttr(attrname, objects, newvalues)\n |      \n |      PURPOSE:\n |        Change the value(s) of an attribute.\n |      \n |      ARGUMENTS:\n |        attrname (string): The name of the requested attribute.\n |        objects(optional): A list of variables or constraints.\n |        newvalue: The desired new value.  The type of the value should be\n |                  compatible with the attribute type (e.g., an integer parameter\n |                  will take an integer value).\n |      \n |      RETURN VALUE:\n |        The attribute value.\n |      \n |      EXAMPLE:\n |        model.setAttr(\"modelSense\", -1)\n |        model.setAttr(\"lb\", [x, y, z], [1, 1, 1])\n |      \n |      NOTES:\n |        Model attributes that can be set are:\n |          modelName:  Model name.\n |          modelSense: Objective sense.\n |      \n |        Attributes changes are handled in a lazy fashion.  The effect of a\n |        change isn't visible until after the next call to Model.update() or\n |        Model.optimize().\n |  \n |  setMObjective(self, Q, c, constant, xQ_L=None, xQ_R=None, xc=None, sense=None)\n |      ROUTINE:\n |        setMObjective(Q, c, constant, xQ_L=None, xQ_R=None, xc=None, sense=None)\n |      \n |      PURPOSE:\n |        Set the objective function using matrix semantics.  The new objective\n |        is 'xQ_L' Q xQ_R + c' xc + constant'.\n |      \n |      ARGUMENTS:\n |      \n |        Q (NumPy or SciPy.sparse matrix, or None): Quadratic objective matrix\n |        c (1-D NumPy array, or None): Linear objective vector\n |        constant (float): Objective constant\n |        xQ_L, xQ_R, xc (MVar, or a list of Var, or None): Vector of Gurobi\n |           variables.  A 'None' argument uses all variables in the model.\n |        sense (optional): Objective sense.  By default, this method uses the\n |              modelSense model attribute to determine the sense.  Use\n |              GRB.MINIMIZE or GRB.MAXIMIZE to ignore modelSense and pick a\n |              specific sense.\n |      \n |      RETURN VALUE:\n |        None.\n |      \n |      EXAMPLE:\n |        Q = numpy.full((2, 3), 1.0)\n |        xL = model.addMVar(2)\n |        xR = model.addMVar(3)\n |        model.setMObjective(Q, None, 0.0, xL, xR, None)\n |  \n |  setObjective(self, expr, sense=None)\n |      ROUTINE:\n |        setObjective(expression, sense=None)\n |      \n |      PURPOSE:\n |        Set the model objective equal to a LinExpr or QuadExpr\n |      \n |      ARGUMENTS:\n |        expr: The desired objective function.  The objective can be\n |              a linear expression (LinExpr) or a quadratic expression (QuadExpr).\n |              This routine will replace the 'Obj' attribute on model variables\n |              with the corresponding values from the supplied expression.\n |        sense (optional): Objective sense.  By default, this method uses the\n |              modelSense model attribute to determine the sense.  Use\n |              GRB.MINIMIZE or GRB.MAXIMIZE to ignore modelSense and pick a\n |              specific sense.\n |      \n |      RETURN VALUE:\n |        None.\n |      \n |      EXAMPLE:\n |        model.setObjective(x + y)\n |        model.setObjective(x + y + 2*z, GRB.MAXIMIZE)\n |  \n |  setObjectiveN(self, expr, index, priority=0, weight=1.0, abstol=0.0, reltol=0.0, name='')\n |      ROUTINE:\n |        setObjectiveN(expression, index)\n |      \n |      PURPOSE:\n |        Set the model objective equal to a LinExpr or QuadExpr\n |      \n |      ARGUMENTS:\n |        expr:     The desired objective function.  The objective can be\n |                  a linear expression (LinExpr) a variable (Var) or a constant.\n |                  This routine will replace the 'ObjNVal' attribute on model variables\n |                  with the corresponding values from the supplied expression for\n |                  multi-objective 'index'\n |        index:    Identify which multi-objective to set\n |        priority: Set the ObjNPriority attribute for this multi-objective (default is zero)\n |        weight:   Set the ObjNWeight attribute for this multi-objective (default is 1.0)\n |        abstol:   Set the ObjNAbsTol  attribute for this multi-objective (default is zero)\n |        reltol:   Set the ObjNRelTol  attribute for this multi-objective (default is zero)\n |        name:     multi-objective name (default is no name)\n |      \n |      RETURN VALUE:\n |        None.\n |      \n |      EXAMPLE:\n |        model.setObjectiveN(x + y, 1)\n |        model.setObjectiveN(x + y + 2*z, 2)\n |  \n |  setPWLObj(self, var, x, y)\n |      ROUTINE:\n |        setPWLObj(var, x, y)\n |      \n |      PURPOSE:\n |        Set a piecewise-linear objective for a variable\n |      \n |      ARGUMENTS:\n |        var: the Var whose objective is set.\n |        x: A list of x coordinates.\n |        y: A list of y coordinates.\n |      \n |      RETURN VALUE:\n |        None.\n |      \n |      EXAMPLE:\n |        model.setPWLObj(v, [1, 2, 3], [1, 2, 4])\n |  \n |  setParam(self, paramname, newval, verbose=True)\n |      ROUTINE:\n |        setParam(paramname, newvalue)\n |      \n |      PURPOSE:\n |        Set a parameter to a new value.\n |      \n |      ARGUMENTS:\n |        paramname (string): The name of the parameter.\n |        newvalue: The desired new value.  The type of the value should be\n |                  compatible with the parameter type (e.g., an integer parameter\n |                  will take an integer value).  One important exception: the\n |                  string \"default\" will return the specified parameter to its\n |                  default value.\n |      \n |      RETURN VALUE:\n |        None.\n |      \n |      EXAMPLE:\n |        model.setParam(\"NodeLimit\", 100)\n |        model.setParam(\"TimeLimit\", \"default\")\n |      \n |      NOTES:\n |        Use this routine to change parameter values in the default environment.\n |        The default environment is used to initialize parameter values when a\n |        new model is created.  Once the model exists, changes to the default\n |        environment will no longer affect that model.  Use Model.setParam()\n |        to change parameter settings for an existing model.\n |      \n |        Routine paramHelp() provides additional information on the available\n |        parameters.\n |  \n |  singleScenarioModel(self)\n |      ROUTINE:\n |        singleScenarioModel()\n |      \n |      PURPOSE:\n |        Return a model that represents a single scenario of the multi-scenario\n |        MIP model. The scenario is specified by setting the \"ScenarioNumber\"\n |        parameter.\n |      \n |      ARGUMENTS:\n |        None.\n |      \n |      RETURN VALUE:\n |        Returns a copy of the single scenario model specified by the \"ScenarioNumber\" parameter.\n |      \n |      EXAMPLE:\n |        singlescenario = model.singleScenarioModel()\n |        singlescenario.optimize()\n |  \n |  terminate(self)\n |      ROUTINE:\n |        terminate()\n |      \n |      PURPOSE:\n |        Terminate any optimization in progress (from a callback).\n |      \n |      ARGUMENTS:\n |        None.\n |      \n |      RETURN VALUE:\n |        None.\n |      \n |      EXAMPLE:\n |        model.terminate()\n |  \n |  tune(self)\n |      ROUTINE:\n |        tune()\n |      \n |      PURPOSE:\n |        Tune parameter settings\n |      \n |      ARGUMENTS:\n |        None.\n |      \n |      RETURN VALUE:\n |        None.\n |      \n |      EXAMPLE:\n |        model.tune()\n |  \n |  update(self)\n |      ROUTINE:\n |        update()\n |      \n |      PURPOSE:\n |        Apply any pending changes to the model.\n |      \n |      ARGUMENTS:\n |        None.\n |      \n |      RETURN VALUE:\n |        None.\n |      \n |      EXAMPLE:\n |        model.update()\n |      \n |      NOTES:\n |        Model modifications are handled in a lazy fashion.  A bound change, for\n |        example, isn't reflected in the model until the user either calls\n |        model.optimize() or model.update().\n |  \n |  write(self, filename)\n |      ROUTINE:\n |        write(filename)\n |      \n |      PURPOSE:\n |        Write model data to a file.  The type of data is determined by the\n |        file suffix: .lp or .mps to write the model itself, .mst to write\n |        the current solution as a MIP start, .bas to write the current\n |        simplex basis, or .prm to write the modified parameters.\n |      \n |      ARGUMENTS:\n |        filename (string): The name of the file to write.\n |      \n |      RETURN VALUE:\n |        None.\n |      \n |      EXAMPLE:\n |        model.write(\"model.lp\")\n |        model.write(\"model.mst\")\n |  \n |  ----------------------------------------------------------------------\n |  Data descriptors defined here:\n |  \n |  __dict__\n |      dictionary for instance variables (if defined)\n |  \n |  __weakref__\n |      list of weak references to the object (if defined)\n |  \n |  typeenum\n |  \n |  typename\n\nHelp on class Var in module gurobipy:\n\nclass Var(builtins.object)\n |  Var(cmodel, colno)\n |  \n |  Gurobi variable object.  Variables have a number of attributes.\n |  Some can be set (e.g., v.ub = 0.0), while others can only be queried\n |  (e.g., print(v.x)). The most commonly used variable attributes are:\n |    obj: Linear objective coefficient.\n |    lb: Lower bound.\n |    ub: Upper bound.\n |    varName: Variable name.\n |    vType: Variable type ('C', 'B', 'I', 'S', or 'N').\n |    x: Solution value.\n |    rc: Solution reduced cost.\n |    xn: Solution value in an alternate MIP solution.\n |  \n |  Type \"help(GRB.attr)\" for a list of all available attributes.\n |  \n |  Note that attribute modifications are handled in a lazy fashion.  You\n |  won't see the effect of a change until after the next call to Model.update()\n |  or Model.optimize().\n |  \n |  Methods defined here:\n |  \n |  __add__(self, expr)\n |  \n |  __cindex__(self)\n |  \n |  __dir__(self)\n |  \n |  __div__(self, constant)\n |  \n |  __eq__(self, rhs)\n |  \n |  __ge__(self, rhs)\n |  \n |  __getattr__(self, name)\n |  \n |  __hash__(self)\n |  \n |  __iadd__(self, expr)\n |  \n |  __imul__(self, expr)\n |  \n |  __init__(self, cmodel, colno)\n |  \n |  __isub__(self, expr)\n |  \n |  __le__(self, rhs)\n |  \n |  __mul__(self, expr)\n |  \n |  __ne__(self, rhs)\n |  \n |  __neg__(self)\n |  \n |  __numcols__(self)\n |  \n |  __radd__(self, expr)\n |  \n |  __repr__(self)\n |  \n |  __rmul__(self, expr)\n |  \n |  __rsub__(self, expr)\n |  \n |  __setattr__(self, name, value)\n |  \n |  __sub__(self, expr)\n |  \n |  __truediv__(self, constant)\n |  \n |  getAttr(self, attrname)\n |      ROUTINE:\n |        getAttr(attrname)\n |      \n |      PURPOSE:\n |        Request the value of a variable attribute.\n |      \n |      ARGUMENTS:\n |        attrname (string): The name of the requested attribute.\n |      \n |      RETURN VALUE:\n |        The attribute value.\n |      \n |      EXAMPLE:\n |        print(var.getAttr(\"varName\"))\n |      \n |      NOTES:\n |        Type \"help(GRB.attr)\" for a list of all available attributes.\n |  \n |  sameAs(self, other)\n |      ROUTINE:\n |        sameAs(othervar)\n |      \n |      PURPOSE:\n |        Indicates whether two variable objects refer to the same Gurobi model\n |        variable.  You should use this instead of the '==' operator, since\n |        '==' is used to create linear constraints.\n |      \n |      ARGUMENTS:\n |        othervar (Var): The variable to compare against.\n |      \n |      RETURN VALUE:\n |        True if both Var objects refer to the same model variable.\n |      \n |      EXAMPLE:\n |        var1.sameAs(var2)\n |  \n |  setAttr(self, attrname, newval)\n |      ROUTINE:\n |        setAttr(attrname, newvalue)\n |      \n |      PURPOSE:\n |        Change the value of a variable attribute.\n |      \n |      ARGUMENTS:\n |        attrname (string): The name of the attribute.\n |        newvalue: The desired new value.  The type of the value should be\n |                  compatible with the attribute type (e.g., an integer parameter\n |                  will take an integer value).\n |      \n |      RETURN VALUE:\n |        The attribute value.\n |      \n |      EXAMPLE:\n |        var.setAttr(\"varName\", \"New name\")\n |      \n |      NOTES:\n |        Variable attributes that can be set are:\n |          VarName:  Name of the variable.\n |          lb:       Lower bound.\n |          ub:       Upper bound.\n |          obj:      Objective coefficient.\n |          vType:    Variable type ('C', 'B', 'I', 'S', or 'N').\n |      \n |        Attributes changes are handled in a lazy fashion.  The effect of a\n |        change isn't visible until after the next call to Model.update() or\n |        Model.optimize().\n |  \n |  ----------------------------------------------------------------------\n |  Data descriptors defined here:\n |  \n |  __dict__\n |      dictionary for instance variables (if defined)\n |  \n |  __weakref__\n |      list of weak references to the object (if defined)\n |  \n |  index\n |      PROPERTY:\n |        index\n |      \n |      PURPOSE:\n |        Request the index of the variable in the model.\n |      \n |      RETURN VALUE:\n |        = -2: removed\n |        = -1: not in model\n |        >= 0: index of the variable in the model\n |      \n |      EXAMPLE:\n |        print(var.index)\n |  \n |  typeenum\n |  \n |  typename\n\n"
    }
   ],
   "source": [
    "# Check documentation using help() function\n",
    "help(gb.Model);\n",
    "help(gb.Var);"
   ]
  },
  {
   "cell_type": "code",
   "execution_count": 19,
   "metadata": {
    "tags": []
   },
   "outputs": [
    {
     "output_type": "stream",
     "name": "stdout",
     "text": "Discarded solution information\n"
    }
   ],
   "source": [
    "# Reset model\n",
    "m.reset();"
   ]
  },
  {
   "source": [
    "## Declare Constraints\n",
    "<img src=\"images/lp1.jpeg\" alt=\"Drawing\" style=\"width: 400px;\"/>"
   ],
   "cell_type": "markdown",
   "metadata": {
    "tags": []
   }
  },
  {
   "cell_type": "code",
   "execution_count": 20,
   "metadata": {
    "tags": []
   },
   "outputs": [],
   "source": [
    "# Declaring variables\n",
    "I = 5\n",
    "J = 6\n",
    "m = gb.Model(\"model1\")\n",
    "x = m.addVars(I, J, vtype=gb.GRB.BINARY, name='x')"
   ]
  },
  {
   "cell_type": "code",
   "execution_count": 21,
   "metadata": {},
   "outputs": [],
   "source": [
    "# # Method 1 for declaring constraints\n",
    "# for i in range(I):\n",
    "#     m.addConstr(gb.quicksum(x[i,j] for j in range(J)) <= 5)\n",
    "\n",
    "# Method 2 for declaring constraints\n",
    "m.addConstrs((x.sum(i, '*') <= 5) for i in range(I));"
   ]
  },
  {
   "source": [
    "# Factory Planning\n",
    "[Factory Planning I](https://www.gurobi.com/resources/factory-planning-i/)\n",
    "\n",
    "[Video + Implementation](https://www.youtube.com/watch?v=vnLc_3VnVcw&t=2572s&ab_channel=GurobiOptimization)"
   ],
   "cell_type": "markdown",
   "metadata": {}
  },
  {
   "cell_type": "code",
   "execution_count": 52,
   "metadata": {
    "tags": []
   },
   "outputs": [],
   "source": [
    "%reset -f\n",
    "from gurobipy import *"
   ]
  },
  {
   "cell_type": "code",
   "execution_count": 27,
   "metadata": {},
   "outputs": [],
   "source": [
    "# Define sets P, M and T\n",
    "products = [\"Prod1\", \"Prod2\", \"Prod3\", \"Prod4\", \"Prod5\", \"Prod6\", \"Prod7\"]\n",
    "months = [\"Jan\", \"Feb\", \"Mar\", \"Apr\", \"May\", \"Jun\"]\n",
    "machines = [\"grinder\", \"vertDrill\", \"horiDrill\", \"borer\", \"planer\"]"
   ]
  },
  {
   "cell_type": "code",
   "execution_count": 28,
   "metadata": {},
   "outputs": [],
   "source": [
    "# Dict implementaion 1 - Profit Contribution \n",
    "profit_contribution = {\"Prod1\" : 10, \"Prod2\" : 6, \"Prod3\" : 8, \"Prod4\" : 4,\n",
    "                        \"Prod5\" : 11, \"Prod6\" : 9, \"Prod7\" : 3}"
   ]
  },
  {
   "cell_type": "code",
   "execution_count": 29,
   "metadata": {},
   "outputs": [],
   "source": [
    "# Dict implementation 2 - Returns Key and a dictionary\n",
    "products, profit_contribution = multidict({\"Prod1\" : 10, \"Prod2\" : 6, \"Prod3\" : 8, \"Prod4\" : 4,\n",
    "                        \"Prod5\" : 11, \"Prod6\" : 9, \"Prod7\" : 3})"
   ]
  },
  {
   "cell_type": "code",
   "execution_count": 30,
   "metadata": {},
   "outputs": [],
   "source": [
    "# Total number of machines per type\n",
    "qMachine = {\"grinder\" : 4, \"vertDrill\" : 2, \"horiDrill\" : 3, \"borer\" : 1, \"planer\" : 1}\n",
    "\n",
    "# Or implementation like this\n",
    "machines, qMachine = multidict({\"grinder\" : 4, \"vertDrill\" : 2, \"horiDrill\" : 3, \"borer\" : 1, \"planer\" : 1})"
   ]
  },
  {
   "cell_type": "code",
   "execution_count": 31,
   "metadata": {},
   "outputs": [],
   "source": [
    "# Production time required per machine type and product\n",
    "time_table = {\n",
    "    \"grinder\" : {\"Prod1\" : 0.5, \"Prod2\" : 0.7,\n",
    "                    \"Prod5\" : 0.3, \"Prod6\" : 0.2, \"Prod7\" : 0.5},\n",
    "    \"vertDrill\": {\"Prod1\" : 0.1, \"Prod2\" : 0.2, \"Prod4\" : 0.3,\n",
    "                    \"Prod6\" : 0.6},\n",
    "    \"horiDrill\": {\"Prod1\" : 0.2, \"Prod3\" : 0.8, \"Prod7\" : 0.6},\n",
    "    \"borer\": {\"Prod1\" : 0.05, \"Prod2\" : 0.03, \"Prod4\" : 0.07,\n",
    "                        \"Prod5\" : 0.1, \"Prod7\" : 0.08},\n",
    "    \"planer\": {\"Prod1\" : 0.01, \"Prod5\" : 0.05, \"Prod7\" : 0.05}\n",
    "}"
   ]
  },
  {
   "cell_type": "code",
   "execution_count": 32,
   "metadata": {},
   "outputs": [],
   "source": [
    "# Number of machines down for maintenance per month and machine type\n",
    "\n",
    "down = {(\"Jan\", \"grinder\"): 1, (\"Feb\", \"horiDrill\"): 2, (\"Mar\", \"borer\"): 1,\n",
    "        (\"Apr\", \"vertDrill\"): 1, (\"May\", \"grinder\"): 1, (\"May\", \"vertDrill\"): 1,\n",
    "        (\"Jun\", \"planer\"): 1, (\"Jun\", \"horiDrill\"): 1}"
   ]
  },
  {
   "cell_type": "code",
   "execution_count": 33,
   "metadata": {},
   "outputs": [],
   "source": [
    "# sales limit per month and product\n",
    "\n",
    "upper_dict = {\n",
    "    \"Jan\": {\"Prod1\" : 500, \"Prod2\" : 1000, \"Prod3\" : 300, \"Prod4\" : 300, \"Prod5\" :  800, \"Prod6\" : 200, \"Prod7\" : 100},\n",
    "    \"Feb\": {\"Prod1\" : 600, \"Prod2\" :  500, \"Prod3\" : 200, \"Prod4\" :   0, \"Prod5\" :  400, \"Prod6\" : 300, \"Prod7\" : 150},\n",
    "    \"Mar\": {\"Prod1\" : 300, \"Prod2\" :  600, \"Prod3\" :   0, \"Prod4\" :   0, \"Prod5\" :  500, \"Prod6\" : 400, \"Prod7\" : 100},\n",
    "    \"Apr\": {\"Prod1\" : 200, \"Prod2\" :  300, \"Prod3\" : 400, \"Prod4\" : 500, \"Prod5\" :  200, \"Prod6\" :   0, \"Prod7\" : 100},\n",
    "    \"May\": {\"Prod1\" :   0, \"Prod2\" :  100, \"Prod3\" : 500, \"Prod4\" : 100, \"Prod5\" : 1000, \"Prod6\" : 300, \"Prod7\" :   0},\n",
    "    \"Jun\": {\"Prod1\" : 500, \"Prod2\" :  500, \"Prod3\" : 100, \"Prod4\" : 300, \"Prod5\" : 1100, \"Prod6\" : 500, \"Prod7\" :  60}\n",
    "}\n",
    "\n",
    "# Create dictionary of tuples\n",
    "upper = { (month, product): upper_dict[month][product] for month in months for product in products}"
   ]
  },
  {
   "cell_type": "code",
   "execution_count": 34,
   "metadata": {},
   "outputs": [],
   "source": [
    "# Constant parameters\n",
    "\n",
    "storeCost = 0.5\n",
    "storeCapacity = 100\n",
    "endStock = 50\n",
    "hoursPerMonth = 2*8*24"
   ]
  },
  {
   "source": [
    "# Model Generation "
   ],
   "cell_type": "markdown",
   "metadata": {}
  },
  {
   "cell_type": "code",
   "execution_count": 35,
   "metadata": {},
   "outputs": [],
   "source": [
    "# Create empty named model object\n",
    "\n",
    "model = Model(\"Factory Planning\")"
   ]
  },
  {
   "source": [
    "Create and fill dictionaries of variable manu ($b_{t,p}$), held ($s_{t,p}$), sell ($u_{t,p}$):"
   ],
   "cell_type": "markdown",
   "metadata": {}
  },
  {
   "cell_type": "code",
   "execution_count": 36,
   "metadata": {},
   "outputs": [],
   "source": [
    "# Define multiple variables using addVars()\n",
    "\n",
    "manu = model.addVars(months, products, name=\"manu\")\n",
    "held = model.addVars(months, products, name=\"held\", ub=storeCapacity) # Upper bound\n",
    "sell = model.addVars(months, products, name=\"sell\", ub=upper) # Check how upper is defined"
   ]
  },
  {
   "cell_type": "code",
   "execution_count": 37,
   "metadata": {},
   "outputs": [],
   "source": [
    "# Add constraints\n",
    "\n",
    "model.addConstrs((manu[months[0], product] == sell[months[0], product]\n",
    "                    + held[months[0], product] for product in products), name=\"balance\") # manu is a dictionary variable with tuple as a key\n",
    "\n",
    "model.addConstrs((held[months[month_index-1], product] +\n",
    "                    manu[month, product] == sell[month, product] + held[month, product]\n",
    "                    for product in products for month_index, month in enumerate(months)\n",
    "                    if month != months[0]), name=\"balance\"); # Semi-colon at the end of last statement in a block suppresses printing for that line"
   ]
  },
  {
   "cell_type": "code",
   "execution_count": 38,
   "metadata": {},
   "outputs": [],
   "source": [
    "model.addConstrs((held[months[-1], product] == endStock for product in products), name=\"End_Balance\");"
   ]
  },
  {
   "cell_type": "code",
   "execution_count": 39,
   "metadata": {},
   "outputs": [],
   "source": [
    "model.addConstrs((quicksum(time_table[machine][product] * manu[month, product]\n",
    "            for product in time_table[machine]) <= hoursPerMonth * (qMachine[machine] - \n",
    "            down[month, machine]) for machine in machines for month in months\n",
    "            if (month, machine) in down), name=\"Capacity\")\n",
    "\n",
    "model.addConstrs((quicksum(time_table[machine][product] * manu[month, product]\n",
    "            for product in time_table[machine]) <= hoursPerMonth * qMachine[machine]\n",
    "            for machine in machines for month in months\n",
    "            if (month, machine) in down), name=\"Capacity\");"
   ]
  },
  {
   "cell_type": "code",
   "execution_count": 40,
   "metadata": {},
   "outputs": [],
   "source": [
    "obj = quicksum(\n",
    "    profit_contribution[product] * sell[month, product] - storeCost * held[month, product]\n",
    "    for month in months\n",
    "    for product in products\n",
    ")\n",
    "\n",
    "model.setObjective(obj, GRB.MAXIMIZE)"
   ]
  },
  {
   "cell_type": "code",
   "execution_count": 41,
   "metadata": {
    "tags": []
   },
   "outputs": [
    {
     "output_type": "stream",
     "name": "stdout",
     "text": "Gurobi Optimizer version 9.0.3 build v9.0.3rc0 (linux64)\nOptimize a model with 65 rows, 126 columns and 232 nonzeros\nModel fingerprint: 0xe77ccd1e\nCoefficient statistics:\n  Matrix range     [1e-02, 1e+00]\n  Objective range  [5e-01, 1e+01]\n  Bounds range     [6e+01, 1e+03]\n  RHS range        [5e+01, 2e+03]\nPresolve removed 60 rows and 110 columns\nPresolve time: 0.01s\nPresolved: 5 rows, 16 columns, 21 nonzeros\n\nIteration    Objective       Primal Inf.    Dual Inf.      Time\n       0    1.2056500e+05   3.640000e+02   0.000000e+00      0s\n       2    8.9615179e+04   0.000000e+00   0.000000e+00      0s\n\nSolved in 2 iterations and 0.01 seconds\nOptimal objective  8.961517857e+04\n"
    }
   ],
   "source": [
    "model.optimize()"
   ]
  },
  {
   "cell_type": "code",
   "execution_count": 42,
   "metadata": {
    "tags": []
   },
   "outputs": [
    {
     "output_type": "stream",
     "name": "stdout",
     "text": "\n    Variable            X \n-------------------------\nmanu[Jan,Prod1]          500 \nmanu[Jan,Prod2]      888.571 \nmanu[Jan,Prod3]        382.5 \nmanu[Jan,Prod4]          300 \nmanu[Jan,Prod5]          800 \nmanu[Jan,Prod6]          200 \nmanu[Feb,Prod1]          700 \nmanu[Feb,Prod2]          600 \nmanu[Feb,Prod3]        117.5 \nmanu[Feb,Prod5]          500 \nmanu[Feb,Prod6]          300 \nmanu[Feb,Prod7]          250 \nmanu[Mar,Prod6]          400 \nmanu[Apr,Prod1]          200 \nmanu[Apr,Prod2]          300 \nmanu[Apr,Prod3]          400 \nmanu[Apr,Prod4]          500 \nmanu[Apr,Prod5]          200 \nmanu[Apr,Prod7]          100 \nmanu[May,Prod1]          100 \nmanu[May,Prod2]          100 \nmanu[May,Prod3]          500 \nmanu[May,Prod4]          100 \nmanu[May,Prod5]         1100 \nmanu[May,Prod6]          300 \nmanu[May,Prod7]          100 \nmanu[Jun,Prod2]          550 \nmanu[Jun,Prod3]          150 \nmanu[Jun,Prod4]          350 \nmanu[Jun,Prod6]          550 \nheld[Jan,Prod3]         82.5 \nheld[Feb,Prod1]          100 \nheld[Feb,Prod2]          100 \nheld[Feb,Prod5]          100 \nheld[Feb,Prod7]          100 \nheld[May,Prod1]          100 \nheld[May,Prod5]          100 \nheld[May,Prod7]          100 \nheld[Jun,Prod1]           50 \nheld[Jun,Prod2]           50 \nheld[Jun,Prod3]           50 \nheld[Jun,Prod4]           50 \nheld[Jun,Prod5]           50 \nheld[Jun,Prod6]           50 \nheld[Jun,Prod7]           50 \nsell[Jan,Prod1]          500 \nsell[Jan,Prod2]      888.571 \nsell[Jan,Prod3]          300 \nsell[Jan,Prod4]          300 \nsell[Jan,Prod5]          800 \nsell[Jan,Prod6]          200 \nsell[Feb,Prod1]          600 \nsell[Feb,Prod2]          500 \nsell[Feb,Prod3]          200 \nsell[Feb,Prod5]          400 \nsell[Feb,Prod6]          300 \nsell[Feb,Prod7]          150 \nsell[Mar,Prod1]          100 \nsell[Mar,Prod2]          100 \nsell[Mar,Prod5]          100 \nsell[Mar,Prod6]          400 \nsell[Mar,Prod7]          100 \nsell[Apr,Prod1]          200 \nsell[Apr,Prod2]          300 \nsell[Apr,Prod3]          400 \nsell[Apr,Prod4]          500 \nsell[Apr,Prod5]          200 \nsell[Apr,Prod7]          100 \nsell[May,Prod2]          100 \nsell[May,Prod3]          500 \nsell[May,Prod4]          100 \nsell[May,Prod5]         1000 \nsell[May,Prod6]          300 \nsell[Jun,Prod1]           50 \nsell[Jun,Prod2]          500 \nsell[Jun,Prod3]          100 \nsell[Jun,Prod4]          300 \nsell[Jun,Prod5]           50 \nsell[Jun,Prod6]          500 \nsell[Jun,Prod7]           50 \n"
    }
   ],
   "source": [
    "model.printAttr('X')"
   ]
  },
  {
   "source": [
    "# Workforce"
   ],
   "cell_type": "markdown",
   "metadata": {}
  },
  {
   "cell_type": "code",
   "execution_count": 53,
   "metadata": {},
   "outputs": [],
   "source": [
    "%reset -f\n",
    "import gurobipy as gp\n",
    "from gurobipy import GRB"
   ]
  },
  {
   "cell_type": "code",
   "execution_count": 54,
   "metadata": {},
   "outputs": [],
   "source": [
    "# Number of workers required for each shift\n",
    "shifts, shiftRequirements = gp.multidict({\n",
    "    \"Mon1\":  3,\n",
    "    \"Tue2\":  2,\n",
    "    \"Wed3\":  4,\n",
    "    \"Thu4\":  4,\n",
    "    \"Fri5\":  5,\n",
    "    \"Sat6\":  6,\n",
    "    \"Sun7\":  5,\n",
    "    \"Mon8\":  2,\n",
    "    \"Tue9\":  2,\n",
    "    \"Wed10\": 3,\n",
    "    \"Thu11\": 4,\n",
    "    \"Fri12\": 6,\n",
    "    \"Sat13\": 7,\n",
    "    \"Sun14\": 5,\n",
    "    });\n",
    "\n",
    "# Amount each worker is paid to work one shift\n",
    "workers, pay = gp.multidict({\n",
    "    \"Amy\":   10,\n",
    "    \"Bob\":   12,\n",
    "    \"Cathy\": 10,\n",
    "    \"Dan\":   8,\n",
    "    \"Ed\":    8,\n",
    "    \"Fred\":  9,\n",
    "    \"Gu\":    11,\n",
    "    });"
   ]
  },
  {
   "cell_type": "code",
   "execution_count": 55,
   "metadata": {},
   "outputs": [],
   "source": [
    "# Worker availability - Only mention availability \n",
    "availability = gp.tuplelist([\n",
    "    ('Amy', 'Tue2'), ('Amy', 'Wed3'), ('Amy', 'Fri5'), ('Amy', 'Sun7'),\n",
    "    ('Amy', 'Tue9'), ('Amy', 'Wed10'), ('Amy', 'Thu11'), ('Amy', 'Fri12'),\n",
    "    ('Amy', 'Sat13'), ('Amy', 'Sun14'), ('Bob', 'Mon1'), ('Bob', 'Tue2'),\n",
    "    ('Bob', 'Fri5'), ('Bob', 'Sat6'), ('Bob', 'Mon8'), ('Bob', 'Thu11'),\n",
    "    ('Bob', 'Sat13'), ('Cathy', 'Wed3'), ('Cathy', 'Thu4'), ('Cathy', 'Fri5'),\n",
    "    ('Cathy', 'Sun7'), ('Cathy', 'Mon8'), ('Cathy', 'Tue9'),('Cathy', 'Wed10'), \n",
    "    ('Cathy', 'Thu11'), ('Cathy', 'Fri12'), ('Cathy', 'Sat13'), \n",
    "    ('Cathy', 'Sun14'), ('Dan', 'Tue2'), ('Dan', 'Wed3'), ('Dan', 'Fri5'), \n",
    "    ('Dan', 'Sat6'), ('Dan', 'Mon8'), ('Dan', 'Tue9'), ('Dan', 'Wed10'), \n",
    "    ('Dan', 'Thu11'), ('Dan', 'Fri12'), ('Dan', 'Sat13'), ('Dan', 'Sun14'), \n",
    "    ('Ed', 'Mon1'), ('Ed', 'Tue2'), ('Ed', 'Wed3'), ('Ed', 'Thu4'), \n",
    "    ('Ed', 'Fri5'), ('Ed', 'Sun7'), ('Ed', 'Mon8'), ('Ed', 'Tue9'), \n",
    "    ('Ed', 'Thu11'), ('Ed', 'Sat13'), ('Ed', 'Sun14'), ('Fred', 'Mon1'), \n",
    "    ('Fred', 'Tue2'), ('Fred', 'Wed3'), ('Fred', 'Sat6'), ('Fred', 'Mon8'), \n",
    "    ('Fred', 'Tue9'), ('Fred', 'Fri12'), ('Fred', 'Sat13'), ('Fred', 'Sun14'), \n",
    "    ('Gu', 'Mon1'), ('Gu', 'Tue2'), ('Gu', 'Wed3'), ('Gu', 'Fri5'), \n",
    "    ('Gu', 'Sat6'), ('Gu', 'Sun7'), ('Gu', 'Mon8'), ('Gu', 'Tue9'), \n",
    "    ('Gu', 'Wed10'), ('Gu', 'Thu11'), ('Gu', 'Fri12'), ('Gu', 'Sat13'), \n",
    "    ('Gu', 'Sun14')\n",
    "    ])"
   ]
  },
  {
   "cell_type": "code",
   "execution_count": 56,
   "metadata": {
    "tags": []
   },
   "outputs": [],
   "source": [
    "# Model\n",
    "m = gp.Model(\"assignment\")"
   ]
  },
  {
   "source": [
    "# Decision Variables\n",
    "The variable `x[w, s] = 1` if worker w is assigned shift s\n",
    "\n",
    "- Only use variables for possible combinations - not when workers are unavailable \n",
    "- Reduces model size and makes code efficient "
   ],
   "cell_type": "markdown",
   "metadata": {}
  },
  {
   "cell_type": "code",
   "execution_count": 57,
   "metadata": {},
   "outputs": [],
   "source": [
    "# Assignment variables: x[w,s] == 1 if worker w is assigned to shift s.\n",
    "# Since an assignment model always produces integer solutions, we use\n",
    "# continuous variables and solve as an LP.\n",
    "x = m.addVars(availability, ub=1, name=\"x\")"
   ]
  },
  {
   "source": [
    "# Objective"
   ],
   "cell_type": "markdown",
   "metadata": {}
  },
  {
   "cell_type": "code",
   "execution_count": 58,
   "metadata": {},
   "outputs": [],
   "source": [
    "# The objective is to minimize the total pay costs\n",
    "m.setObjective(sum(pay[w]*x[w, s] for w, s in availability), GRB.MINIMIZE)"
   ]
  },
  {
   "source": [
    "# Constraints"
   ],
   "cell_type": "markdown",
   "metadata": {}
  },
  {
   "cell_type": "code",
   "execution_count": 59,
   "metadata": {},
   "outputs": [],
   "source": [
    "# Constraints: assign exactly shiftRequirements[s] workers to each shift s\n",
    "# sum and quicksum have same running time for optimization\n",
    "reqCts = m.addConstrs((x.sum('*', s) == shiftRequirements[s] for s in shifts), \"_\")"
   ]
  },
  {
   "source": [
    "Using Python looping constructs, the preceding statement would be...\n",
    "\n",
    "**Less Effcient**\n",
    "```\n",
    "reqCts = {}\n",
    "for s in shifts:\n",
    "  reqCts[s] = m.addConstr(\n",
    "       gp.quicksum(x[w,s] for w,s in availability.select('*', s)) ==\n",
    "       shiftRequirements[s], s)\n",
    "```"
   ],
   "cell_type": "markdown",
   "metadata": {}
  },
  {
   "cell_type": "code",
   "execution_count": 60,
   "metadata": {
    "tags": []
   },
   "outputs": [
    {
     "output_type": "stream",
     "name": "stdout",
     "text": "Gurobi Optimizer version 9.0.3 build v9.0.3rc0 (linux64)\nOptimize a model with 14 rows, 72 columns and 72 nonzeros\nModel fingerprint: 0xc4a4a254\nCoefficient statistics:\n  Matrix range     [1e+00, 1e+00]\n  Objective range  [8e+00, 1e+01]\n  Bounds range     [1e+00, 1e+00]\n  RHS range        [2e+00, 7e+00]\nPresolve removed 1 rows and 34 columns\nPresolve time: 0.01s\n\nSolved in 0 iterations and 0.01 seconds\nInfeasible model\n"
    }
   ],
   "source": [
    "m.optimize()"
   ]
  },
  {
   "source": [
    "# Relax Constraints "
   ],
   "cell_type": "markdown",
   "metadata": {}
  },
  {
   "cell_type": "code",
   "execution_count": 62,
   "metadata": {
    "tags": []
   },
   "outputs": [
    {
     "output_type": "stream",
     "name": "stdout",
     "text": "Gurobi Optimizer version 9.0.3 build v9.0.3rc0 (linux64)\nOptimize a model with 14 rows, 100 columns and 100 nonzeros\nModel fingerprint: 0x8bac3844\nCoefficient statistics:\n  Matrix range     [1e+00, 1e+00]\n  Objective range  [1e+00, 1e+00]\n  Bounds range     [1e+00, 1e+00]\n  RHS range        [2e+00, 7e+00]\nPresolve removed 5 rows and 73 columns\nPresolve time: 0.01s\nPresolved: 9 rows, 27 columns, 27 nonzeros\n\nIteration    Objective       Primal Inf.    Dual Inf.      Time\n       0    6.0000000e+00   0.000000e+00   0.000000e+00      0s\n       0    6.0000000e+00   0.000000e+00   0.000000e+00      0s\n\nSolved in 0 iterations and 0.01 seconds\nOptimal objective  6.000000000e+00\n\n    Variable            X \n-------------------------\n   ArtP_Thu4            2 \n   ArtP_Sat6            2 \n   ArtP_Sun7            1 \n  ArtP_Fri12            1 \n"
    }
   ],
   "source": [
    "orignumbars = m.NumVars\n",
    "m.feasRelaxS(0, False, False, True)\n",
    "m.optimize()\n",
    "\n",
    "m.printAttr('X', \"Art*\") # slack variables"
   ]
  },
  {
   "source": [
    "# GUROBI data structures"
   ],
   "cell_type": "markdown",
   "metadata": {}
  },
  {
   "cell_type": "code",
   "execution_count": 19,
   "metadata": {},
   "outputs": [],
   "source": [
    "%reset -f\n",
    "from gurobipy import *"
   ]
  },
  {
   "cell_type": "code",
   "execution_count": 3,
   "metadata": {},
   "outputs": [],
   "source": [
    "Cities = ['A', 'B', 'C', 'D']\n",
    "Routes = tuplelist([('A', 'B'), ('A', 'C'), ('B', 'C'), ('B', 'D'), ('C', 'D')])"
   ]
  },
  {
   "cell_type": "code",
   "execution_count": 4,
   "metadata": {
    "tags": []
   },
   "outputs": [
    {
     "output_type": "stream",
     "name": "stdout",
     "text": "<gurobi.tuplelist (2 tuples, 2 values each):\n ( A , B )\n ( A , C )\n>\n<gurobi.tuplelist (2 tuples, 2 values each):\n ( B , C )\n ( B , D )\n>\n<gurobi.tuplelist (1 tuples, 2 values each):\n ( C , D )\n>\n[]\n"
    }
   ],
   "source": [
    "for c in Cities:\n",
    "    print(Routes.select(c, '*'))"
   ]
  },
  {
   "cell_type": "code",
   "execution_count": 22,
   "metadata": {
    "tags": []
   },
   "outputs": [],
   "source": [
    "m = Model(\"test\")"
   ]
  },
  {
   "cell_type": "code",
   "execution_count": 12,
   "metadata": {
    "tags": []
   },
   "outputs": [],
   "source": [
    "# addVars() only takes list of scalars and list of tuples\n",
    "x = m.addVars(2, 3, name='x')\n",
    "y = m.addVars(Cities, Cities, name='y') # Cross-product of variables\n",
    "z = m.addVars(Routes, name=\"z\")\n",
    "w = m.addVars((i for i in range(5) if i != 2), name=\"w\")\n",
    "m.update()"
   ]
  },
  {
   "cell_type": "code",
   "execution_count": 13,
   "metadata": {
    "tags": []
   },
   "outputs": [
    {
     "output_type": "stream",
     "name": "stdout",
     "text": "x:\n{(0, 0): <gurobi.Var x[0,0]>, (0, 1): <gurobi.Var x[0,1]>, (0, 2): <gurobi.Var x[0,2]>, (1, 0): <gurobi.Var x[1,0]>, (1, 1): <gurobi.Var x[1,1]>, (1, 2): <gurobi.Var x[1,2]>}\ny:\n{('A', 'A'): <gurobi.Var y[A,A]>, ('A', 'B'): <gurobi.Var y[A,B]>, ('A', 'C'): <gurobi.Var y[A,C]>, ('A', 'D'): <gurobi.Var y[A,D]>, ('B', 'A'): <gurobi.Var y[B,A]>, ('B', 'B'): <gurobi.Var y[B,B]>, ('B', 'C'): <gurobi.Var y[B,C]>, ('B', 'D'): <gurobi.Var y[B,D]>, ('C', 'A'): <gurobi.Var y[C,A]>, ('C', 'B'): <gurobi.Var y[C,B]>, ('C', 'C'): <gurobi.Var y[C,C]>, ('C', 'D'): <gurobi.Var y[C,D]>, ('D', 'A'): <gurobi.Var y[D,A]>, ('D', 'B'): <gurobi.Var y[D,B]>, ('D', 'C'): <gurobi.Var y[D,C]>, ('D', 'D'): <gurobi.Var y[D,D]>}\nz:\n{('A', 'B'): <gurobi.Var z[A,B]>, ('A', 'C'): <gurobi.Var z[A,C]>, ('B', 'C'): <gurobi.Var z[B,C]>, ('B', 'D'): <gurobi.Var z[B,D]>, ('C', 'D'): <gurobi.Var z[C,D]>}\nw:\n{0: <gurobi.Var w[0]>, 1: <gurobi.Var w[1]>, 3: <gurobi.Var w[3]>, 4: <gurobi.Var w[4]>}\n"
    }
   ],
   "source": [
    "print(\"x:\")\n",
    "print(x)\n",
    "print(\"y:\")\n",
    "print(y)\n",
    "print(\"z:\")\n",
    "print(z)\n",
    "print(\"w:\")\n",
    "print(w)"
   ]
  },
  {
   "source": [
    "# Aggregate Sum"
   ],
   "cell_type": "markdown",
   "metadata": {}
  },
  {
   "cell_type": "code",
   "execution_count": 23,
   "metadata": {
    "tags": []
   },
   "outputs": [
    {
     "output_type": "stream",
     "name": "stdout",
     "text": "{(0, 0): <gurobi.Var x[0,0]>, (0, 1): <gurobi.Var x[0,1]>, (0, 2): <gurobi.Var x[0,2]>, (0, 3): <gurobi.Var x[0,3]>, (1, 0): <gurobi.Var x[1,0]>, (1, 1): <gurobi.Var x[1,1]>, (1, 2): <gurobi.Var x[1,2]>, (1, 3): <gurobi.Var x[1,3]>, (2, 0): <gurobi.Var x[2,0]>, (2, 1): <gurobi.Var x[2,1]>, (2, 2): <gurobi.Var x[2,2]>, (2, 3): <gurobi.Var x[2,3]>}\n"
    }
   ],
   "source": [
    "x = m.addVars(3, 4, vtype=GRB.BINARY, name=\"x\")\n",
    "m.update()\n",
    "print(x)"
   ]
  },
  {
   "cell_type": "code",
   "execution_count": 34,
   "metadata": {},
   "outputs": [],
   "source": [
    "m.addConstrs(x.sum(i, \"*\") <= 1 for i in range(3))\n",
    "\n",
    "# Both are same\n",
    "\n",
    "for i in range(3):\n",
    "    m.addConstr(quicksum(x[i, j] for j in range(4)) <= 1)"
   ]
  },
  {
   "cell_type": "code",
   "execution_count": 31,
   "metadata": {
    "tags": []
   },
   "outputs": [
    {
     "output_type": "stream",
     "name": "stdout",
     "text": "{0: <gurobi.Constr R9>, 1: <gurobi.Constr R10>, 2: <gurobi.Constr R11>}\n"
    }
   ],
   "source": []
  },
  {
   "cell_type": "code",
   "execution_count": 35,
   "metadata": {},
   "outputs": [],
   "source": [
    "arcs = m.addVars(3, 4, name=\"arcs\")\n",
    "cost = m.addVars(3, 4, name=\"cost\")\n",
    "x = m.addVars(3, 4, name=\"x\")"
   ]
  },
  {
   "cell_type": "code",
   "execution_count": 36,
   "metadata": {},
   "outputs": [],
   "source": [
    "# Element-wise product and sum = dot-product\n",
    "obj = quicksum(cost[i,j] * x[i,j] for i,j in arcs)\n",
    "\n",
    "# Both are same\n",
    "obj = x.prod(cost)"
   ]
  },
  {
   "source": [
    "# Network Flow"
   ],
   "cell_type": "markdown",
   "metadata": {}
  },
  {
   "cell_type": "code",
   "execution_count": 38,
   "metadata": {},
   "outputs": [],
   "source": [
    "%reset -f\n",
    "import gurobipy as gp\n",
    "from gurobipy import GRB"
   ]
  },
  {
   "cell_type": "code",
   "execution_count": 39,
   "metadata": {},
   "outputs": [],
   "source": [
    "# Base data\n",
    "commodities = ['Pencils', 'Pens']\n",
    "nodes = ['Detroit', 'Denver', 'Boston', 'New York', 'Seattle']\n",
    "\n",
    "arcs, capacity = gp.multidict({\n",
    "    ('Detroit', 'Boston'):   100,\n",
    "    ('Detroit', 'New York'):  80,\n",
    "    ('Detroit', 'Seattle'):  120,\n",
    "    ('Denver',  'Boston'):   120,\n",
    "    ('Denver',  'New York'): 120,\n",
    "    ('Denver',  'Seattle'):  120})\n",
    "\n",
    "# Cost for triplets commodity-source-destination\n",
    "cost = {\n",
    "    ('Pencils', 'Detroit', 'Boston'):   10,\n",
    "    ('Pencils', 'Detroit', 'New York'): 20,\n",
    "    ('Pencils', 'Detroit', 'Seattle'):  60,\n",
    "    ('Pencils', 'Denver',  'Boston'):   40,\n",
    "    ('Pencils', 'Denver',  'New York'): 40,\n",
    "    ('Pencils', 'Denver',  'Seattle'):  30,\n",
    "    ('Pens',    'Detroit', 'Boston'):   20,\n",
    "    ('Pens',    'Detroit', 'New York'): 20,\n",
    "    ('Pens',    'Detroit', 'Seattle'):  80,\n",
    "    ('Pens',    'Denver',  'Boston'):   60,\n",
    "    ('Pens',    'Denver',  'New York'): 70,\n",
    "    ('Pens',    'Denver',  'Seattle'):  30}\n",
    "\n",
    "# Demand for pairs of commodity-city\n",
    "inflow = {\n",
    "    ('Pencils', 'Detroit'):   50,\n",
    "    ('Pencils', 'Denver'):    60,\n",
    "    ('Pencils', 'Boston'):   -50,\n",
    "    ('Pencils', 'New York'): -50,\n",
    "    ('Pencils', 'Seattle'):  -10,\n",
    "    ('Pens',    'Detroit'):   60,\n",
    "    ('Pens',    'Denver'):    40,\n",
    "    ('Pens',    'Boston'):   -40,\n",
    "    ('Pens',    'New York'): -30,\n",
    "    ('Pens',    'Seattle'):  -30}"
   ]
  },
  {
   "cell_type": "code",
   "execution_count": 40,
   "metadata": {},
   "outputs": [
    {
     "output_type": "execute_result",
     "data": {
      "text/plain": "{('Pencils', 'Detroit'): <gurobi.Constr *Awaiting Model Update*>,\n ('Pencils', 'Denver'): <gurobi.Constr *Awaiting Model Update*>,\n ('Pencils', 'Boston'): <gurobi.Constr *Awaiting Model Update*>,\n ('Pencils', 'New York'): <gurobi.Constr *Awaiting Model Update*>,\n ('Pencils', 'Seattle'): <gurobi.Constr *Awaiting Model Update*>,\n ('Pens', 'Detroit'): <gurobi.Constr *Awaiting Model Update*>,\n ('Pens', 'Denver'): <gurobi.Constr *Awaiting Model Update*>,\n ('Pens', 'Boston'): <gurobi.Constr *Awaiting Model Update*>,\n ('Pens', 'New York'): <gurobi.Constr *Awaiting Model Update*>,\n ('Pens', 'Seattle'): <gurobi.Constr *Awaiting Model Update*>}"
     },
     "metadata": {},
     "execution_count": 40
    }
   ],
   "source": [
    "# Create optimization model\n",
    "m = gp.Model('netflow')\n",
    "\n",
    "# Create variables\n",
    "flow = m.addVars(commodities, arcs, obj=cost, name=\"flow\")\n",
    "\n",
    "# Arc-capacity constraints\n",
    "m.addConstrs(\n",
    "    (flow.sum('*', i, j) <= capacity[i, j] for i, j in arcs), \"cap\")\n",
    "\n",
    "# Equivalent version using Python looping\n",
    "# for i, j in arcs:\n",
    "#   m.addConstr(sum(flow[h, i, j] for h in commodities) <= capacity[i, j],\n",
    "#               \"cap[%s, %s]\" % (i, j))\n",
    "\n",
    "\n",
    "# Flow-conservation constraints\n",
    "m.addConstrs(\n",
    "    (flow.sum(h, '*', j) + inflow[h, j] == flow.sum(h, j, '*')\n",
    "        for h in commodities for j in nodes), \"node\")\n",
    "\n",
    "# Alternate version:\n",
    "# m.addConstrs(\n",
    "#   (gp.quicksum(flow[h, i, j] for i, j in arcs.select('*', j)) + inflow[h, j] ==\n",
    "#     gp.quicksum(flow[h, j, k] for j, k in arcs.select(j, '*'))\n",
    "#     for h in commodities for j in nodes), \"node\")"
   ]
  },
  {
   "cell_type": "code",
   "execution_count": 41,
   "metadata": {
    "tags": []
   },
   "outputs": [
    {
     "output_type": "stream",
     "name": "stdout",
     "text": "Gurobi Optimizer version 9.0.3 build v9.0.3rc0 (linux64)\nOptimize a model with 16 rows, 12 columns and 36 nonzeros\nModel fingerprint: 0xc43e5943\nCoefficient statistics:\n  Matrix range     [1e+00, 1e+00]\n  Objective range  [1e+01, 8e+01]\n  Bounds range     [0e+00, 0e+00]\n  RHS range        [1e+01, 1e+02]\nPresolve removed 16 rows and 12 columns\nPresolve time: 0.01s\nPresolve: All rows and columns removed\nIteration    Objective       Primal Inf.    Dual Inf.      Time\n       0    5.5000000e+03   0.000000e+00   2.000000e+01      0s\nExtra one simplex iteration after uncrush\n       1    5.5000000e+03   0.000000e+00   0.000000e+00      0s\n\nSolved in 1 iterations and 0.01 seconds\nOptimal objective  5.500000000e+03\n\nOptimal flows for Pencils:\nDetroit -> Boston: 50\nDenver -> New York: 50\nDenver -> Seattle: 10\n\nOptimal flows for Pens:\nDetroit -> Boston: 30\nDetroit -> New York: 30\nDenver -> Boston: 10\nDenver -> Seattle: 30\n"
    }
   ],
   "source": [
    "# Compute optimal solution\n",
    "m.optimize()\n",
    "\n",
    "# Print solution\n",
    "if m.status == GRB.OPTIMAL:\n",
    "    solution = m.getAttr('x', flow)\n",
    "    for h in commodities:\n",
    "        print('\\nOptimal flows for %s:' % h)\n",
    "        for i, j in arcs:\n",
    "            if solution[h, i, j] > 0:\n",
    "                print('%s -> %s: %g' % (i, j, solution[h, i, j]))"
   ]
  },
  {
   "cell_type": "code",
   "execution_count": 43,
   "metadata": {
    "tags": []
   },
   "outputs": [
    {
     "output_type": "stream",
     "name": "stdout",
     "text": "Warning: variable name \"flow[Pencils,Detroit,New York]\" has a space\nWarning: constraint name \"cap[Detroit,New York]\" has a space\nWarning: to let Gurobi read it back, use rlp format\n"
    }
   ],
   "source": [
    "m.write(\"netflow.lp\")\n",
    "\n",
    "# open \"netflow.lp\" to check if the constraints were correct"
   ]
  },
  {
   "source": [
    "# A Simple Knapsack Example"
   ],
   "cell_type": "markdown",
   "metadata": {}
  },
  {
   "cell_type": "code",
   "execution_count": 11,
   "metadata": {},
   "outputs": [],
   "source": [
    "%reset -f\n",
    "from gurobipy import *\n",
    "import numpy as np"
   ]
  },
  {
   "cell_type": "code",
   "execution_count": 12,
   "metadata": {
    "tags": []
   },
   "outputs": [
    {
     "output_type": "stream",
     "name": "stdout",
     "text": "Changed value of parameter mipgap to 0.01\n   Prev: 0.0001  Min: 0.0  Max: inf  Default: 0.0001\nGurobi Optimizer version 9.0.3 build v9.0.3rc0 (linux64)\nOptimize a model with 1 rows, 50 columns and 50 nonzeros\nModel fingerprint: 0x6e8d5800\nVariable types: 0 continuous, 50 integer (50 binary)\nCoefficient statistics:\n  Matrix range     [5e+00, 1e+02]\n  Objective range  [6e+00, 1e+02]\n  Bounds range     [1e+00, 1e+00]\n  RHS range        [6e+02, 6e+02]\n\nLoaded user MIP start with objective 751.868\n\nPresolve time: 0.00s\nPresolved: 1 rows, 50 columns, 50 nonzeros\nVariable types: 0 continuous, 50 integer (50 binary)\n\nRoot relaxation: objective 1.439585e+03, 1 iterations, 0.00 seconds\n\n    Nodes    |    Current Node    |     Objective Bounds      |     Work\n Expl Unexpl |  Obj  Depth IntInf | Incumbent    BestBd   Gap | It/Node Time\n\n     0     0 1439.58480    0    1  751.86779 1439.58480  91.5%     -    0s\nH    0     0                    1402.3862760 1439.58480  2.65%     -    0s\nH    0     0                    1434.8180692 1439.58480  0.33%     -    0s\n     0     0 1439.58480    0    1 1434.81807 1439.58480  0.33%     -    0s\n\nExplored 1 nodes (1 simplex iterations) in 0.02 seconds\nThread count was 20 (of 40 available processors)\n\nSolution count 3: 1434.82 1402.39 751.868 \n\nOptimal solution found (tolerance 1.00e-02)\nBest objective 1.434818069160e+03, best bound 1.434818069160e+03, gap 0.0000%\n"
    }
   ],
   "source": [
    "# Build Data\n",
    "n = 50\n",
    "c = {}\n",
    "w = {}\n",
    "\n",
    "for i in range(n):\n",
    "    c[i] = np.random.uniform(low = 1, high = 100)\n",
    "    w[i] = np.random.uniform(low = 1, high = 100)\n",
    "b = sum(w)/2\n",
    "\n",
    "# Build Model\n",
    "m = Model()\n",
    "x = m.addVars(n, vtype = GRB.BINARY, name='x')\n",
    "\n",
    "m.setObjective(x.prod(c), GRB.MAXIMIZE)\n",
    "m.addConstr(x.prod(w) <= b)\n",
    "\n",
    "m.params.mipgap = 0.01 # 1% gap\n",
    "\n",
    "# Build Dumb Initial Solution\n",
    "usedb = 0\n",
    "for i in x:\n",
    "    if usedb + w[i] <= b: # ensure feasibility \n",
    "        x[i].setAttr('Start', 1)\n",
    "        usedb += w[i]\n",
    "    else:\n",
    "        x[i].setAttr('Start', 0)\n",
    "\n",
    "# Optimize\n",
    "m.optimize()"
   ]
  },
  {
   "cell_type": "code",
   "execution_count": 13,
   "metadata": {
    "tags": []
   },
   "outputs": [
    {
     "output_type": "stream",
     "name": "stdout",
     "text": "\nStatistics for model Unnamed :\n  Linear constraint matrix    : 1 Constrs, 50 Vars, 50 NZs\n  Variable types              : 0 Continuous, 50 Integer (50 Binary)\n  Matrix coefficient range    : [ 5.03616, 97.4027 ]\n  Objective coefficient range : [ 6.10904, 98.8143 ]\n  Variable bound range        : [ 1, 1 ]\n  RHS coefficient range       : [ 612.5, 612.5 ]\n\nSolution quality statistics for model Unnamed :\n  Maximum violation:\n    Bound       : 0.00000000e+00\n    Constraint  : 0.00000000e+00\n    Integrality : 0.00000000e+00\n"
    }
   ],
   "source": [
    "m.printStats()\n",
    "m.printQuality()"
   ]
  },
  {
   "cell_type": "code",
   "execution_count": null,
   "metadata": {},
   "outputs": [],
   "source": []
  }
 ]
}